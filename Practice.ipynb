{
 "cells": [
  {
   "cell_type": "markdown",
   "id": "7f588a9e",
   "metadata": {},
   "source": [
    "# • Practice Code :-"
   ]
  },
  {
   "cell_type": "code",
   "execution_count": 2,
   "id": "9fd38f73",
   "metadata": {},
   "outputs": [
    {
     "name": "stdout",
     "output_type": "stream",
     "text": [
      "Transfer disk 1 from S to D\n",
      "transfer disk 2 from S to H\n",
      "Transfer disk 1 from D to H\n",
      "transfer disk 3 from S to D\n",
      "Transfer disk 1 from H to S\n",
      "transfer disk 2 from H to D\n",
      "Transfer disk 1 from S to D\n",
      "None\n"
     ]
    }
   ],
   "source": [
    "# Recursion: 9.best Question:-\n",
    "# 1: Tower of hanoi...?\n",
    "# Rule:\n",
    "# 1. Only one disk transfared in 1 step.\n",
    "# 2. Smaller disks are always kept on top of larger disks.\n",
    "\n",
    "# Source = 'Src', Helper = 'helper', Destination = 'Dest'\n",
    "\n",
    "def tower_hanoi(n: int, src: str, helper: str, dest: str):\n",
    "    if n == 1:\n",
    "        print(f\"Transfer disk {n} from {src} to {dest}\")\n",
    "        return\n",
    "    \n",
    "    if n < 0:\n",
    "        raise ValueError(\"Can't be a Negative Integer\")\n",
    "    \n",
    "    tower_hanoi(n-1, src, dest, helper)\n",
    "    print(f\"transfer disk {n} from {src} to {dest}\")\n",
    "\n",
    "    tower_hanoi(n-1, helper, src, dest)\n",
    "\n",
    "print(tower_hanoi(3, 'S', 'H', 'D'))"
   ]
  },
  {
   "cell_type": "code",
   "execution_count": 3,
   "id": "23cf9eca",
   "metadata": {},
   "outputs": [
    {
     "name": "stdout",
     "output_type": "stream",
     "text": [
      "dcba\n"
     ]
    }
   ],
   "source": [
    "# Q : 2. Print a string in reverse Order..?\n",
    "def rev(strs: str, idx: int):\n",
    "    if idx == 0:\n",
    "        print(strs[idx])\n",
    "        return\n",
    "    \n",
    "    print(strs[idx], end=\"\")\n",
    "    rev(strs, idx - 1)\n",
    "\n",
    "strs = \"abcd\"\n",
    "rev(strs, len(strs)-1)"
   ]
  },
  {
   "cell_type": "code",
   "execution_count": 4,
   "id": "182dec2d",
   "metadata": {},
   "outputs": [
    {
     "name": "stdout",
     "output_type": "stream",
     "text": [
      "first:  0\n",
      "Last:  10\n"
     ]
    }
   ],
   "source": [
    "# Q: 3.Find the 1st & last occurrence of an element in String..?\n",
    "def find_Occurrence(strs: str, idx :int, element: chr, first :int = -1, last :int = -1):\n",
    "    if idx == len(strs)-1:\n",
    "        print(\"first: \", first)\n",
    "        print(\"Last: \", last)\n",
    "        return\n",
    "    \n",
    "    curchar = strs[idx]\n",
    "    if curchar == element:\n",
    "        if first == -1:\n",
    "            first = idx\n",
    "        else:\n",
    "            last = idx\n",
    "    find_Occurrence(strs, idx + 1, element, first, last)\n",
    "\n",
    "\n",
    "strs = \"abaacdasfaah\"\n",
    "find_Occurrence(strs, 0, 'a')"
   ]
  },
  {
   "cell_type": "code",
   "execution_count": 5,
   "id": "a60eb6ad",
   "metadata": {},
   "outputs": [
    {
     "name": "stdout",
     "output_type": "stream",
     "text": [
      "False\n"
     ]
    }
   ],
   "source": [
    "#Q: 4. check if an array is sorted strictly increasing Order..?\n",
    "\n",
    "def isSorted(arr: list, idx: int) -> bool:\n",
    "    if idx == len(arr) - 1: # if we have only one element.\n",
    "        return True\n",
    "    \n",
    "    if arr[idx] >= arr[idx + 1]:\n",
    "        return False\n",
    "    \n",
    "    return isSorted(arr, idx + 1)\n",
    "\n",
    "arr = [1, 2, 3, 5, 5, 6]\n",
    "print(isSorted(arr, 0))"
   ]
  },
  {
   "cell_type": "code",
   "execution_count": 6,
   "id": "236d89ae",
   "metadata": {},
   "outputs": [
    {
     "name": "stdout",
     "output_type": "stream",
     "text": [
      "abdcefhixxxxx\n"
     ]
    }
   ],
   "source": [
    "# Q: 5. Move all x to the end of the string..?\n",
    "def moveAllX(strs: str):\n",
    "    if len(strs) == 0:\n",
    "        return \"\" # newstring empty\n",
    "    \n",
    "    curr = strs[0] # first element idx\n",
    "    rest_ele = moveAllX(strs[1:]) # rest of the element slicing\n",
    "\n",
    "    if curr == 'x':\n",
    "        return rest_ele + curr\n",
    "    else:\n",
    "        return curr + rest_ele\n",
    "    \n",
    "strs = \"axxbdxcefxhix\"\n",
    "print(moveAllX(strs))"
   ]
  },
  {
   "cell_type": "code",
   "execution_count": 7,
   "id": "e6f86ab0",
   "metadata": {},
   "outputs": [],
   "source": [
    "# Q: 6. Remove duplicates from string..?\n",
    "def removeDuplicates(strs: str, idx: int, newstr: str):\n",
    "    if idx == len(strs):\n",
    "        print(newstr)\n",
    "        return\n",
    "    \n",
    "    # .....?\n",
    "    "
   ]
  },
  {
   "cell_type": "code",
   "execution_count": 1,
   "id": "89853b00",
   "metadata": {},
   "outputs": [
    {
     "name": "stdout",
     "output_type": "stream",
     "text": [
      "GCD :  6\n"
     ]
    }
   ],
   "source": [
    "# write a function that calculate the greatest common division of 2 number.\n",
    "\n",
    "n1 = int(input(\"Enter n1 : \"))\n",
    "n2 = int(input(\"Enter n2 : \"))\n",
    "\n",
    "while n1 != n2:\n",
    "    if n1 > n2:\n",
    "        n1 = n1 - n2\n",
    "    else:\n",
    "        n2 = n2 - n1\n",
    "\n",
    "print(\"GCD : \", n2)"
   ]
  },
  {
   "cell_type": "code",
   "execution_count": null,
   "id": "bd9b2a36",
   "metadata": {},
   "outputs": [
    {
     "name": "stdout",
     "output_type": "stream",
     "text": [
      "276.2815625000003\n"
     ]
    }
   ],
   "source": [
    "\"\"\" the formula for compound interest. The formula to calculate compound interest is: \n",
    "\n",
    "A = P*(1 + R/100)**t\n",
    "\n",
    "Compound Interest = A - P \n",
    "\n",
    "Where, \n",
    "\n",
    "A is amount \n",
    "P is the principal amount \n",
    "R is the rate and \n",
    "T is the time span\n",
    "\"\"\"\n",
    "\n",
    "\n",
    "def compound_interest(principal, rate, time):\n",
    "    amount = principal * (1 + rate/100) ** time\n",
    "    compound_interest = amount - principal\n",
    "    return compound_interest\n",
    "\n",
    "# Example usage \n",
    "principal = int(input(\"Enter the principal amount: \"))\n",
    "rate = float(input(\"Enter the rate of interest: \"))\n",
    "time = int(input(\"Enter the time in years: \"))\n",
    "\n",
    "print(\"%.3f\" % (compound_interest(principal, rate, time)))"
   ]
  },
  {
   "cell_type": "code",
   "execution_count": null,
   "id": "100bb011",
   "metadata": {},
   "outputs": [],
   "source": [
    "# Sorting :- \n",
    "# Bubble Sort : - \n",
    "\n",
    "def bubble_sort(arr):\n",
    "    n = len(arr)\n",
    "    for i in range(n - 1):\n",
    "        for j in range(n - i - 1):\n",
    "            if arr[j] > arr[j + 1]:\n",
    "                #swap\n",
    "                arr[j], arr[j + 1] = arr[j + 1], arr[j]\n",
    "    return arr\n",
    "\n",
    "# Example usage:\n",
    "arr = [7, 8, 3, 1, 2]\n",
    "print(bubble_sort(arr))"
   ]
  },
  {
   "cell_type": "code",
   "execution_count": null,
   "id": "fe6fd43b",
   "metadata": {},
   "outputs": [
    {
     "name": "stdout",
     "output_type": "stream",
     "text": [
      "[1, 2, 3, 4, 5, 7, 8, 11]\n"
     ]
    }
   ],
   "source": [
    "# Selection Sort :-\n",
    "\n",
    "def selct_sort(arr):\n",
    "    n = len(arr)\n",
    "    for i in range(n - 1): # loop for passes \n",
    "        min_idx = i  # assume current index is minimum\n",
    "        for j in range(i + 1, n): # find smaller element\n",
    "                if arr[j] < arr[min_idx]:\n",
    "                      min_idx = j\n",
    "                # swap if needed\n",
    "        arr[i], arr[min_idx] = arr[min_idx], arr[i]\n",
    "    return arr\n",
    "\n",
    "# Example usage:\n",
    "arr = [11, 5,4,7, 8, 3, 1, 2]\n",
    "print(selct_sort(arr))"
   ]
  },
  {
   "cell_type": "code",
   "execution_count": null,
   "id": "61752bdf",
   "metadata": {},
   "outputs": [
    {
     "name": "stdout",
     "output_type": "stream",
     "text": [
      "[1, 2, 3, 4, 5, 7, 8, 11]\n"
     ]
    }
   ],
   "source": [
    "# Insertion sort:-    time taken O(n^2)\n",
    "n = len(arr)\n",
    "def insertion_sort(arr):\n",
    "    for i in range(1, n): # start from the 2nd element\n",
    "        curr = arr[i] # current to be placed \n",
    "        j = i - 1  # compare with element on the left \n",
    "\n",
    "        # shift elements greater than current to the right\n",
    "        while j >= 0 and arr[j] > curr:\n",
    "            arr[j + 1] = arr[j]\n",
    "            j -= 1\n",
    "\n",
    "        # place the current element at correct position.\n",
    "        arr[j + 1] = curr\n",
    "    return arr\n",
    "\n",
    "# Example usage:\n",
    "arr = [11 ,5 , 4,7, 8, 3, 1, 2]\n",
    "print(insertion_sort(arr))"
   ]
  },
  {
   "cell_type": "code",
   "execution_count": null,
   "id": "ceeb2485",
   "metadata": {},
   "outputs": [
    {
     "name": "stdout",
     "output_type": "stream",
     "text": [
      "31.40\n"
     ]
    }
   ],
   "source": [
    "# write a function that takes in the radius as input and return the circumference of a circle ?\n",
    "\n",
    "# recursive\n",
    "def get_Circumference(radius):\n",
    "    return \"%.2f\" % (2 * 3.14 * radius)\n",
    "\n",
    "\n",
    "print(get_Circumference(5))"
   ]
  },
  {
   "cell_type": "code",
   "execution_count": null,
   "id": "d3bd19cd",
   "metadata": {},
   "outputs": [],
   "source": [
    "# Two number are entered by the user, x and n with a function to find the value of one number raised to the power of another ? x^n\n",
    "\n",
    "# recursive approach O(log n)\n",
    "def pow_x_to_n(x, n):\n",
    "    if n == 0:\n",
    "        return 1\n",
    "    if x == 0:\n",
    "        if n < 0:\n",
    "            raise ValueError(\"Math Error , 0 no raise to negative power\")\n",
    "        return 0\n",
    "    # handle the negative case\n",
    "    if n < 0:\n",
    "        return 1 / pow_x_to_n(x, abs(n))\n",
    "    \n",
    "    half = pow_x_to_n(x, n // 2)\n",
    "    if n % 2 == 0: # Even\n",
    "        return half * half\n",
    "    else: # ODD\n",
    "        return half * half * x\n",
    "\n",
    "print(pow_x_to_n(2, -3))\n"
   ]
  },
  {
   "cell_type": "code",
   "execution_count": null,
   "id": "76f64476",
   "metadata": {},
   "outputs": [],
   "source": [
    "# Take a array as input from the user, search for a given number x and print the index at which it occurs.\n",
    "\n",
    "# recursive\n",
    "def search_recursive(lst, x, index=0):\n",
    "    if index >= len(lst): # if my length is greater then the my list of index then return -1.\n",
    "        return -1\n",
    "    \n",
    "    if lst[index] == x:\n",
    "        return index\n",
    "    return search_recursive(lst, x, index + 1)\n",
    "\n",
    "print(search_recursive([2, 34, 45, 67, 89], 45))\n",
    "\n",
    "\n",
    "# 2-D array using numpy\n",
    "import numpy as np\n",
    "\n",
    "def search_2d(lst, x):\n",
    "    for i in range(len(lst)):\n",
    "        for j in range(len(lst[i])):\n",
    "            if lst[i][j] == x:\n",
    "                return (i, j)\n",
    "    return (-1, -1)\n",
    "\n",
    "# Example usage\n",
    "matrix = np.array([[1, 2, 3], [4, 5, 6], [7, 8, 9]])\n",
    "print(search_2d(matrix, 5))"
   ]
  },
  {
   "cell_type": "code",
   "execution_count": null,
   "id": "f439d511",
   "metadata": {},
   "outputs": [],
   "source": [
    "# recursively merge_Sort algorithm\n",
    "\n",
    "def merge_sort(arr, start, end):\n",
    "    if end - start > 1:\n",
    "        mid = (start + end) // 2\n",
    "        merge_sort(arr, start, mid)\n",
    "        merge_sort(arr, mid, end)\n",
    "        merge(arr, start, mid, end)\n",
    "\n",
    "def merge(arr, start, mid, end):\n",
    "    left, right = arr[start:mid], arr[mid:end]\n",
    "    i = j = 0\n",
    "    for k in range(start, end):\n",
    "        if i < len(left) and (j == len(right) or left[i] <= right[j]):\n",
    "            arr[k] = left[i]\n",
    "            i += 1\n",
    "        else:\n",
    "            arr[k] = right[j]\n",
    "            j += 1\n",
    "\n",
    "# Example:\n",
    "arr = [5, 2, 9, 1, 5, 7, 6]\n",
    "merge_sort(arr, 0, len(arr))\n",
    "print(arr)"
   ]
  },
  {
   "cell_type": "code",
   "execution_count": null,
   "id": "e15a2776",
   "metadata": {},
   "outputs": [],
   "source": [
    "# Quick Sort Algorithm:- \n"
   ]
  },
  {
   "cell_type": "code",
   "execution_count": null,
   "id": "346e5819",
   "metadata": {},
   "outputs": [],
   "source": [
    "# write a program to  Print all Prime numbers in an Interval means, given a range between x or y find all prime number in that range.\n",
    "\n",
    "def prime_interval(start, end):\n",
    "    if start < 0:\n",
    "        raise ValueError(\"Start of interval must be a non-negative integer.\")\n",
    "    \n",
    "    if start <= 1:\n",
    "        start = 2    \n",
    "    \n",
    "    if start > end:\n",
    "        # swap if start is greater than end\n",
    "        start, end = end, start\n",
    "\n",
    "    print(f\"Prime numbers between {start} and {end} are: \")\n",
    "\n",
    "    for i in range(start, end + 1): # range defined\n",
    "        for j in range(2, i + 1): # check for prime\n",
    "            if i % j == 0:\n",
    "                if i == j:\n",
    "                    print(i, end = \" \")\n",
    "                else:\n",
    "                    break\n",
    "\n",
    "start = int(input(\"Enter starting number of interval : \"))\n",
    "end = int(input(\"Enter ending  number of interval : \"))\n",
    "\n",
    "prime_interval(start, end)"
   ]
  },
  {
   "cell_type": "code",
   "execution_count": null,
   "id": "9d0a9afb",
   "metadata": {},
   "outputs": [
    {
     "name": "stdout",
     "output_type": "stream",
     "text": [
      "55\n"
     ]
    }
   ],
   "source": [
    "# N-th Fibonacci number :- \n",
    "# iterative using DP with space optimization: - O(n) time and O(1) space\n",
    "\n",
    "def fibo(n :int):\n",
    "    try:\n",
    "        if n < 0:\n",
    "            raise ValueError(\"Fibonacci number is not defined for negative numbers. \")\n",
    "        \n",
    "        if n == 0 or n == 1:\n",
    "            return n\n",
    "        \n",
    "        a, b = 0, 1\n",
    "        for i in range(n):\n",
    "            a, b = b, a + b  # swap:  a = b , b = a + b\n",
    "        return a\n",
    "    except ValueError:\n",
    "        return \"Invalid input.\"\n",
    "\n",
    "\n",
    "print(fibo(10))"
   ]
  },
  {
   "cell_type": "code",
   "execution_count": 11,
   "id": "9126e5a9",
   "metadata": {},
   "outputs": [
    {
     "name": "stdout",
     "output_type": "stream",
     "text": [
      "True\n"
     ]
    }
   ],
   "source": [
    "# Check if a Given Number is Fibonacci number ?\n",
    "def isfibo(num :int):\n",
    "    a , b = 0, 1\n",
    "    if num == 0 or num == 1:\n",
    "        return True\n",
    "    \n",
    "    while a != num:\n",
    "        # swap\n",
    "        a , b = b, a + b\n",
    "        if a == num:\n",
    "            return True\n",
    "    return False\n",
    "\n",
    "\n",
    "print(isfibo(55))"
   ]
  },
  {
   "cell_type": "code",
   "execution_count": null,
   "id": "1f381693",
   "metadata": {},
   "outputs": [
    {
     "name": "stdout",
     "output_type": "stream",
     "text": [
      "21\n"
     ]
    }
   ],
   "source": [
    "# Nth multiple of a number in Fibonacci Series..?\n",
    "def nth_multiple_fibo(n: int, m: int):\n",
    "    count = 0\n",
    "    a, b = 0, 1\n",
    "    if n <= 0 or m <= 0:\n",
    "        raise ValueError(\"n and m must be positive integers.\")\n",
    "    \n",
    "    if n == 1:\n",
    "        return 0 if m != 0 else 1 # comprehension\n",
    "    \n",
    "    while True:\n",
    "        a, b = b, a + b\n",
    "        if a % m == 0:\n",
    "            count += 1\n",
    "            if count == n:\n",
    "                return a\n",
    "            \n",
    "# Example usage:- \n",
    "print(nth_multiple_fibo(2, 3))"
   ]
  },
  {
   "cell_type": "code",
   "execution_count": null,
   "id": "71c01ff1",
   "metadata": {},
   "outputs": [],
   "source": [
    "# Find the largest and smallest digit in number.\n",
    "\n",
    "curr_max = -1  # smallest than any digit\n",
    "curr_mini = 10 # larger than any digit\n",
    "n = int(input('Enter a number: '))\n",
    "\n",
    "while n > 0:\n",
    "    digit = n % 10\n",
    "    if digit > curr_max:\n",
    "        curr_max = digit\n",
    "\n",
    "    if digit < curr_mini:\n",
    "        curr_mini = digit\n",
    "\n",
    "    n //= 10\n",
    "\n",
    "print(curr_max, curr_mini)"
   ]
  },
  {
   "cell_type": "code",
   "execution_count": 1,
   "id": "b73ff649",
   "metadata": {},
   "outputs": [
    {
     "name": "stdout",
     "output_type": "stream",
     "text": [
      "5\n"
     ]
    }
   ],
   "source": [
    "# Find the sum of digit of a number until it becomes a single digit.\n",
    "\n",
    "n = int(input('Enter a number: '))\n",
    "# until the number becomes single digit \n",
    "while n > 9: \n",
    "    sum = 0\n",
    "    while n != 0:\n",
    "        digit = n % 10\n",
    "        sum += digit\n",
    "        n //= 10\n",
    "    n = sum  # update n with the sum\n",
    "\n",
    "print(n)"
   ]
  },
  {
   "cell_type": "markdown",
   "id": "66178eb6",
   "metadata": {},
   "source": [
    "# College Code Practice :-"
   ]
  },
  {
   "cell_type": "code",
   "execution_count": null,
   "id": "d821491d",
   "metadata": {},
   "outputs": [],
   "source": [
    "# Q: write a program to enter a number then print the sum of all digit of the number which are not completing division by 3?\n",
    "\n",
    "n = int(input(\"Enter No: \"))\n",
    "sum = 0\n",
    "while n != 0:\n",
    "    digit = n % 10\n",
    "    if digit % 3 != 0:\n",
    "        sum += digit\n",
    "        n //= 10\n",
    "    \n",
    "print(sum)"
   ]
  },
  {
   "cell_type": "code",
   "execution_count": null,
   "id": "0a4a6130",
   "metadata": {},
   "outputs": [],
   "source": [
    "# Q: write a program to enter two number then print GCD of the numbers.\n",
    "\n",
    "a = int(input(\"Enter no: \"))\n",
    "b = int(input(\"Enter no: \"))\n",
    "\n",
    "if a > b :\n",
    "    minimum = b\n",
    "else:\n",
    "    minimum = a\n",
    "\n",
    "for i in range(1, minimum + 1):\n",
    "    rem1 = a % i\n",
    "    rem2 = b % i\n",
    "\n",
    "    if rem1 == 0 and rem2 == 0:\n",
    "        gcd = i\n",
    "\n",
    "print(gcd)"
   ]
  },
  {
   "cell_type": "code",
   "execution_count": null,
   "id": "ea08ef19",
   "metadata": {},
   "outputs": [
    {
     "name": "stdout",
     "output_type": "stream",
     "text": [
      "5\n"
     ]
    }
   ],
   "source": [
    "# Q: write a program to enter a number, then print the sum of all the digit of the which are prime.\n",
    "\n",
    "n = int(input(\"Enter No: \"))\n",
    "sum = 0\n",
    "while n != 0:\n",
    "    digit = n % 10\n",
    "    for i in range(2, digit + 1):\n",
    "        if digit % i == 0:\n",
    "            if i == digit:\n",
    "                sum += digit\n",
    "            else:\n",
    "                break\n",
    "    n = int(n / 10)\n",
    "print(sum)"
   ]
  },
  {
   "cell_type": "code",
   "execution_count": null,
   "id": "41caeaa1",
   "metadata": {},
   "outputs": [],
   "source": [
    "# write to program to enter some number then print the sum of all those number whose sum of even digit is great than 6?\n",
    "\n",
    "k = int(input(\"How many No: \"))\n",
    "sum = 0\n",
    "for i in range(k):\n",
    "    n = int(input(\"Enter your no: \"))\n",
    "    even_sum = 0\n",
    "    while n != 0:\n",
    "        rem = n % 10\n",
    "        if rem % 2 == 0:\n",
    "            even_sum += rem\n",
    "        n = int(n / 10)\n",
    "    if even_sum > 6:\n",
    "        sum += even_sum\n",
    "\n",
    "print(sum)"
   ]
  },
  {
   "cell_type": "code",
   "execution_count": null,
   "id": "c13e61ad",
   "metadata": {},
   "outputs": [],
   "source": [
    "# write a program to enter sum of n natural number?\n",
    "\n",
    "n = int(input(\"Enter No: \"))\n",
    "sum = 0\n",
    "for i in range(1, n + 1):\n",
    "    rem = n % 10\n",
    "    sum += rem\n",
    "    n //= 10\n",
    "\n",
    "print(sum)"
   ]
  },
  {
   "cell_type": "code",
   "execution_count": null,
   "id": "6ce8c106",
   "metadata": {},
   "outputs": [
    {
     "name": "stdout",
     "output_type": "stream",
     "text": [
      "1\n",
      "64\n",
      "125\n",
      "216\n",
      "729\n"
     ]
    }
   ],
   "source": [
    "# write a program to print all the armstrong number between 1 to 1000\n",
    "\n",
    "for n in range(1, 1001):\n",
    "    original = n\n",
    "    arm = 0   \n",
    "    \n",
    "    while n != 0:\n",
    "        rem = n % 10\n",
    "        arm += rem * rem * rem\n",
    "        n = int(n / 10)  # math.floor(n / 10)\n",
    "\n",
    "    if arm == original:\n",
    "        print(original)"
   ]
  },
  {
   "cell_type": "code",
   "execution_count": null,
   "id": "103f625d",
   "metadata": {},
   "outputs": [],
   "source": [
    "# # write a program to enter some number then print the sum of all those number which are palindrome ?\n",
    "\n",
    "k = int(input(\"How many No: \"))\n",
    "sum = 0 \n",
    "for i in range(k):\n",
    "    n = int(input(\"Enter your no: \"))\n",
    "    rev = 0\n",
    "    original = n\n",
    "    while n != 0:\n",
    "        rem = n % 10\n",
    "        rev = rev * 10 + rem\n",
    "        n = int(n / 10)\n",
    "\n",
    "    if original == rev:\n",
    "        sum += original\n",
    "\n",
    "print(sum)"
   ]
  },
  {
   "cell_type": "code",
   "execution_count": null,
   "id": "f8703501",
   "metadata": {},
   "outputs": [],
   "source": [
    "# write a program to enter a number then print the number in reverse order?\n",
    "\n",
    "nums = int(input(\"Enter your no: \"))\n",
    "rev = 0\n",
    "\n",
    "while nums != 0:\n",
    "    rem = nums % 10\n",
    "    rev = rev * 10 + rem\n",
    "    nums = int(nums / 10)\n",
    "\n",
    "print(rev)"
   ]
  },
  {
   "cell_type": "code",
   "execution_count": null,
   "id": "77b4ceb6",
   "metadata": {},
   "outputs": [],
   "source": [
    "# write a program to enter a number then count the number of digit?\n",
    "\n",
    "n = int(input(\"Enter your No: \"))\n",
    "count = 0\n",
    "\n",
    "while n != 0:\n",
    "    n = int(n / 10)\n",
    "    count = count + 1\n",
    "\n",
    "print(count)\n"
   ]
  },
  {
   "cell_type": "code",
   "execution_count": null,
   "id": "425a246d",
   "metadata": {},
   "outputs": [],
   "source": [
    "# write a program to check given a number is Palindrome or not ?\n",
    "\n",
    "n = int(input(\"Enter your No: \"))\n",
    "original = n\n",
    "rev = 0\n",
    "\n",
    "while n != 0:\n",
    "    rem = n % 10\n",
    "    rev = rev * 10 + rem\n",
    "    n = int(n / 10)\n",
    "\n",
    "if original == rev:\n",
    "    print(\"Palindrome\")\n",
    "else:\n",
    "    print(\"Not Palindrome\")\n"
   ]
  },
  {
   "cell_type": "code",
   "execution_count": null,
   "id": "00180dd2",
   "metadata": {},
   "outputs": [],
   "source": [
    "# Qno: write a program to enter some number then print sum of those number which are prime ?\n",
    "\n",
    "n = int(input(\"How many No: \"))\n",
    "sum = 0\n",
    "for i in range(n):\n",
    "    n = int(input(\"Enter your no:\"))\n",
    "    for j in range(2, n + 1):\n",
    "        if n % j == 0:\n",
    "            if j == n:\n",
    "                sum = sum + n\n",
    "            else:\n",
    "                break\n",
    "\n",
    "print(sum)"
   ]
  },
  {
   "cell_type": "code",
   "execution_count": null,
   "id": "a8c80921",
   "metadata": {},
   "outputs": [],
   "source": [
    "# Qno: write a program to enter a number then check wheather the number is prime or not.\n",
    "\n",
    "n = int(input(\"Enter no: \"))\n",
    "if n > 1:\n",
    "    for i in range(2, n + 1):\n",
    "        if n % i != 0:\n",
    "            print(\"Prime\")\n",
    "            break\n",
    "    else:\n",
    "        print(\"not prime\")\n"
   ]
  },
  {
   "cell_type": "code",
   "execution_count": null,
   "id": "bca35277",
   "metadata": {},
   "outputs": [],
   "source": [
    "# Qno: write s program to enter some number \n",
    "\n",
    "k = int(input(\"Enter How many no: \"))\n",
    "sum = 0 \n",
    "for i in range (k):\n",
    "    n = int(input(\"Enter no: \"))\n",
    "    last_d = n % 10\n",
    "    if last_d % 3 != 0:\n",
    "        sum += n\n",
    "\n",
    "print (sum)"
   ]
  },
  {
   "cell_type": "code",
   "execution_count": null,
   "id": "e96f035e",
   "metadata": {},
   "outputs": [
    {
     "name": "stdout",
     "output_type": "stream",
     "text": [
      "16\n"
     ]
    }
   ],
   "source": [
    "# write a program to enter a number then print the sum of all the digit of the number which are not prime?\n",
    "\n",
    "n = int(input(\"Enter No: \"))\n",
    "sum = 0\n",
    "ld = n % 10\n",
    "\n",
    "for i in range(2, ld + 1):\n",
    "    if ld % i == 0:\n",
    "        if ld != i:\n",
    "            sum = sum + ld\n",
    "        else:\n",
    "            break\n",
    "    n = n // 10\n",
    "\n",
    "print(sum)"
   ]
  },
  {
   "cell_type": "code",
   "execution_count": null,
   "id": "67a0a807",
   "metadata": {},
   "outputs": [],
   "source": [
    "# write a program to enter a number then print the sum of all digit of the number whose factorial is less than 120.\n",
    "\n",
    "n = int(input(\"Enter No: \"))\n",
    "sum = 0\n",
    "while n != 0:\n",
    "    digit = n % 10\n",
    "    fact = 1\n",
    "    for i in range(2, digit + 1):\n",
    "        fact = fact * i\n",
    "        if fact < 120:\n",
    "            sum += digit\n",
    "    n = n // 10\n",
    "\n",
    "print(sum)"
   ]
  },
  {
   "cell_type": "code",
   "execution_count": null,
   "id": "0d71b020",
   "metadata": {},
   "outputs": [
    {
     "name": "stdout",
     "output_type": "stream",
     "text": [
      "Both are prime\n"
     ]
    }
   ],
   "source": [
    "# write a program to enter a number then check wheather the first and last both digit prime or not ?\n",
    "\n",
    "n = int(input(\"Enter NO: \"))\n",
    "ld = n % 10\n",
    "\n",
    "flag1 = 0 # flag variable \n",
    "for i in range(2, ld + 1):\n",
    "    if ld % i == 0: # get the last digit <- first \n",
    "        if ld == i:\n",
    "            flag1 = 1\n",
    "        else:\n",
    "            break\n",
    "\n",
    "rev = 0 \n",
    "while n != 0:\n",
    "    r = n % 10 \n",
    "    rev = rev * 10 + r\n",
    "    n = int(n / 10)\n",
    "\n",
    "    fd  = rev % 10\n",
    "\n",
    "\n",
    "flag2 = 0 # flag variable \n",
    "for i in range(2, fd + 1):\n",
    "    if fd % i == 0:\n",
    "        if fd == i:\n",
    "            flag2 = 1\n",
    "        else:\n",
    "            break\n",
    "\n",
    "if flag1 == 1 and flag2 == 1:\n",
    "    print(\"Both are prime\")\n",
    "else:\n",
    "    print(\"One of the digit is not prime\")"
   ]
  },
  {
   "cell_type": "code",
   "execution_count": null,
   "id": "b32f277d",
   "metadata": {},
   "outputs": [],
   "source": [
    "# write a program to enter rollno, name and marks of 3 subject of student, compute total mark. if total mark is \n",
    "# > 170 then grade is \"A\", if total mark > 160 but <= 170 then grade is 'B' , if total mark > 150 but <= 160 \n",
    "# grade is 'C', otherwise grade is 'D'. print rollno, name , total marks and grade...\n",
    "\n",
    "rn = int(input(\"Enter roll no: \"))\n",
    "name = input(\"Enter name : \")\n",
    "mrk1 = int(input(\"Enter mark 1 : \"))\n",
    "mrk2 = int(input(\"Enter mark 2 : \"))\n",
    "mrk3 = int(input(\"Enter mark 3 : \"))\n",
    "\n",
    "total_mrk = mrk1 + mrk2 + mrk3\n",
    "\n",
    "if total_mrk > 170:\n",
    "    grade = 'A'\n",
    "else:\n",
    "    if total_mrk > 160 and total_mrk <= 170:\n",
    "        grade = 'B'\n",
    "    else:\n",
    "        if total_mrk > 150 and total_mrk <= 160:\n",
    "            grade = 'C'\n",
    "        else:\n",
    "            grade = 'D'\n",
    "\n",
    "print(rn)\n",
    "print(name)\n",
    "print(total_mrk)\n"
   ]
  },
  {
   "cell_type": "code",
   "execution_count": 27,
   "id": "9ab315e7",
   "metadata": {},
   "outputs": [
    {
     "name": "stdout",
     "output_type": "stream",
     "text": [
      "36\n"
     ]
    }
   ],
   "source": [
    "# find the least common multiple (LCM) of two number?\n",
    "\n",
    "n1 = int(input('Enter first: '))\n",
    "n2 = int(input('Enter second: '))\n",
    "\n",
    "# keep the original value of copies for lcm.\n",
    "a, b = n1, n2\n",
    "\n",
    "while n1 != n2:\n",
    "    if n1 > n2:\n",
    "        n1 = n1 - n2\n",
    "    else:\n",
    "        n2 = n2 - n1\n",
    "        \n",
    "gcd = n1\n",
    "lcm = (a * b) // gcd\n",
    "print(lcm)"
   ]
  },
  {
   "cell_type": "markdown",
   "id": "8b624c88",
   "metadata": {},
   "source": [
    "# Arrays: - "
   ]
  },
  {
   "cell_type": "code",
   "execution_count": null,
   "id": "a3b3811d",
   "metadata": {},
   "outputs": [
    {
     "name": "stdout",
     "output_type": "stream",
     "text": [
      "30 , 25\n"
     ]
    }
   ],
   "source": [
    "import array as arr\n",
    "\n",
    "arr = arr.array('i', [1, 2, 3, 4, 5 , 6, 7, 8 , 9, 10])\n",
    "even_sum = 0\n",
    "odd_sum = 0\n",
    "\n",
    "for i in range(10):\n",
    "    if arr[i] % 2 == 0:\n",
    "        even_sum += arr[i]\n",
    "    else:\n",
    "        odd_sum += arr[i]\n",
    "\n",
    "print(even_sum,\",\", odd_sum)"
   ]
  },
  {
   "cell_type": "code",
   "execution_count": null,
   "id": "c3aa6964",
   "metadata": {},
   "outputs": [
    {
     "name": "stdout",
     "output_type": "stream",
     "text": [
      "Sum of palindrome numbers: 45\n"
     ]
    }
   ],
   "source": [
    "# write a program to assign 10 number in 1D array, sum of all number which are palindrome ...\n",
    "import array as arr\n",
    "\n",
    "# define array\n",
    "ar = arr.array('i', [1, 2, 3, 4, 5 ,6, 7, 8, 9, 10])\n",
    "\n",
    "palin_sum = 0\n",
    "\n",
    "for i in range(10):\n",
    "    n = ar[i]\n",
    "    rev = 0\n",
    "    original = n  # keep a copy of original number\n",
    "    \n",
    "    while n != 0:\n",
    "        rem = n % 10\n",
    "        rev = rev * 10 + rem\n",
    "        n = int(n / 10)  # integer division\n",
    "    \n",
    "    if original == rev:  # palindrome check\n",
    "        palin_sum += original\n",
    "\n",
    "print(\"Sum of palindrome numbers:\", palin_sum)\n",
    "\n"
   ]
  },
  {
   "cell_type": "code",
   "execution_count": null,
   "id": "f29e51e5",
   "metadata": {},
   "outputs": [],
   "source": [
    "# write a program to store some number in 1-D array, then print the sum of all those number which are palindrome ?\n",
    "arr = []\n",
    "\n",
    "k = int(input(\"How many No: \")) # get the size of the array\n",
    "for i in range(k): # loop to get input and also append to the array.\n",
    "    n = int(input(\"Enter your no: \"))\n",
    "    arr.append(n)\n",
    "\n",
    "# palindrome sum\n",
    "sum = 0\n",
    "for i in range(k):\n",
    "    n = arr[i]\n",
    "    rev = 0\n",
    "    while n != 0:\n",
    "        rem = n % 10\n",
    "        rev = rev * 10 + rem\n",
    "        n = int(n / 10)\n",
    "    \n",
    "    if arr[i] == rev:\n",
    "        sum += arr[i]\n",
    "\n",
    "print(\"The sum of palindrome numbers is:\", sum)"
   ]
  },
  {
   "cell_type": "code",
   "execution_count": null,
   "id": "d9d87f7b",
   "metadata": {},
   "outputs": [],
   "source": [
    "# write a program to store some number in 1-D array, then print the sum of all those number which are prime ?\n",
    "arr = []\n",
    "\n",
    "k = int(input(\"How many No: \")) # get the size of the array\n",
    "for i in range(k):\n",
    "    n = int(input(\"Enter your no: \"))\n",
    "    arr.append(n)\n",
    "\n",
    "# prime sum\n",
    "sum = 0\n",
    "for i in range(k):\n",
    "    n = arr[i] # get each element\n",
    "    for j in range(2, n + 1):\n",
    "        if n % j == 0:\n",
    "            if j == n:\n",
    "                sum += n\n",
    "            else:\n",
    "                break\n",
    "\n",
    "print(\"The sum of prime numbers is:\", sum)"
   ]
  },
  {
   "cell_type": "code",
   "execution_count": null,
   "id": "0f514358",
   "metadata": {},
   "outputs": [],
   "source": [
    "# write a program to store some number in 1-D array, then print the sum of all those number which are armstrong ?\n",
    "arr = []\n",
    "\n",
    "n = int(input(\"How many No: \")) # get the size of the array\n",
    "for i in range(n):\n",
    "    n = int(input(\"Enter your no: \"))\n",
    "    arr.append(n)\n",
    "\n",
    "# armstrong sum\n",
    "sum = 0\n",
    "for i in range(n):\n",
    "    n = arr[i]\n",
    "    original = n\n",
    "    arm = 0\n",
    "    while n != 0:\n",
    "        rem = n % 10\n",
    "        arm = arm + rem * rem * rem\n",
    "        n = int(n / 10)\n",
    "    \n",
    "    if arm == original:\n",
    "        sum += original\n",
    "    \n",
    "print(\"The sum of armstrong numbers is:\", sum)\n"
   ]
  },
  {
   "cell_type": "code",
   "execution_count": null,
   "id": "61817f0e",
   "metadata": {},
   "outputs": [
    {
     "name": "stdout",
     "output_type": "stream",
     "text": [
      "5\n",
      "34\n",
      "45\n"
     ]
    }
   ],
   "source": [
    "# Sorting \n",
    "# Bubble :-\n",
    "\n",
    "# write a program to store some number in 1-D array then sort(Using bubble sort) them in ascending order and print sorted array.?\n",
    "\n",
    "arr = []\n",
    "k = int(input(\"How many number: \"))\n",
    "for i in range(k):\n",
    "    n = int(input(\"Enter your number: \"))\n",
    "    arr.append(n)\n",
    "\n",
    "for i in range(1, k):\n",
    "    for j in range(0, k - i):\n",
    "        if arr[j] > arr[j + 1]:\n",
    "            # swap \n",
    "            temp = arr[j]\n",
    "            arr[j] = arr[j + 1]\n",
    "            arr[j + 1] = temp\n",
    "\n",
    "for i in range(k):\n",
    "    print(arr[i], end=\"\")\n"
   ]
  },
  {
   "cell_type": "code",
   "execution_count": 3,
   "id": "dea2d907",
   "metadata": {},
   "outputs": [
    {
     "name": "stdout",
     "output_type": "stream",
     "text": [
      "54"
     ]
    }
   ],
   "source": [
    "# write a program to store some number in 1-D array and sort(Using bubble sort) them in descending order then print the sorted array.?\n",
    "\n",
    "arr = []\n",
    "k = int(input(\"How many number: \"))\n",
    "for i in range(k):\n",
    "    n = int(input(\"Enter your number: \"))\n",
    "    arr.append(n)\n",
    "\n",
    "for i in range(1, k):\n",
    "    for j in range(0, k - i):\n",
    "        if arr[j] < arr[j + 1]:\n",
    "            # swap\n",
    "            temp = arr[j]\n",
    "            arr[j] = arr[j + 1]\n",
    "            arr[j + 1] = temp\n",
    "\n",
    "for i in range(k):\n",
    "    print(arr[i], end=\"\")"
   ]
  },
  {
   "cell_type": "code",
   "execution_count": 1,
   "id": "40465306",
   "metadata": {},
   "outputs": [],
   "source": [
    "# write a program to store rollno, total marks, of some students in 1-D array then sort the in ascending order in total mark by, after sorting display the sorted array..?\n",
    "\n",
    "\n",
    "\n"
   ]
  }
 ],
 "metadata": {
  "kernelspec": {
   "display_name": "Python 3",
   "language": "python",
   "name": "python3"
  },
  "language_info": {
   "codemirror_mode": {
    "name": "ipython",
    "version": 3
   },
   "file_extension": ".py",
   "mimetype": "text/x-python",
   "name": "python",
   "nbconvert_exporter": "python",
   "pygments_lexer": "ipython3",
   "version": "3.11.8"
  }
 },
 "nbformat": 4,
 "nbformat_minor": 5
}
