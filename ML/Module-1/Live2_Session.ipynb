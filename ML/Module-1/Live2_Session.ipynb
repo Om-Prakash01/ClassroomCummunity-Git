{
 "cells": [
  {
   "cell_type": "code",
   "execution_count": 1,
   "id": "1ffd5453-2ac9-4581-9e2c-0a000de875ee",
   "metadata": {},
   "outputs": [],
   "source": [
    "# Live 2: let's solve slightly 'harder' problems than in the previous session\n",
    "#   - yesterday's focus :Simple programs, reading error-messages, reading references , fix bugs\n",
    "#   - Today's focus : Mathematical programming problems relevant to ML/AI, common-errors, testing code, loops/iteration and recursion.\n",
    "#   - Prereq: Python-programming. I will introduce \"new\" concepts as we go.\n",
    "#   - I have asked some of these problems and their variations in actual interviews."
   ]
  },
  {
   "cell_type": "code",
   "execution_count": 2,
   "id": "c4645124-236d-4e8f-889e-2d7f31a14c29",
   "metadata": {},
   "outputs": [],
   "source": [
    "# Problem 1: Find peaks/max in an list\n",
    "#    - problem definition"
   ]
  },
  {
   "cell_type": "code",
   "execution_count": 3,
   "id": "968dad47-37e8-41f2-98cb-a331719d503f",
   "metadata": {},
   "outputs": [
    {
     "name": "stdout",
     "output_type": "stream",
     "text": [
      "[1, 3, 4, 5, 7, 6, 4, 5, 10, 1]\n"
     ]
    }
   ],
   "source": [
    "a = [1, 3, 4, 5, 7, 6, 4, 5, 10, 1]\n",
    "print(a)"
   ]
  },
  {
   "cell_type": "code",
   "execution_count": 4,
   "id": "02fdccd8-b724-496d-88ce-7dada910041d",
   "metadata": {},
   "outputs": [
    {
     "name": "stdout",
     "output_type": "stream",
     "text": [
      "7 10 "
     ]
    }
   ],
   "source": [
    "# peaks : 7, 10\n",
    "\n",
    "#Arrive at the logic and what coding-constructs we hav eto use to solve it.\n",
    "\n",
    "# Peak : A[i-1] <= A[i] >= A[i+1]\n",
    "\n",
    "for i in range(1, len(a)-1):# don't use size functions for end of the list , it's will you error also 1 and -1 important\n",
    "    if (a[i] >= a[i-1]) and (a[i] >= a[i+1]):\n",
    "        print(a[i], end=\" \")\n",
    "\n",
    "\n",
    "# is it finished code ?\n",
    "# what if the peak element is on first position or last position ?\n"
   ]
  },
  {
   "cell_type": "code",
   "execution_count": 5,
   "id": "a08ff20b-e402-4a33-8d13-c8afbd4d1b57",
   "metadata": {},
   "outputs": [
    {
     "name": "stdout",
     "output_type": "stream",
     "text": [
      "7\n",
      "10\n"
     ]
    }
   ],
   "source": [
    "# full Code :- \n",
    "# Boundary case: DON'T MISS THEM, very important in interviews\n",
    "if a[0] >= a[1]:\n",
    "    print(a[0])\n",
    "\n",
    "for i in range(1, len(a)-1):\n",
    "    if (a[i] >= a[i-1]) and (a[i] >= a[i+1]):\n",
    "        print(a[i])\n",
    "        \n",
    "if a[len(a)-1] >= a[len(a)-2]:\n",
    "    print(a[len(a)-1])"
   ]
  },
  {
   "cell_type": "code",
   "execution_count": 6,
   "id": "a61280c4-e57d-4436-b556-fa0e16cb1c50",
   "metadata": {},
   "outputs": [],
   "source": [
    "# LESSON : DON'T FORGET BOUNDARY CASES\n",
    "\n",
    "# Question : Time Complexity :- O(n)"
   ]
  },
  {
   "cell_type": "code",
   "execution_count": 7,
   "id": "eba062c8-7b26-497c-b0bd-4f3d451247d4",
   "metadata": {},
   "outputs": [],
   "source": [
    "# Exercise Problem : Find peaks which are max values in a window of size 2 on both sides.\n"
   ]
  },
  {
   "cell_type": "code",
   "execution_count": 8,
   "id": "0222e081-f229-48a2-a2e5-baf9569b58d5",
   "metadata": {},
   "outputs": [],
   "source": [
    "\n",
    "# Problems 2:  Permutations of a list \n",
    "#    - Problems definition: list = [1, 2, 3]"
   ]
  },
  {
   "cell_type": "code",
   "execution_count": 9,
   "id": "bf68a58d-edce-4bb5-ab8d-7334a24374fc",
   "metadata": {},
   "outputs": [
    {
     "name": "stdout",
     "output_type": "stream",
     "text": [
      "(1, 2, 3)\n",
      "(1, 3, 2)\n",
      "(2, 1, 3)\n",
      "(2, 3, 1)\n",
      "(3, 1, 2)\n",
      "(3, 2, 1)\n"
     ]
    }
   ],
   "source": [
    " # Using libraries : the easy way\n",
    "from itertools import permutations\n",
    "\n",
    "p = permutations([1, 2, 3]) \n",
    "\n",
    "# what is an iterable module in python?\n",
    "# The itertools module in Python provides a collection of functions for efficient iteration and manipulation of iterators.\n",
    "# The permutations() function is a part of the itertools module and falls under the category of Combination Iterators.\n",
    "\n",
    "\n",
    "# print the permutations\n",
    "for i in p:\n",
    "    print(i)"
   ]
  },
  {
   "cell_type": "code",
   "execution_count": 10,
   "id": "c31c1ddb-5f5f-444a-a56f-f89aadecc73d",
   "metadata": {},
   "outputs": [
    {
     "name": "stdout",
     "output_type": "stream",
     "text": [
      "[[1, 2, 3], [1, 3, 2], [2, 1, 3], [2, 3, 1], [3, 1, 2], [3, 2, 1]]\n"
     ]
    }
   ],
   "source": [
    "# without using libraries , from scratch\n",
    "# Not an optimal code.\n",
    "\n",
    "def permutation(ele):\n",
    "    if len(ele) == 1:\n",
    "        return [ele]\n",
    "\n",
    "    all_perm = []  # Resulting list\n",
    "    for fixed_element in ele:\n",
    "        remaining_ele = ele.copy()\n",
    "        remaining_ele.remove(fixed_element)  # Remove one occurrence\n",
    "\n",
    "        sub_perm = permutation(remaining_ele)  # Recursive call\n",
    "\n",
    "        for partial_perm in sub_perm:\n",
    "            all_perm.append([fixed_element] + partial_perm)\n",
    "\n",
    "    return all_perm\n",
    "\n",
    "\n",
    "s = [1, 2, 3]\n",
    "p = permutation(s)\n",
    "print(p)"
   ]
  },
  {
   "cell_type": "code",
   "execution_count": 11,
   "id": "a0717c44-738e-43e4-b802-4cf6b82ea396",
   "metadata": {},
   "outputs": [],
   "source": [
    "# Exercise : [Combinations] All possible ways to pick 3 elements out 5 elements\n",
    "#    - HINT: Use recursion, Let work out the logic first! \" Pick one and recursion\"\n",
    "#    - Google \"Combinations in Python\" for libraries-based solution."
   ]
  },
  {
   "cell_type": "code",
   "execution_count": 12,
   "id": "5c975863-0cd9-4bbd-97bb-9600f918d957",
   "metadata": {},
   "outputs": [],
   "source": [
    "\n",
    "# Problem 3: SOlving for x: sin(x) = cos(x)\n",
    "#    - Plot cos(x)-sin(x) using google : \"plot cos(x)-sin(x)\""
   ]
  },
  {
   "cell_type": "code",
   "execution_count": 13,
   "id": "455e7c22-f1e0-4efc-8c5e-234bde69b83d",
   "metadata": {},
   "outputs": [],
   "source": [
    "# One possible value of x lies in [0, 1]"
   ]
  },
  {
   "cell_type": "code",
   "execution_count": 14,
   "id": "7e996a48-d961-4698-9a35-ce4682af59f0",
   "metadata": {},
   "outputs": [],
   "source": [
    "# Observation: cos(x)-sin(x) is monotonic in [0, 1]\n",
    "# HINT :-----"
   ]
  },
  {
   "cell_type": "code",
   "execution_count": 15,
   "id": "cd97e252-d45f-4d87-8415-4055baaf7e17",
   "metadata": {
    "scrolled": true
   },
   "outputs": [
    {
     "name": "stdout",
     "output_type": "stream",
     "text": [
      "0 1\n",
      "0.39815702328616975 0.5 1\n",
      "0.5 1\n",
      "0.050050108850486774 0.75 1\n",
      "0.75 1\n",
      "-0.12654664407270189 0.75 0.875\n",
      "0.75 0.875\n",
      "-0.038323093040207756 0.75 0.8125\n",
      "0.75 0.8125\n",
      "0.005866372111545948 0.78125 0.8125\n",
      "0.78125 0.8125\n",
      "-0.01623034166690196 0.78125 0.796875\n",
      "0.78125 0.796875\n",
      "-0.005182142923325084 0.78125 0.7890625\n",
      "0.78125 0.7890625\n",
      "0.00034211720425414427 0.78515625 0.7890625\n",
      "x: 0.78515625\t fun(x): 0.00034211720425414427\n"
     ]
    }
   ],
   "source": [
    "import math\n",
    "\n",
    "def fun(x):\n",
    "    return math.cos(x) - math.sin(x)\n",
    "\n",
    "# init\n",
    "x_lower = 0\n",
    "x_upper = 1\n",
    "x = (x_upper + x_lower) / 2\n",
    "\n",
    "# iterate\n",
    "while abs(fun(x)) > 0.001:  # stop when close to zero (both sides)\n",
    "    print(x_lower, x_upper)\n",
    "\n",
    "    x = (x_upper + x_lower) / 2  # middle point\n",
    "    if fun(x) > 0:  # adjust x_lower\n",
    "        x_lower = x\n",
    "    else:\n",
    "        x_upper = x  # adjust x_upper\n",
    "\n",
    "    print(fun(x), x_lower, x_upper)\n",
    "\n",
    "print(\"x: \" + str(x) + \"\\t fun(x): \" + str(fun(x)))"
   ]
  },
  {
   "cell_type": "code",
   "execution_count": 16,
   "id": "700fa449-d9f3-47ad-869b-b5955b1878c9",
   "metadata": {},
   "outputs": [],
   "source": [
    "# LESSON : Bisection-method uses binary search in the given interval.\n",
    "\n",
    "#Exercise : Solve for x in x^5 - x^4 + 2* x^3 - x^2 + x = 3\n",
    "#    - Follow the same steps as above"
   ]
  },
  {
   "cell_type": "code",
   "execution_count": 17,
   "id": "456dcaf9-1e80-4f08-beb8-08dfa11127ec",
   "metadata": {},
   "outputs": [],
   "source": [
    "# Problem 4: Find area under a curve sin(x)/x in the interval [-10, 10]\n",
    "#   - Google \"plot sin(x)/x\""
   ]
  },
  {
   "cell_type": "code",
   "execution_count": 18,
   "id": "1455e108-b7da-4e6e-8c70-1cec049cd31d",
   "metadata": {},
   "outputs": [
    {
     "name": "stdout",
     "output_type": "stream",
     "text": [
      "Approximated area under sin(x)/x from -10 to 10: 3.3111241816233536\n"
     ]
    }
   ],
   "source": [
    "import math \n",
    "\n",
    "def fun(x):\n",
    "    if x != 0:\n",
    "        return math.sin(x)/x\n",
    "    else:\n",
    "        return 1.0  # limit of sin(x)/x as x→0 is 1\n",
    "\n",
    "lower = -10 # lower bound\n",
    "upper = 10 # upper bound \n",
    "delta = 0.1 # smaller the better , but slower also\n",
    "\n",
    "x = lower\n",
    "area = 0\n",
    "\n",
    "while x <= upper:\n",
    "    # print(area, x, fun(x)) # print to ensure everything is working fine\n",
    "    \n",
    "    if x == 0:\n",
    "        fx = 1.0  # handle x=0 case properly\n",
    "    else:\n",
    "        fx = fun(x)\n",
    "\n",
    "    area += fx * delta\n",
    "    x += delta\n",
    "\n",
    "print(\"Approximated area under sin(x)/x from -10 to 10:\", area)"
   ]
  },
  {
   "cell_type": "code",
   "execution_count": 19,
   "id": "760ad34a-7c2d-4164-95d6-25e9e66d71c6",
   "metadata": {},
   "outputs": [],
   "source": [
    "# Exercise : Area under the curve for sin(x)/x in [-10, 10] using trapezoidal rule/sums"
   ]
  }
 ],
 "metadata": {
  "kernelspec": {
   "display_name": "Python 3",
   "language": "python",
   "name": "python3"
  },
  "language_info": {
   "codemirror_mode": {
    "name": "ipython",
    "version": 3
   },
   "file_extension": ".py",
   "mimetype": "text/x-python",
   "name": "python",
   "nbconvert_exporter": "python",
   "pygments_lexer": "ipython3",
   "version": "3.11.8"
  }
 },
 "nbformat": 4,
 "nbformat_minor": 5
}
