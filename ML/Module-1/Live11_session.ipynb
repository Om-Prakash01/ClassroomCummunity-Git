{
 "cells": [
  {
   "cell_type": "markdown",
   "id": "08f376c2",
   "metadata": {},
   "source": [
    "# How to Code effectively and build a Web-scraper..."
   ]
  },
  {
   "cell_type": "code",
   "execution_count": 2,
   "id": "6ac967e1",
   "metadata": {},
   "outputs": [],
   "source": [
    "# How to Code effectively:\n",
    "# a: Pre-requisite : knowledge of Python\n",
    "# b: Objective : Break down a problem , Learn to Learn , Don't fear new libraries, Experiment , Search and learn .\n",
    "\n",
    "# c : Simple Problems : Find if a Number is a Prime or Not?\n",
    "#   i : Write the logic using Condition, Loops & recursion by breaking down the problems ito smaller components (pseudo code)\n",
    "#  ii : Write Code.\n",
    "# iii : Debug by printing the variables in loops/recursion to understand the code better.\n",
    "# \n",
    "# \n",
    "# d : Problem 2: Print the frequencies of the number .\n",
    "#   i : Logic\n",
    "#  ii : Code\n",
    "# iii : Debug\n",
    "# \n",
    "# e : Practice , Practice and Practice \n",
    "#  link of geeks of geeks website..  \n",
    "\n",
    "\n",
    "# f : Read other code to learn good programming practices. But, you can't escape writing you own.\n",
    "# g : Writing optimized code would need you to understand DS and Algos.."
   ]
  },
  {
   "cell_type": "code",
   "execution_count": 1,
   "id": "78973470",
   "metadata": {},
   "outputs": [
    {
     "name": "stdout",
     "output_type": "stream",
     "text": [
      "Not Prime\n"
     ]
    }
   ],
   "source": [
    "n = int(input(\"Number : \"))\n",
    "\n",
    "if n <= 1:\n",
    "    print(\"invalid number\")\n",
    "    exit()\n",
    "\n",
    "for i in range(2, n):\n",
    "    if n % i == 0:\n",
    "        print(\"Not Prime\")\n",
    "        break\n",
    "else:\n",
    "    print(\"prime\")"
   ]
  },
  {
   "cell_type": "code",
   "execution_count": null,
   "id": "2b2af880",
   "metadata": {},
   "outputs": [
    {
     "name": "stdout",
     "output_type": "stream",
     "text": [
      "1     3\n",
      "2     3\n",
      "3     3\n",
      "4     3\n",
      "5     3\n",
      "7     2\n",
      "8     2\n",
      "57    1\n",
      "77    1\n",
      "9     1\n",
      "10    1\n",
      "Name: count, dtype: int64\n"
     ]
    },
    {
     "name": "stderr",
     "output_type": "stream",
     "text": [
      "C:\\Users\\ompra\\AppData\\Local\\Temp\\ipykernel_5036\\3073029143.py:6: FutureWarning: pandas.value_counts is deprecated and will be removed in a future version. Use pd.Series(obj).value_counts() instead.\n",
      "  print(value_counts(arr))\n",
      "C:\\Users\\ompra\\AppData\\Local\\Temp\\ipykernel_5036\\3073029143.py:6: FutureWarning: value_counts with argument that is not not a Series, Index, ExtensionArray, or np.ndarray is deprecated and will raise in a future version.\n",
      "  print(value_counts(arr))\n"
     ]
    }
   ],
   "source": [
    "from pandas import value_counts\n",
    "\n",
    "arr = [1, 1, 1, 2, 2, 2, 3, 3, 3, 4, 4, 4, 8, 8, 9, 10]\n",
    "\n",
    "print(value_counts(arr))"
   ]
  },
  {
   "cell_type": "markdown",
   "id": "ec34dee1",
   "metadata": {},
   "source": [
    "# 3 : Build a Simple web-scraper"
   ]
  },
  {
   "cell_type": "code",
   "execution_count": 11,
   "id": "cc8c1b2d",
   "metadata": {},
   "outputs": [],
   "source": [
    "#   a. :  what is a web-scraper?\n",
    "#   b. : Use API (Applications programming interface) if the website provides you one.\n",
    "#   c. : Simple Static System:\n",
    "#       i.  Logic\n",
    "#      ii.  Don't be afraid of new libraries and methods \n",
    "#     iii.  Beautiful Soup (module/library)\n",
    "\n",
    "\n",
    "\n",
    "\n",
    "# d. : Dynamic website:\n",
    "#     i. what is the problems with the earlier system?\n",
    "#    ii. Simulate a browser and get results.\n",
    "#   iii. Selenium: Just a bunch of functions and classes."
   ]
  },
  {
   "cell_type": "code",
   "execution_count": 10,
   "id": "5d122710",
   "metadata": {},
   "outputs": [],
   "source": [
    "from bs4 import BeautifulSoup\n"
   ]
  }
 ],
 "metadata": {
  "kernelspec": {
   "display_name": "Python 3",
   "language": "python",
   "name": "python3"
  },
  "language_info": {
   "codemirror_mode": {
    "name": "ipython",
    "version": 3
   },
   "file_extension": ".py",
   "mimetype": "text/x-python",
   "name": "python",
   "nbconvert_exporter": "python",
   "pygments_lexer": "ipython3",
   "version": "3.11.8"
  }
 },
 "nbformat": 4,
 "nbformat_minor": 5
}
