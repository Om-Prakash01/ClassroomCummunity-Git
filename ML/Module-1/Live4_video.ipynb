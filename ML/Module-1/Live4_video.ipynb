{
 "cells": [
  {
   "cell_type": "markdown",
   "id": "b4f60030",
   "metadata": {},
   "source": [
    "# LIVE 4: Problem in Python [Strings and Regex]1st session [Regex is just a short name of regular Expression]\n",
    "#   - Focus : Basic of string and regex in python + simple prblom solving \n",
    "#   - Prereq : Basic knowledge of string and regex in python + previous code-sessions."
   ]
  },
  {
   "cell_type": "code",
   "execution_count": 1,
   "id": "3e3fe3da-c74d-4b7a-9d31-5a3ae5824718",
   "metadata": {},
   "outputs": [],
   "source": [
    "# Quick recap of regex in python  [RegEx] --> regular expression\n",
    "#   - Go through multiple example to understand regex better \n",
    "#   - Key life-skill: learn from resouces on the internet.\n",
    "#    - go google search and read Python documentation carefully.\n",
    "#      w3school website is good and simple "
   ]
  },
  {
   "cell_type": "code",
   "execution_count": 2,
   "id": "5c76e95e-cbd3-4c39-9abe-c87415e53898",
   "metadata": {},
   "outputs": [],
   "source": [
    "# Important :-\n",
    "# RegEx is module :\n",
    "# module : Is nothing but a bunch of important functionality puts in together.\n",
    "\n",
    "# Regex : Regular expression , is a sequence of character that forms a search pattern."
   ]
  },
  {
   "cell_type": "code",
   "execution_count": 3,
   "id": "27361d02-42dd-4a58-9be7-dd24ac86abd4",
   "metadata": {},
   "outputs": [
    {
     "name": "stdout",
     "output_type": "stream",
     "text": [
      "<re.Match object; span=(0, 17), match='The rain in Spain'>\n"
     ]
    }
   ],
   "source": [
    "#  EXAMPLE \n",
    "# Search the string to see if it starts with \"The\" and end with \"Spain\":\n",
    "import re   # module\n",
    "txt = \"The rain in Spain\"\n",
    "x = re.search(\"^The.*Spain$\", txt) #starting '^' and ending '$'  , search google  for '.*'\n",
    "print(x)"
   ]
  },
  {
   "cell_type": "code",
   "execution_count": 4,
   "id": "d25e0da8-369b-45c2-a6b5-ce9ac93b5e45",
   "metadata": {},
   "outputs": [],
   "source": [
    "#   Problem 1: Mask personal information in email and phone numbers.\n",
    "#     - Email: xxxxxxxxxxxxxxx3@gmail.com\n",
    "#         -  Masked : x#####x@aaaa.zzzz [FIVE # between first and last char of the name]\n",
    "\n",
    "#     - Phone : digit 0-9 or any of the characters from {'-','(',')',''}\n",
    "#         -  Example: 1(234)567-890 --> ###-###-7890\""
   ]
  },
  {
   "cell_type": "code",
   "execution_count": 5,
   "id": "e23f1740-009f-43ab-83da-8deb30d02b9f",
   "metadata": {},
   "outputs": [
    {
     "name": "stdout",
     "output_type": "stream",
     "text": [
      "o######3@gmail.com\n"
     ]
    }
   ],
   "source": [
    "# email-masking\n",
    "# simple way\n",
    "email = \"omprakashbest3@gmail.com\"\n",
    "# output: o#####3@gmail.com\n",
    "\n",
    "def mask_email(email):\n",
    "    if '@' in email:\n",
    "        username , domain = email.split('@')\n",
    "        # return (\"{0}######{1}@{2}\".format(username[0], username[-1], domain)) # String formatting\n",
    "        return (f\"{username[0]}######{username[-1]}@{domain}\")  # string formatting for python 3 also can use \n",
    "\n",
    "print(mask_email(email))"
   ]
  },
  {
   "cell_type": "code",
   "execution_count": 6,
   "id": "ec7c34a1-2f9d-4318-aaa3-3576418358dd",
   "metadata": {},
   "outputs": [],
   "source": [
    "# WHERE IS BOUNDARY CASE ?\n",
    "# like my email has only single character in first (before '@')\n",
    "# ex:- a@bcdef.com\n",
    "\n",
    "\n",
    "# impt:-\n",
    "# check if email is valid is another function.??"
   ]
  },
  {
   "cell_type": "code",
   "execution_count": 7,
   "id": "b2bb87c0-4648-4e22-b6ee-2cf1c3cfa7af",
   "metadata": {},
   "outputs": [
    {
     "name": "stdout",
     "output_type": "stream",
     "text": [
      "None\n"
     ]
    }
   ],
   "source": [
    "# masking another     # not full complete it's error still ....\n",
    "# checking an email is valid or not \n",
    "import re\n",
    "regex_verbose = re.compile(r\"\"\"\n",
    "^\\w+([\\.-]?\\w+)*                        # start, \\w+,\n",
    "@                                       # single @ sign\n",
    "\\w+([\\.-]?\\w+)*                         # Domain name \n",
    "(\\.\\w{2, 3}) + $                        # .com, .ac.in, \n",
    "\"\"\", re.VERBOSE | re.IGNORECASE)\n",
    "\n",
    "res = regex_verbose.match(\"abcd@iisc.ac.in\")\n",
    "print(res)"
   ]
  },
  {
   "cell_type": "code",
   "execution_count": 8,
   "id": "a22a03d2-5678-4106-ba1d-eb7d21d35db0",
   "metadata": {},
   "outputs": [
    {
     "name": "stdout",
     "output_type": "stream",
     "text": [
      "9117148935\n",
      "###-###-8935\n"
     ]
    }
   ],
   "source": [
    "# PHONE NUMBER MASKING \n",
    "# Example : 1(234) 567-890 ---> ###-###-7890\n",
    "import re\n",
    "\n",
    "phone = \"91171()-*&$^###^**_48935\"\n",
    "\n",
    "digit = re.sub(\"\\D\", \"\", phone) # \\D=> non-decimal- digit, re.substitute. \n",
    "print (digit)\n",
    "\n",
    "\n",
    "masked = f\"###-###-{digit[-4:]}\" # String formatting \n",
    "print(masked)"
   ]
  },
  {
   "cell_type": "code",
   "execution_count": 9,
   "id": "b3ade0ee-e074-48ae-8fb0-e64e143d6747",
   "metadata": {},
   "outputs": [
    {
     "name": "stdout",
     "output_type": "stream",
     "text": [
      "Masked Phone Number: +91 ********10\n"
     ]
    }
   ],
   "source": [
    "# Exercise: 12 digits phone numbers with first 2 digits of ISD code starting with '+'\n",
    "#  e.g : +91 -(99)12345678 ---> (+91)-###-###-5678\n",
    "\n",
    "\n",
    "def mask_phone_num(phone_num):\n",
    "    # Remove spaces just in case\n",
    "    phone_num = phone_num.replace(\" \", \"\")\n",
    "    \n",
    "    # Extract ISD code (first 3 characters, e.g., +91)\n",
    "    isd_code = phone_num[:3]\n",
    "    \n",
    "    # Extract the remaining 10-digit local number\n",
    "    username_num = phone_num[3:]\n",
    "    \n",
    "    if len(username_num) != 10:\n",
    "        return \"Invalid phone number format.\"\n",
    "    \n",
    "    # Mask all digits except the last 2\n",
    "    masked_num = '*' * 8 + username_num[-2:]\n",
    "    \n",
    "    # Combine ISD code with masked number\n",
    "    return isd_code + ' ' + masked_num\n",
    "\n",
    "\n",
    "# Example usage\n",
    "phone = \"+91 9876543210\"\n",
    "masked = mask_phone_num(phone)\n",
    "print(\"Masked Phone Number:\", masked)\n"
   ]
  },
  {
   "cell_type": "code",
   "execution_count": 10,
   "id": "a375290e",
   "metadata": {},
   "outputs": [],
   "source": [
    "# Masking number\n",
    "class Masking(object):\n",
    "    #masking Number:- \n",
    "    \n",
    "    def mask_phone_num(self, phone_num):\n",
    "        # Remove spaces just in case\n",
    "        phone_num = phone_num.replace(\" \", \" \")\n",
    "    \n",
    "        # Extract ISD code (first 3 characters, e.g., +91)\n",
    "        isd_code = phone_num[:3]\n",
    "    \n",
    "        # Extract the remaining 10-digit local number\n",
    "        local_num = phone_num[3:]\n",
    "    \n",
    "        if len(local_num) != 10:\n",
    "            return \"Invalid phone number format.\"\n",
    "    \n",
    "        # Mask all digits except the last 2\n",
    "        masked_num = '*' * 8 + local_num[-2:]\n",
    "    \n",
    "        # Combine ISD code with masked number\n",
    "        return isd_code + ' ' + masked_num\n",
    "    \n",
    "\n",
    "        # Masking Email:- \n",
    "\n",
    "    def mask_email(self, email):\n",
    "        # split email into local part and domain\n",
    "        username, domain = email.split('@') # you can also use try and except fpr better error handling \n",
    "\n",
    "        if len(email) < 3: # Boundary case\n",
    "            return \"Invalid email format\"\n",
    "    \n",
    "        # keep first 2 letter, mask the rest (before @)\n",
    "        masked = username[0:2] + '*' * (len(username) - 2)\n",
    "\n",
    "        return masked + '@' + domain\n",
    "\n",
    "\n",
    "\n",
    "# # Example for number masking \n",
    "# msk = masking()\n",
    "# phone = \"+91 9876543210\"\n",
    "# print(\"Masked Phone Number:\", msk.mask_phone_num(phone))"
   ]
  }
 ],
 "metadata": {
  "kernelspec": {
   "display_name": "Python 3",
   "language": "python",
   "name": "python3"
  },
  "language_info": {
   "codemirror_mode": {
    "name": "ipython",
    "version": 3
   },
   "file_extension": ".py",
   "mimetype": "text/x-python",
   "name": "python",
   "nbconvert_exporter": "python",
   "pygments_lexer": "ipython3",
   "version": "3.11.8"
  }
 },
 "nbformat": 4,
 "nbformat_minor": 5
}
