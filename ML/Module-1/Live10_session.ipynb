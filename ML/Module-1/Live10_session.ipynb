{
 "cells": [
  {
   "cell_type": "markdown",
   "id": "c008fc53",
   "metadata": {},
   "source": [
    "# Code walkthrough--Pandas and NumPy -- ||   "
   ]
  },
  {
   "cell_type": "markdown",
   "id": "813dc476",
   "metadata": {},
   "source": [
    "# L1, L2 and L3\n",
    "# - Readability over Pythonic code if no hit to time and space complexity , especially when they are important.\n",
    "# - We will see many more examples in the code-walkthrough sessions when we use Pandas in other chapters."
   ]
  },
  {
   "cell_type": "markdown",
   "id": "1320d3f3",
   "metadata": {},
   "source": [
    "#   - Pandas Problems:"
   ]
  },
  {
   "cell_type": "code",
   "execution_count": 2,
   "id": "303b2ad1",
   "metadata": {},
   "outputs": [],
   "source": [
    "# Pandas Problems :- \n",
    "\n",
    "# Difficulty Level :- L1\n",
    "\n",
    "# Combine series1 and series2 to form a dataframe."
   ]
  },
  {
   "cell_type": "code",
   "execution_count": 3,
   "id": "a80306ac",
   "metadata": {},
   "outputs": [
    {
     "name": "stdout",
     "output_type": "stream",
     "text": [
      "0     a\n",
      "1     b\n",
      "2     c\n",
      "3     d\n",
      "4     e\n",
      "5     f\n",
      "6     g\n",
      "7     h\n",
      "8     i\n",
      "9     j\n",
      "10    k\n",
      "11    l\n",
      "12    m\n",
      "13    n\n",
      "14    o\n",
      "15    p\n",
      "16    q\n",
      "17    r\n",
      "18    s\n",
      "19    t\n",
      "20    u\n",
      "21    v\n",
      "22    w\n",
      "23    x\n",
      "24    y\n",
      "25    z\n",
      "dtype: object\n",
      "0      0\n",
      "1      1\n",
      "2      2\n",
      "3      3\n",
      "4      4\n",
      "5      5\n",
      "6      6\n",
      "7      7\n",
      "8      8\n",
      "9      9\n",
      "10    10\n",
      "11    11\n",
      "12    12\n",
      "13    13\n",
      "14    14\n",
      "15    15\n",
      "16    16\n",
      "17    17\n",
      "18    18\n",
      "19    19\n",
      "20    20\n",
      "21    21\n",
      "22    22\n",
      "23    23\n",
      "24    24\n",
      "25    25\n",
      "dtype: int64\n"
     ]
    }
   ],
   "source": [
    "import numpy as np \n",
    "import pandas as pd\n",
    "ser1 = pd.Series(list('abcdefghijklmnopqrstuvwxyz')) # we have to change this string into list , because series don't accept string directly.\n",
    "ser2 = pd.Series(np.arange(26))\n",
    "print(ser1)\n",
    "print(ser2)"
   ]
  },
  {
   "cell_type": "code",
   "execution_count": 4,
   "id": "ec2843bf",
   "metadata": {},
   "outputs": [
    {
     "name": "stdout",
     "output_type": "stream",
     "text": [
      "    0   1\n",
      "0   a   0\n",
      "1   b   1\n",
      "2   c   2\n",
      "3   d   3\n",
      "4   e   4\n",
      "5   f   5\n",
      "6   g   6\n",
      "7   h   7\n",
      "8   i   8\n",
      "9   j   9\n",
      "10  k  10\n",
      "11  l  11\n",
      "12  m  12\n",
      "13  n  13\n",
      "14  o  14\n",
      "15  p  15\n",
      "16  q  16\n",
      "17  r  17\n",
      "18  s  18\n",
      "19  t  19\n",
      "20  u  20\n",
      "21  v  21\n",
      "22  w  22\n",
      "23  x  23\n",
      "24  y  24\n",
      "25  z  25\n"
     ]
    }
   ],
   "source": [
    "# Solutions:- 1\n",
    "\n",
    "df = pd.concat([ser1, ser2], axis=1) # put them in list is important ser1 and ser2.\n",
    "print(df)\n",
    "\n",
    "\n",
    "# print(pd.concat([ser1, ser2])) # this one put them in a single both ser1 and ser2 (not prefer)"
   ]
  },
  {
   "cell_type": "code",
   "execution_count": 5,
   "id": "6ca8eeba",
   "metadata": {},
   "outputs": [
    {
     "name": "stdout",
     "output_type": "stream",
     "text": [
      "   col1  col2\n",
      "0     a     0\n",
      "1     b     1\n",
      "2     c     2\n",
      "3     d     3\n",
      "4     e     4\n",
      "5     f     5\n",
      "6     g     6\n",
      "7     h     7\n",
      "8     i     8\n",
      "9     j     9\n",
      "10    k    10\n",
      "11    l    11\n",
      "12    m    12\n",
      "13    n    13\n",
      "14    o    14\n",
      "15    p    15\n",
      "16    q    16\n",
      "17    r    17\n",
      "18    s    18\n",
      "19    t    19\n",
      "20    u    20\n",
      "21    v    21\n",
      "22    w    22\n",
      "23    x    23\n",
      "24    y    24\n",
      "25    z    25\n"
     ]
    }
   ],
   "source": [
    "# Solution:- 2\n",
    "df = pd.DataFrame({'col1':ser1, 'col2':ser2}) # this is also a good method to do this. using dictionary\n",
    "print(df)"
   ]
  },
  {
   "cell_type": "markdown",
   "id": "48e24809",
   "metadata": {},
   "source": [
    "# Difficulty level : L2\n",
    "# Q: from series1 remove items present in series2."
   ]
  },
  {
   "cell_type": "code",
   "execution_count": 6,
   "id": "c0cd3c8e",
   "metadata": {},
   "outputs": [],
   "source": [
    "import pandas as pd\n",
    "series1 = pd.Series([1, 2, 3, 4, 5])\n",
    "series2 = pd.Series([4, 5, 6, 7, 8])"
   ]
  },
  {
   "cell_type": "code",
   "execution_count": 7,
   "id": "c88f06af",
   "metadata": {},
   "outputs": [
    {
     "name": "stdout",
     "output_type": "stream",
     "text": [
      "0    False\n",
      "1    False\n",
      "2    False\n",
      "3     True\n",
      "4     True\n",
      "dtype: bool\n"
     ]
    }
   ],
   "source": [
    "print(series1.isin(series2)) # this will give boolean values"
   ]
  },
  {
   "cell_type": "code",
   "execution_count": 8,
   "id": "ca6cb35d",
   "metadata": {},
   "outputs": [
    {
     "name": "stdout",
     "output_type": "stream",
     "text": [
      "0    1\n",
      "1    2\n",
      "2    3\n",
      "dtype: int64\n"
     ]
    }
   ],
   "source": [
    "print(series1[ ~ series1.isin(series2)])"
   ]
  },
  {
   "cell_type": "markdown",
   "id": "d73d4eda",
   "metadata": {},
   "source": [
    "# Difficulty : L3\n",
    "# Extract the valid emails from the series emails. The regex pattern for valid email is provided as reference."
   ]
  },
  {
   "cell_type": "code",
   "execution_count": 9,
   "id": "665fcd66",
   "metadata": {},
   "outputs": [],
   "source": [
    "emails = pd.Series(['buying books at amazon.com', 'rameses@egypt.com', 'matt@t.co', 'narendra@modi.com'])\n",
    "pattern = '[A-Za-z0-9._%+-]+@[A-Za-z0-9.-]+\\\\.[A-Za-z]{2,4}'"
   ]
  },
  {
   "cell_type": "code",
   "execution_count": 10,
   "id": "dcb44f53",
   "metadata": {},
   "outputs": [
    {
     "name": "stdout",
     "output_type": "stream",
     "text": [
      "0                     []\n",
      "1    [rameses@egypt.com]\n",
      "2            [matt@t.co]\n",
      "3    [narendra@modi.com]\n",
      "dtype: object\n",
      "<class 'pandas.core.strings.accessor.StringMethods'>\n"
     ]
    }
   ],
   "source": [
    "import re \n",
    "print (emails.str.findall(pattern, flags=re.IGNORECASE))\n",
    "\n",
    "print(type(emails.str))"
   ]
  },
  {
   "cell_type": "markdown",
   "id": "438ebc98",
   "metadata": {},
   "source": [
    "# Difficulty: L3\n",
    "# Q:  Get the positions of peaks (values surrounded by smaller values on both sides) in series.\n",
    "#    - we can apply the same logic we used earlier on NumPy arrays and lists earlier using loops .\n",
    "#    - I prefer easy to read code if the time-complexity does not change much.\n",
    "#    - We will also see a pythonic code"
   ]
  },
  {
   "cell_type": "code",
   "execution_count": 11,
   "id": "8615e4b2",
   "metadata": {},
   "outputs": [
    {
     "name": "stdout",
     "output_type": "stream",
     "text": [
      "[ 8 -5 -1  5  1 -8  5 -4]\n",
      "[ 1 -1 -1  1  1 -1  1 -1]\n",
      "[-2  0  2  0 -2  2 -2]\n",
      "[1 5 7]\n"
     ]
    }
   ],
   "source": [
    "## Pythonic Code  Solutions:-\n",
    "\n",
    "seri = pd.Series([2, 10, 5, 4, 9, 10, 2, 7, 3])\n",
    "\n",
    "print(np.diff(seri)) # this will give difference between consecutive elements.\n",
    "\n",
    "print(np.sign(np.diff(seri)))\n",
    "\n",
    "dd = np.diff(np.sign(np.diff(seri)))\n",
    "print(dd)\n",
    "\n",
    "\n",
    "peak_locs = np.where(dd == -2) [0] + 1\n",
    "print(peak_locs) #  return index\n",
    "\n"
   ]
  },
  {
   "cell_type": "code",
   "execution_count": 12,
   "id": "f89f2eb5",
   "metadata": {},
   "outputs": [
    {
     "name": "stdout",
     "output_type": "stream",
     "text": [
      "(array([1, 5, 7]), {})\n"
     ]
    }
   ],
   "source": [
    "# Alternate approach using Scipy much faster...\n",
    "from scipy.signal import find_peaks\n",
    "\n",
    "peaks = find_peaks(seri)\n",
    "print(peaks)"
   ]
  },
  {
   "cell_type": "code",
   "execution_count": 13,
   "id": "13c01530",
   "metadata": {},
   "outputs": [
    {
     "data": {
      "text/plain": [
       "[1, 5, 7]"
      ]
     },
     "execution_count": 13,
     "metadata": {},
     "output_type": "execute_result"
    }
   ],
   "source": [
    "# Another Solution: using Loops (Non-Pythonic Code)\n",
    "\n",
    "def findPeaks(str):\n",
    "    result = [] # resultant peak indices\n",
    "\n",
    "    if str[0] > str[1]: # boundary case\n",
    "        result.append(0)\n",
    "\n",
    "    for i in range(1, str.size-1):\n",
    "        if (str[i] > str[i - 1] and (str[i] > str[i+1])):\n",
    "            result.append(i)\n",
    "        \n",
    "    if str[str.size-1] > str[str.size-2]: # boundary case\n",
    "        result.append(str.size-1)\n",
    "\n",
    "    return result\n",
    "\n",
    "findPeaks(seri)\n"
   ]
  },
  {
   "cell_type": "code",
   "execution_count": 14,
   "id": "b0500bd9",
   "metadata": {},
   "outputs": [
    {
     "data": {
      "text/plain": [
       "array([1, 5, 7])"
      ]
     },
     "execution_count": 14,
     "metadata": {},
     "output_type": "execute_result"
    }
   ],
   "source": [
    "# PYTHONIC FUNCTIONS (Numpy functionality using)\n",
    "def  find_PeaksPythonic(seri):\n",
    "    # Note: Numpy operations are implemented in C and Hence, will be much faster.\n",
    "    dd = np.diff(np.sign(np.diff(seri))) # Additional space O(n)\n",
    "    peak_loc = np.where(dd == -2) [0] + 1\n",
    "    return peak_locs\n",
    "\n",
    "find_PeaksPythonic(seri)"
   ]
  },
  {
   "cell_type": "code",
   "execution_count": null,
   "id": "eb37684b",
   "metadata": {},
   "outputs": [
    {
     "name": "stdout",
     "output_type": "stream",
     "text": [
      "0      80\n",
      "1      80\n",
      "2      69\n",
      "3      40\n",
      "4      78\n",
      "       ..\n",
      "495    85\n",
      "496    85\n",
      "497    75\n",
      "498    74\n",
      "499    80\n",
      "Length: 500, dtype: int32\n",
      " --- 2.2957215309143066 second ---\n"
     ]
    }
   ],
   "source": [
    "# Let Measure the time taken to run  of findPeaks function\n",
    "\n",
    "sRand = pd.Series(np.random.randint(0, 100, size=500))\n",
    "print(sRand)\n",
    "\n",
    "import time \n",
    "start_time = time.time() # return the current time , i think\n",
    "\n",
    "for i in range(1000):\n",
    "    findPeaks(sRand)\n",
    "\n",
    "end_time = time.time()\n",
    "\n",
    "print(\" --- %s second ---\" % (end_time - start_time))"
   ]
  },
  {
   "cell_type": "code",
   "execution_count": 16,
   "id": "5eec2c40",
   "metadata": {},
   "outputs": [
    {
     "name": "stdout",
     "output_type": "stream",
     "text": [
      " --- 0.03193926811218262 second ---\n"
     ]
    }
   ],
   "source": [
    "# taken time of find_peaksPythonic \n",
    "import time \n",
    "start_time = time.time() # return the current time , i think\n",
    "\n",
    "for i in range(1000):\n",
    "    find_PeaksPythonic(sRand)\n",
    "\n",
    "end_time = time.time()\n",
    "\n",
    "print(\" --- %s second ---\" % (end_time - start_time))"
   ]
  },
  {
   "cell_type": "markdown",
   "id": "62686cc8",
   "metadata": {},
   "source": [
    "# - Speed of Pythonic code >> Speed of non-pythonic code [In this case due to Numpy arrays being heavily optimized]\n",
    "# - Space Complexity of pythonic > Space Complexity of simple code\n",
    "# - Tradeoffs: Time, Space and Readability\n"
   ]
  },
  {
   "cell_type": "code",
   "execution_count": 17,
   "metadata": {},
   "outputs": [],
   "source": [
    "# Q: - From a series , Keep the top 2 most frequent items as it is and replace everything else as 'Other."
   ]
  },
  {
   "cell_type": "code",
   "execution_count": 49,
   "id": "509e541d",
   "metadata": {},
   "outputs": [
    {
     "name": "stdout",
     "output_type": "stream",
     "text": [
      "0     5\n",
      "1     4\n",
      "2     2\n",
      "3     5\n",
      "4     5\n",
      "5     6\n",
      "6     7\n",
      "7     4\n",
      "8     5\n",
      "9     4\n",
      "10    8\n",
      "11    8\n",
      "12    3\n",
      "13    5\n",
      "14    1\n",
      "15    3\n",
      "16    1\n",
      "17    7\n",
      "18    9\n",
      "19    2\n",
      "dtype: int32\n"
     ]
    }
   ],
   "source": [
    "np.random.RandomState(100)\n",
    "ser = pd.Series(np.random.randint(1, 10, [20]))\n",
    "print(ser)"
   ]
  },
  {
   "cell_type": "code",
   "execution_count": 51,
   "id": "c976ac62",
   "metadata": {},
   "outputs": [
    {
     "name": "stdout",
     "output_type": "stream",
     "text": [
      "5    5\n",
      "4    3\n",
      "2    2\n",
      "7    2\n",
      "8    2\n",
      "1    2\n",
      "3    2\n",
      "6    1\n",
      "9    1\n",
      "Name: count, dtype: int64\n",
      "<class 'pandas.core.series.Series'>\n"
     ]
    }
   ],
   "source": [
    "print(ser.value_counts())\n",
    "print(type(ser.value_counts()))"
   ]
  },
  {
   "cell_type": "code",
   "execution_count": 53,
   "id": "0e2bb0d3",
   "metadata": {},
   "outputs": [
    {
     "name": "stdout",
     "output_type": "stream",
     "text": [
      "Index([5, 4], dtype='int32')\n",
      "0         5\n",
      "1         4\n",
      "2     Other\n",
      "3         5\n",
      "4         5\n",
      "5     Other\n",
      "6     Other\n",
      "7         4\n",
      "8         5\n",
      "9         4\n",
      "10    Other\n",
      "11    Other\n",
      "12    Other\n",
      "13        5\n",
      "14    Other\n",
      "15    Other\n",
      "16    Other\n",
      "17    Other\n",
      "18    Other\n",
      "19    Other\n",
      "dtype: object\n"
     ]
    },
    {
     "name": "stderr",
     "output_type": "stream",
     "text": [
      "C:\\Users\\ompra\\AppData\\Local\\Temp\\ipykernel_9136\\975355611.py:3: FutureWarning: Setting an item of incompatible dtype is deprecated and will raise an error in a future version of pandas. Value 'Other' has dtype incompatible with int32, please explicitly cast to a compatible dtype first.\n",
      "  ser[~ser.isin(ser.value_counts().index[:2])] = 'Other'\n"
     ]
    }
   ],
   "source": [
    "print(ser.value_counts().index[:2])\n",
    "\n",
    "ser[~ser.isin(ser.value_counts().index[:2])] = 'Other'\n",
    "print(ser)"
   ]
  },
  {
   "cell_type": "markdown",
   "id": "78deb330",
   "metadata": {},
   "source": [
    "# NumPy Problems :- \n"
   ]
  },
  {
   "cell_type": "code",
   "execution_count": null,
   "id": "0519f050",
   "metadata": {},
   "outputs": [],
   "source": [
    "# Q: Replace all odd numbers in arr with -1 without changing arr\n",
    "\n",
    "import numpy as np"
   ]
  },
  {
   "cell_type": "code",
   "execution_count": 22,
   "id": "46e4a8e2",
   "metadata": {},
   "outputs": [],
   "source": [
    "arr = np.array([0, 1, 2, 3,4, 5, 6, 7, 8])"
   ]
  },
  {
   "cell_type": "code",
   "execution_count": 23,
   "id": "7af2e69e",
   "metadata": {},
   "outputs": [
    {
     "name": "stdout",
     "output_type": "stream",
     "text": [
      "[ 0 -1  2 -1  4 -1  6 -1  8]\n",
      "[0 1 2 3 4 5 6 7 8]\n"
     ]
    }
   ],
   "source": [
    "out = np.where(arr % 2 == 1, -1, arr) # (Condition, replace, your array)\n",
    "print(out)\n",
    "print(arr)"
   ]
  },
  {
   "cell_type": "code",
   "execution_count": 24,
   "id": "66f633f8",
   "metadata": {},
   "outputs": [],
   "source": [
    "# Q : Filter the rows of iris_2nd that has petallength (3rd column) > 1.5 and sepallength (1st column) < 5.0\n",
    "\n",
    "# solution brief:-\n",
    "# url = ......\n",
    "# iris_2d = np.genfromtxt(url, delimiter=',' , dtype= 'float' , usecols= [0, 1, 2, 3, 4])\n",
    "# print(iris_2nd)"
   ]
  },
  {
   "cell_type": "code",
   "execution_count": 25,
   "id": "187f1fb1",
   "metadata": {},
   "outputs": [],
   "source": [
    "# Q : Select the rows of iris_2nd that does not have any nan value.\n",
    "\n",
    "# solution brief:-\n",
    "# url = ......\n",
    "# iris_2d = np.genfromtxt(url, delimiter=',' , dtype= 'float' , usecols= [0, 1, 2, 3, 4])\n",
    "# print(iris_2nd)"
   ]
  },
  {
   "cell_type": "code",
   "execution_count": 26,
   "id": "bc47fc2e",
   "metadata": {},
   "outputs": [],
   "source": [
    "# make values in random columns and rows = NAN\n",
    "# iris_2d[np.random.randint(150, size=20), np.random.randint(4, size=20)] = np.nan\n",
    "# print(iris_2d)"
   ]
  },
  {
   "cell_type": "code",
   "execution_count": 27,
   "id": "2c2fdef2",
   "metadata": {},
   "outputs": [],
   "source": [
    "# another way:-\n",
    "# print(~ np.any(np.isnan(row)) for row in iris_2d)"
   ]
  },
  {
   "cell_type": "code",
   "execution_count": 28,
   "id": "dd1e1537",
   "metadata": {},
   "outputs": [],
   "source": [
    "# any_nan_in_row = np.array([~ np.any(np.isnan(row)) for row in iris_2d])\n",
    "\n",
    "# print(iris_2d[any_nan_in_row])"
   ]
  },
  {
   "cell_type": "code",
   "execution_count": 29,
   "id": "0d13a62e",
   "metadata": {},
   "outputs": [],
   "source": [
    "# Q : Sort the iris dataset based on sepallength column."
   ]
  },
  {
   "cell_type": "markdown",
   "id": "a6fc5dc6",
   "metadata": {},
   "source": [
    "# Q: find the duplicate entries (2nd occurrence onwards) in the given numpy array and mark them as true. First time occurrence should be false."
   ]
  },
  {
   "cell_type": "code",
   "execution_count": null,
   "id": "48943d3b",
   "metadata": {},
   "outputs": [
    {
     "name": "stdout",
     "output_type": "stream",
     "text": [
      "[0 0 3 0 2 4 2 2 2 2]\n"
     ]
    }
   ],
   "source": [
    "import numpy as np\n",
    "\n",
    "np.random.seed(100)\n",
    "a = np.random.randint(0, 5, 10)\n",
    "print(a)\n",
    "\n",
    "\n",
    "# output: [false True false true false false  true true true true]"
   ]
  },
  {
   "cell_type": "code",
   "execution_count": 31,
   "id": "289bc78e",
   "metadata": {},
   "outputs": [
    {
     "name": "stdout",
     "output_type": "stream",
     "text": [
      "[ True  True  True  True  True  True  True  True  True  True]\n",
      "<class 'tuple'>\n",
      "[False  True False  True False False  True  True  True  True]\n"
     ]
    }
   ],
   "source": [
    "# Create an all True array\n",
    "out = np.full(a.shape[0], True) # all True\n",
    "print(out) # for clarity...\n",
    "\n",
    "# find the index positions of unique elements\n",
    "unique_positions = np.unique(a, return_index = True) [1]\n",
    "print(type(np.unique(a, return_index = True)))\n",
    "\n",
    "# Mark those positions as false\n",
    "out[unique_positions] = False\n",
    "\n",
    "print(out)"
   ]
  },
  {
   "cell_type": "markdown",
   "id": "2310fc75",
   "metadata": {},
   "source": [
    "# Takeaways:-\n",
    "\n",
    "# 1. Break a problems into it's sub components \n",
    "# 2. Try to write pythonic code if you can for each sub-component\n",
    "# 3. Else, use loops and other control flow statements."
   ]
  }
 ],
 "metadata": {
  "kernelspec": {
   "display_name": "Python 3",
   "language": "python",
   "name": "python3"
  },
  "language_info": {
   "codemirror_mode": {
    "name": "ipython",
    "version": 3
   },
   "file_extension": ".py",
   "mimetype": "text/x-python",
   "name": "python",
   "nbconvert_exporter": "python",
   "pygments_lexer": "ipython3",
   "version": "3.11.8"
  }
 },
 "nbformat": 4,
 "nbformat_minor": 5
}
