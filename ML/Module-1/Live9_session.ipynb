{
 "cells": [
  {
   "cell_type": "markdown",
   "id": "2ddef2a6",
   "metadata": {},
   "source": [
    "# Pandas \n",
    "# - Common mistakes \n",
    "# - Reading Documentation + Google Search +  Fix bugs\n",
    "# - Code walkthrough of Common operations\n",
    "# Pre - requisites : LIVE sessions in Python programming + Course videos"
   ]
  },
  {
   "cell_type": "code",
   "execution_count": 1,
   "id": "de439746",
   "metadata": {},
   "outputs": [
    {
     "name": "stdout",
     "output_type": "stream",
     "text": [
      "     date  temperature_F  temperature_C  humidity_pct  Events  is_rain\n",
      "0   Jan 1             27          -2.78            45   sunny    False\n",
      "1   Jan 2             31          -0.56            50  cloudy    False\n",
      "2   Jan 3             23          -5.00            55   rainy     True\n",
      "3   Jan 4             34           1.11            60   sunny    False\n",
      "4   Jan 5             37           2.78            65   sunny    False\n",
      "5   Jan 6             38           3.33            70   rainy     True\n",
      "6   Jan 7             29          -1.67            75  cloudy    False\n",
      "7   Jan 8             30          -1.11            80     fog    False\n",
      "8   Jan 9             35           1.67            85   rainy     True\n",
      "9  Jan 10             30          -1.11            90  cloudy    False\n"
     ]
    }
   ],
   "source": [
    "# now we will see in pandas from data.csv in the same folder\n",
    "import pandas as pd\n",
    "df = pd.read_csv(r'D:\\LEARNING\\data.csv')\n",
    "print(df.to_string())"
   ]
  },
  {
   "cell_type": "code",
   "execution_count": 2,
   "id": "6b69b92c",
   "metadata": {},
   "outputs": [
    {
     "name": "stdout",
     "output_type": "stream",
     "text": [
      "Hi\\nHello\n",
      "Hi\n",
      "Hello\n"
     ]
    }
   ],
   "source": [
    "# Q : Raw-string for filenames\n",
    "import pandas as pd \n",
    "df = pd.read_csv(r'D:\\LEARNING\\data.csv') # r = raw string\n",
    "\n",
    "raw_string = r'Hi\\nHello'\n",
    "print(raw_string)\n",
    "\n",
    "s = 'Hi\\nHello'\n",
    "print(s)"
   ]
  },
  {
   "cell_type": "code",
   "execution_count": 3,
   "id": "5c055835",
   "metadata": {},
   "outputs": [
    {
     "name": "stdout",
     "output_type": "stream",
     "text": [
      "     date  temperature_F  temperature_C  humidity_pct  Events  is_rain\n",
      "0   Jan 1             27          -2.78            45   sunny    False\n",
      "1   Jan 2             31          -0.56            50  cloudy    False\n",
      "2   Jan 3             23          -5.00            55   rainy     True\n",
      "3   Jan 4             34           1.11            60   sunny    False\n",
      "4   Jan 5             37           2.78            65   sunny    False\n",
      "5   Jan 6             38           3.33            70   rainy     True\n",
      "6   Jan 7             29          -1.67            75  cloudy    False\n",
      "7   Jan 8             30          -1.11            80     fog    False\n",
      "8   Jan 9             35           1.67            85   rainy     True\n",
      "9  Jan 10             30          -1.11            90  cloudy    False\n"
     ]
    }
   ],
   "source": [
    "# Dealing with file-paths across various OS.\n",
    "\n",
    "# Python 3 has pathlib to simplify (things like) file-path manipulations.\n",
    "import pandas as pd\n",
    "from pathlib import Path\n",
    "\n",
    "data_folder = Path(\"D:/LEARNING\") # give the folder path\n",
    "\n",
    "file_to_open = data_folder / \"data.csv\"\n",
    "df = pd.read_csv(file_to_open)\n",
    "\n",
    "print(df) # printing the DataFrame"
   ]
  },
  {
   "cell_type": "code",
   "execution_count": 4,
   "id": "cfd54e9f",
   "metadata": {},
   "outputs": [
    {
     "data": {
      "text/html": [
       "<div>\n",
       "<style scoped>\n",
       "    .dataframe tbody tr th:only-of-type {\n",
       "        vertical-align: middle;\n",
       "    }\n",
       "\n",
       "    .dataframe tbody tr th {\n",
       "        vertical-align: top;\n",
       "    }\n",
       "\n",
       "    .dataframe thead th {\n",
       "        text-align: right;\n",
       "    }\n",
       "</style>\n",
       "<table border=\"1\" class=\"dataframe\">\n",
       "  <thead>\n",
       "    <tr style=\"text-align: right;\">\n",
       "      <th></th>\n",
       "      <th>date</th>\n",
       "    </tr>\n",
       "  </thead>\n",
       "  <tbody>\n",
       "    <tr>\n",
       "      <th>0</th>\n",
       "      <td>Jan 1</td>\n",
       "    </tr>\n",
       "    <tr>\n",
       "      <th>1</th>\n",
       "      <td>Jan 2</td>\n",
       "    </tr>\n",
       "    <tr>\n",
       "      <th>2</th>\n",
       "      <td>Jan 3</td>\n",
       "    </tr>\n",
       "    <tr>\n",
       "      <th>3</th>\n",
       "      <td>Jan 4</td>\n",
       "    </tr>\n",
       "    <tr>\n",
       "      <th>4</th>\n",
       "      <td>Jan 5</td>\n",
       "    </tr>\n",
       "    <tr>\n",
       "      <th>5</th>\n",
       "      <td>Jan 6</td>\n",
       "    </tr>\n",
       "    <tr>\n",
       "      <th>6</th>\n",
       "      <td>Jan 7</td>\n",
       "    </tr>\n",
       "    <tr>\n",
       "      <th>7</th>\n",
       "      <td>Jan 8</td>\n",
       "    </tr>\n",
       "    <tr>\n",
       "      <th>8</th>\n",
       "      <td>Jan 9</td>\n",
       "    </tr>\n",
       "    <tr>\n",
       "      <th>9</th>\n",
       "      <td>Jan 10</td>\n",
       "    </tr>\n",
       "  </tbody>\n",
       "</table>\n",
       "</div>"
      ],
      "text/plain": [
       "     date\n",
       "0   Jan 1\n",
       "1   Jan 2\n",
       "2   Jan 3\n",
       "3   Jan 4\n",
       "4   Jan 5\n",
       "5   Jan 6\n",
       "6   Jan 7\n",
       "7   Jan 8\n",
       "8   Jan 9\n",
       "9  Jan 10"
      ]
     },
     "execution_count": 4,
     "metadata": {},
     "output_type": "execute_result"
    }
   ],
   "source": [
    "# Q: what's the difference between  df['index'] & df[['index']]\n",
    "\n",
    "df['date'] # Series\n",
    "df[['date']] # DataFrame"
   ]
  },
  {
   "cell_type": "code",
   "execution_count": 5,
   "id": "571c3838",
   "metadata": {},
   "outputs": [
    {
     "name": "stdout",
     "output_type": "stream",
     "text": [
      "<class 'pandas.core.series.Series'>\n",
      "<class 'pandas.core.frame.DataFrame'>\n"
     ]
    }
   ],
   "source": [
    "print(type(df['date']))  # Series is a vector\n",
    "print(type(df[['date']])) # DataFrame is a sequence of series object, DF:matrix\n",
    "\n",
    "# So, the series is the data structure for a single column of a DataFrame, while the DataFrame is a collection of Series objects.\n",
    "# Not Only Conceptually, but literally i.e\n",
    "# tha data in a Dataframe  is actually stored in memory as a collection of Series objects."
   ]
  },
  {
   "cell_type": "code",
   "execution_count": 6,
   "id": "fbd5c6d4",
   "metadata": {},
   "outputs": [
    {
     "name": "stdout",
     "output_type": "stream",
     "text": [
      "     date  temperature_F\n",
      "0   Jan 1             27\n",
      "1   Jan 2             31\n",
      "2   Jan 3             23\n",
      "3   Jan 4             34\n",
      "4   Jan 5             37\n",
      "5   Jan 6             38\n",
      "6   Jan 7             29\n",
      "7   Jan 8             30\n",
      "8   Jan 9             35\n",
      "9  Jan 10             30\n"
     ]
    }
   ],
   "source": [
    "print(df[['date', 'temperature_F']]) # if you to print 2 or more columns at once put in double brackets."
   ]
  },
  {
   "cell_type": "code",
   "execution_count": 7,
   "id": "5324b797",
   "metadata": {},
   "outputs": [
    {
     "name": "stdout",
     "output_type": "stream",
     "text": [
      "date             Jan 1\n",
      "temperature_F       27\n",
      "temperature_C    -2.78\n",
      "humidity_pct        45\n",
      "Events           sunny\n",
      "is_rain          False\n",
      "Name: 0, dtype: object\n",
      "     date  temperature_F\n",
      "0   Jan 1             27\n",
      "1   Jan 2             31\n",
      "2   Jan 3             23\n",
      "3   Jan 4             34\n",
      "4   Jan 5             37\n",
      "5   Jan 6             38\n",
      "6   Jan 7             29\n",
      "7   Jan 8             30\n",
      "8   Jan 9             35\n",
      "9  Jan 10             30\n"
     ]
    }
   ],
   "source": [
    "#loc: label-based accessing\n",
    "print(df.loc[0]) # first row\n",
    "print(df.loc[:, ['date', 'temperature_F']]) # all rows for specific columns # list of columns names\n"
   ]
  },
  {
   "cell_type": "code",
   "execution_count": 8,
   "id": "7ca15818",
   "metadata": {},
   "outputs": [
    {
     "data": {
      "text/html": [
       "<div>\n",
       "<style scoped>\n",
       "    .dataframe tbody tr th:only-of-type {\n",
       "        vertical-align: middle;\n",
       "    }\n",
       "\n",
       "    .dataframe tbody tr th {\n",
       "        vertical-align: top;\n",
       "    }\n",
       "\n",
       "    .dataframe thead th {\n",
       "        text-align: right;\n",
       "    }\n",
       "</style>\n",
       "<table border=\"1\" class=\"dataframe\">\n",
       "  <thead>\n",
       "    <tr style=\"text-align: right;\">\n",
       "      <th></th>\n",
       "      <th>date</th>\n",
       "      <th>temperature_F</th>\n",
       "    </tr>\n",
       "  </thead>\n",
       "  <tbody>\n",
       "    <tr>\n",
       "      <th>2</th>\n",
       "      <td>Jan 3</td>\n",
       "      <td>23</td>\n",
       "    </tr>\n",
       "    <tr>\n",
       "      <th>5</th>\n",
       "      <td>Jan 6</td>\n",
       "      <td>38</td>\n",
       "    </tr>\n",
       "    <tr>\n",
       "      <th>8</th>\n",
       "      <td>Jan 9</td>\n",
       "      <td>35</td>\n",
       "    </tr>\n",
       "  </tbody>\n",
       "</table>\n",
       "</div>"
      ],
      "text/plain": [
       "    date  temperature_F\n",
       "2  Jan 3             23\n",
       "5  Jan 6             38\n",
       "8  Jan 9             35"
      ]
     },
     "execution_count": 8,
     "metadata": {},
     "output_type": "execute_result"
    }
   ],
   "source": [
    "# Q: want to know both the date and temperature, when it was raining?\n",
    "# print(df.loc[df[\"Events\"] == \"rainy\", [\"date\", \"temperature_F\"]]) # use .loc functions for that \n",
    "\n",
    "df[df[\"Events\"] == \"rainy\"][[\"date\", \"temperature_F\"]] # another way to do the same thing without .loc function\n",
    "\n",
    "# don't put in variable, unnecessary creating more variables..."
   ]
  },
  {
   "cell_type": "code",
   "execution_count": 9,
   "id": "2a0a975b",
   "metadata": {},
   "outputs": [
    {
     "data": {
      "text/html": [
       "<div>\n",
       "<style scoped>\n",
       "    .dataframe tbody tr th:only-of-type {\n",
       "        vertical-align: middle;\n",
       "    }\n",
       "\n",
       "    .dataframe tbody tr th {\n",
       "        vertical-align: top;\n",
       "    }\n",
       "\n",
       "    .dataframe thead th {\n",
       "        text-align: right;\n",
       "    }\n",
       "</style>\n",
       "<table border=\"1\" class=\"dataframe\">\n",
       "  <thead>\n",
       "    <tr style=\"text-align: right;\">\n",
       "      <th></th>\n",
       "      <th>date</th>\n",
       "    </tr>\n",
       "  </thead>\n",
       "  <tbody>\n",
       "    <tr>\n",
       "      <th>0</th>\n",
       "      <td>NaN</td>\n",
       "    </tr>\n",
       "    <tr>\n",
       "      <th>1</th>\n",
       "      <td>NaN</td>\n",
       "    </tr>\n",
       "    <tr>\n",
       "      <th>2</th>\n",
       "      <td>NaN</td>\n",
       "    </tr>\n",
       "    <tr>\n",
       "      <th>3</th>\n",
       "      <td>NaN</td>\n",
       "    </tr>\n",
       "    <tr>\n",
       "      <th>4</th>\n",
       "      <td>NaN</td>\n",
       "    </tr>\n",
       "    <tr>\n",
       "      <th>5</th>\n",
       "      <td>NaN</td>\n",
       "    </tr>\n",
       "    <tr>\n",
       "      <th>6</th>\n",
       "      <td>NaN</td>\n",
       "    </tr>\n",
       "    <tr>\n",
       "      <th>7</th>\n",
       "      <td>NaN</td>\n",
       "    </tr>\n",
       "    <tr>\n",
       "      <th>8</th>\n",
       "      <td>NaN</td>\n",
       "    </tr>\n",
       "    <tr>\n",
       "      <th>9</th>\n",
       "      <td>NaN</td>\n",
       "    </tr>\n",
       "  </tbody>\n",
       "</table>\n",
       "</div>"
      ],
      "text/plain": [
       "  date\n",
       "0  NaN\n",
       "1  NaN\n",
       "2  NaN\n",
       "3  NaN\n",
       "4  NaN\n",
       "5  NaN\n",
       "6  NaN\n",
       "7  NaN\n",
       "8  NaN\n",
       "9  NaN"
      ]
     },
     "execution_count": 9,
     "metadata": {},
     "output_type": "execute_result"
    }
   ],
   "source": [
    "#Q: why does this not work for me ?\n",
    "\n",
    "df[[\"date\"]] [df[[\"Events\"]] == \"rainy\"] #  this does not work because the filtering should be done first before selecting the column.\n",
    "# remove single bracket in events , 1 is more that's bcoz not working..."
   ]
  },
  {
   "cell_type": "code",
   "execution_count": 10,
   "id": "64c27a81",
   "metadata": {},
   "outputs": [
    {
     "name": "stdout",
     "output_type": "stream",
     "text": [
      "<class 'pandas.core.frame.DataFrame'>\n"
     ]
    }
   ],
   "source": [
    "print(type(df[[\"Events\"]] == \"rainy\")) # <class 'pandas.core.frame.DataFrame'>"
   ]
  },
  {
   "cell_type": "code",
   "execution_count": 11,
   "metadata": {},
   "outputs": [
    {
     "data": {
      "text/plain": [
       "2    Jan 3\n",
       "5    Jan 6\n",
       "8    Jan 9\n",
       "Name: date, dtype: object"
      ]
     },
     "execution_count": 11,
     "metadata": {},
     "output_type": "execute_result"
    }
   ],
   "source": [
    "#Q: how does this works?\n",
    "\n",
    "df[\"date\"] [df[\"Events\"] == \"rainy\"] # indexing using boolean series."
   ]
  },
  {
   "cell_type": "code",
   "execution_count": 12,
   "id": "8dc84d86",
   "metadata": {},
   "outputs": [
    {
     "name": "stdout",
     "output_type": "stream",
     "text": [
      "<class 'pandas.core.series.Series'>\n"
     ]
    }
   ],
   "source": [
    "print(type(df.Events == \"rainy\"))  # <class 'pandas.core.series.Series'>"
   ]
  },
  {
   "cell_type": "code",
   "execution_count": 13,
   "id": "acb19556",
   "metadata": {},
   "outputs": [
    {
     "name": "stdout",
     "output_type": "stream",
     "text": [
      "    0   1   2   3\n",
      "0  11  12  13  14\n",
      "1  21  22  23  24\n",
      "2  31  32  33  34\n"
     ]
    }
   ],
   "source": [
    "#Q: what if individual values in a CSV file haves comma? [good boundary case (practice)]\n",
    "\n",
    "# create a df from list:\n",
    "\n",
    "df_test = pd.DataFrame([[11, 12, 13, 14], [21, 22, 23, 24], [31, 32, 33, 34]])\n",
    "print(df_test.to_string())"
   ]
  },
  {
   "cell_type": "code",
   "execution_count": 14,
   "id": "c482a2c1",
   "metadata": {},
   "outputs": [
    {
     "name": "stdout",
     "output_type": "stream",
     "text": [
      "    0   1   2      3\n",
      "0  11  12  13     14\n",
      "1  21  22  23     24\n",
      "2  31  32  33  3,400\n"
     ]
    }
   ],
   "source": [
    "df_test = pd.DataFrame([[11, 12, 13, 14], \n",
    "                        [21, 22, 23, 24],\n",
    "                        [31, 32, 33, '3,400']]) # note the comma in the last element , treat as numeric , string for that when you use '3,400'\n",
    "print(df_test.to_string())"
   ]
  },
  {
   "cell_type": "code",
   "execution_count": 15,
   "id": "ea6a40e6",
   "metadata": {},
   "outputs": [
    {
     "name": "stdout",
     "output_type": "stream",
     "text": [
      "3,400\n",
      "<class 'str'>\n"
     ]
    }
   ],
   "source": [
    "print(df_test.iloc[2, 3]) # indexed location\n",
    "print(type(df_test.iloc[2, 3])) # <class 'str'>"
   ]
  },
  {
   "cell_type": "code",
   "execution_count": 16,
   "id": "5322205f",
   "metadata": {},
   "outputs": [
    {
     "name": "stdout",
     "output_type": "stream",
     "text": [
      "38\n",
      "5    Jan 6\n",
      "Name: date, dtype: object\n"
     ]
    }
   ],
   "source": [
    "# Q: Max temperature day: alternative Solution\n",
    "\n",
    "# max() function to get the maximum value in a Series.\n",
    "print(df[\"temperature_F\"].max())\n",
    "\n",
    "print(df.date[df.temperature_F == df.temperature_F.max()])"
   ]
  },
  {
   "cell_type": "code",
   "execution_count": 17,
   "id": "83ce4f43",
   "metadata": {},
   "outputs": [
    {
     "data": {
      "text/html": [
       "<div>\n",
       "<style scoped>\n",
       "    .dataframe tbody tr th:only-of-type {\n",
       "        vertical-align: middle;\n",
       "    }\n",
       "\n",
       "    .dataframe tbody tr th {\n",
       "        vertical-align: top;\n",
       "    }\n",
       "\n",
       "    .dataframe thead th {\n",
       "        text-align: right;\n",
       "    }\n",
       "</style>\n",
       "<table border=\"1\" class=\"dataframe\">\n",
       "  <thead>\n",
       "    <tr style=\"text-align: right;\">\n",
       "      <th></th>\n",
       "      <th>date</th>\n",
       "      <th>temperature_F</th>\n",
       "      <th>temperature_C</th>\n",
       "      <th>humidity_pct</th>\n",
       "      <th>Events</th>\n",
       "      <th>is_rain</th>\n",
       "    </tr>\n",
       "  </thead>\n",
       "  <tbody>\n",
       "    <tr>\n",
       "      <th>2</th>\n",
       "      <td>Jan 3</td>\n",
       "      <td>23</td>\n",
       "      <td>-5.00</td>\n",
       "      <td>55</td>\n",
       "      <td>rainy</td>\n",
       "      <td>True</td>\n",
       "    </tr>\n",
       "    <tr>\n",
       "      <th>3</th>\n",
       "      <td>Jan 4</td>\n",
       "      <td>34</td>\n",
       "      <td>1.11</td>\n",
       "      <td>60</td>\n",
       "      <td>sunny</td>\n",
       "      <td>False</td>\n",
       "    </tr>\n",
       "    <tr>\n",
       "      <th>4</th>\n",
       "      <td>Jan 5</td>\n",
       "      <td>37</td>\n",
       "      <td>2.78</td>\n",
       "      <td>65</td>\n",
       "      <td>sunny</td>\n",
       "      <td>False</td>\n",
       "    </tr>\n",
       "  </tbody>\n",
       "</table>\n",
       "</div>"
      ],
      "text/plain": [
       "    date  temperature_F  temperature_C  humidity_pct Events  is_rain\n",
       "2  Jan 3             23          -5.00            55  rainy     True\n",
       "3  Jan 4             34           1.11            60  sunny    False\n",
       "4  Jan 5             37           2.78            65  sunny    False"
      ]
     },
     "execution_count": 17,
     "metadata": {},
     "output_type": "execute_result"
    }
   ],
   "source": [
    "# indexing errors\n",
    "df[2:5] # 5 is exclusive"
   ]
  },
  {
   "cell_type": "code",
   "execution_count": 18,
   "id": "09dbe023",
   "metadata": {},
   "outputs": [
    {
     "name": "stdout",
     "output_type": "stream",
     "text": [
      "   0\n",
      "a  1\n",
      "b  2\n",
      "c  3\n",
      "d  4\n",
      "e  5\n",
      "f  6\n",
      "g  7\n",
      "h  8\n",
      "i  9\n"
     ]
    }
   ],
   "source": [
    "# loc : rows and columns\n",
    "# iloc : integer-location based indexing\n",
    "df = pd.DataFrame([1, 2, 3, 4, 5 ,6, 7, 8, 9], index=['a','b','c','d','e','f','g','h','i'])\n",
    "print(df.to_string())"
   ]
  },
  {
   "cell_type": "code",
   "execution_count": 19,
   "id": "8c26c618",
   "metadata": {},
   "outputs": [
    {
     "name": "stdout",
     "output_type": "stream",
     "text": [
      "   0\n",
      "a  1\n",
      "b  2\n",
      "c  3\n",
      "d  4\n"
     ]
    }
   ],
   "source": [
    "print(df.loc[ : 'd']) # rows and columns"
   ]
  },
  {
   "cell_type": "code",
   "execution_count": 20,
   "id": "bb50775f",
   "metadata": {},
   "outputs": [
    {
     "name": "stdout",
     "output_type": "stream",
     "text": [
      "   0\n",
      "a  1\n",
      "b  2\n",
      "c  3\n",
      "d  4\n",
      "e  5\n"
     ]
    }
   ],
   "source": [
    "print(df.iloc[ :-4]) # integer-location based indexing (skip the last 4 rows)\n",
    "# and this not work with loc function"
   ]
  }
 ],
 "metadata": {
  "kernelspec": {
   "display_name": "Python 3",
   "language": "python",
   "name": "python3"
  },
  "language_info": {
   "codemirror_mode": {
    "name": "ipython",
    "version": 3
   },
   "file_extension": ".py",
   "mimetype": "text/x-python",
   "name": "python",
   "nbconvert_exporter": "python",
   "pygments_lexer": "ipython3",
   "version": "3.11.8"
  }
 },
 "nbformat": 4,
 "nbformat_minor": 5
}
