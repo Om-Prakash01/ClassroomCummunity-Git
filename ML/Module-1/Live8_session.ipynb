{
 "cells": [
  {
   "cell_type": "markdown",
   "id": "1c2451eb",
   "metadata": {},
   "source": [
    "# LIVE 8: OOP:- 2nd session\n",
    " - Multiple - Inheritance , Polymorphism , Iterator-objects\n",
    " - Will answer a key questions from yesterday's live chat window.\n",
    " - Will Cover a few good ideas like dir() that other suggested in the chat Window yesterday."
   ]
  },
  {
   "cell_type": "code",
   "execution_count": 1,
   "id": "6e4860c7",
   "metadata": {},
   "outputs": [],
   "source": [
    "# How is OOP typically used in an ML role:\n",
    "#    - Using existing Classes.\n",
    "#    - Reading documentation to understand how to use a function/class/module.\n",
    "#    - Fixing Code bugs and understanding error messages.\n",
    "#    - Extending existing classes to modify some functionality in an existing class.\n",
    "#    - Working with Software engineers to build some ML classes for them to use in the larger software ecosystem.\n",
    "#    - Do not perform OOD without understanding it well. Typically done by senior engineers/architects. A good beginner's"
   ]
  },
  {
   "cell_type": "code",
   "execution_count": null,
   "id": "8d4b726e",
   "metadata": {},
   "outputs": [],
   "source": [
    "# Multiple - Inheritance\n",
    "\n",
    "#class DerivedClass1(BaseClass1, BaseClass2, BaseClass3):\n",
    "#   pass"
   ]
  },
  {
   "cell_type": "code",
   "execution_count": 2,
   "id": "f2a9130a",
   "metadata": {},
   "outputs": [
    {
     "name": "stdout",
     "output_type": "stream",
     "text": [
      "Exploring class A\n",
      "Searching class B\n",
      "Discover() in class C\n",
      "Test() class D\n"
     ]
    }
   ],
   "source": [
    "# toy-example:\n",
    "\n",
    "class A:\n",
    "    def explore(self):\n",
    "        print(\"Exploring class A\")\n",
    "\n",
    "class B:\n",
    "    def search(self):\n",
    "        print(\"Searching class B\")\n",
    "    \n",
    "    def explore(self):\n",
    "        print(\"Exploring class B\")\n",
    "\n",
    "class C:\n",
    "    def discover(self):\n",
    "        print(\"Discover() in class C\")\n",
    "\n",
    "class D(A, B, C): # multiple Inheritance .   # Order is too much important.\n",
    "    def test(self):\n",
    "        print(\"Test() class D\")\n",
    "\n",
    "d_obj = D()\n",
    "d_obj.explore()\n",
    "d_obj.search()\n",
    "d_obj.discover()\n",
    "d_obj.test()"
   ]
  },
  {
   "cell_type": "code",
   "execution_count": 3,
   "id": "de6ec2a7",
   "metadata": {},
   "outputs": [
    {
     "name": "stdout",
     "output_type": "stream",
     "text": [
      "Exploring class B\n"
     ]
    }
   ],
   "source": [
    "# Toy-example: Diamond inheritance a.k.a Deadly diamond problem\n",
    "\n",
    "class A:\n",
    "    def explore(self):\n",
    "        print(\"Exploring class A\")\n",
    "\n",
    "class B(A):\n",
    "    def explore(self):\n",
    "        print(\"Exploring class B\")\n",
    "\n",
    "class C(A):\n",
    "    def explore(self):\n",
    "        print(\"Exploring class C\")\n",
    "\n",
    "class D(B, C): # multiple Inheritance\n",
    "    pass\n",
    "\n",
    "d_obj = D()\n",
    "d_obj.explore()"
   ]
  },
  {
   "cell_type": "markdown",
   "id": "496ac3e0",
   "metadata": {},
   "source": [
    "# Polymorphism\n",
    "#    -Different forms\n",
    "#    -Operator level Polymorphism: 2+3, \"abc\" + \"def\"\n",
    "#    -Function level Polymorphism: len([1, 2, 3]), len(\"abcdef\"), len({1, 2, 3, 4})\n",
    "#    -Class level Polymorphism"
   ]
  },
  {
   "cell_type": "code",
   "execution_count": 4,
   "id": "5d3d4473",
   "metadata": {},
   "outputs": [
    {
     "name": "stdout",
     "output_type": "stream",
     "text": [
      "3\n",
      "6\n",
      "4\n"
     ]
    }
   ],
   "source": [
    "print(len([1, 2, 3]))\n",
    "print(len(\"abcdef\"))\n",
    "print(len({1, 2, 3, 4}))"
   ]
  },
  {
   "cell_type": "code",
   "execution_count": 6,
   "id": "887e39c5",
   "metadata": {},
   "outputs": [
    {
     "name": "stdout",
     "output_type": "stream",
     "text": [
      "function p in A\n",
      "function p in B\n",
      "##############################\n",
      "function p in A\n",
      "function p in B\n"
     ]
    }
   ],
   "source": [
    "# Class level Polymorphism\n",
    "\n",
    "class A:\n",
    "    def p(self):\n",
    "        return \"function p in A\"\n",
    "\n",
    "class B:\n",
    "    def p(self):\n",
    "        return \"function p in B\"\n",
    "    \n",
    "a = A()\n",
    "b = B()\n",
    "\n",
    "for i in (a, b):\n",
    "    print(i.p()) # the functions that runs depends on the object type making this code much more flexible and easier to extend.\n",
    "\n",
    "\n",
    "print(\"##############################\")\n",
    "\n",
    "x = a\n",
    "print(x.p())\n",
    "\n",
    "x = b\n",
    "print(x.p())"
   ]
  },
  {
   "cell_type": "code",
   "execution_count": 1,
   "id": "b637cce5",
   "metadata": {},
   "outputs": [
    {
     "name": "stdout",
     "output_type": "stream",
     "text": [
      "black\n",
      "black\n",
      "black\n",
      "200\n",
      "12.566370614359172\n"
     ]
    }
   ],
   "source": [
    "# Polymorphism + Inheritance\n",
    "\n",
    "# Example seen earlier:\n",
    "\n",
    "import math\n",
    "\n",
    "class Shape:\n",
    "\n",
    "    def __init__(self, color='black', filled=False):\n",
    "        self.__color = color\n",
    "        self.__filled = filled\n",
    "\n",
    "    def get_color(self):\n",
    "        return self.__color\n",
    "    \n",
    "    def set_color(self, color):\n",
    "        self.__color = color\n",
    "\n",
    "    def get_filled(self):\n",
    "        return self.__filled\n",
    "\n",
    "    def set_filled(self, filled):\n",
    "        self.__filled = filled\n",
    "\n",
    "\n",
    "class Rectangle(Shape):\n",
    "    def __init__(self, length, breadth):\n",
    "        super().__init__()\n",
    "        self.__length = length\n",
    "        self.__breadth = breadth\n",
    "\n",
    "    def get_length(self):\n",
    "        return self.__length\n",
    "    \n",
    "    def set_length(self, length):\n",
    "        self.__length = length\n",
    "\n",
    "    def get_breadth(self):\n",
    "        return self.__breadth\n",
    "    \n",
    "    def set_breadth(self, breadth):\n",
    "        self.__breadth = breadth\n",
    "\n",
    "    def get_Area(self):\n",
    "        return self.__length * self.__breadth\n",
    "\n",
    "    def get_Perimeter(self):\n",
    "        return 2 * (self.__length + self.__breadth)\n",
    "    \n",
    "\n",
    "class Circle(Shape):\n",
    "    def __init__(self, radius):\n",
    "        super().__init__()\n",
    "        self.__radius = radius\n",
    "\n",
    "    def get_radius(self):\n",
    "        return self.__radius\n",
    "    \n",
    "    def set_radius(self, radius):\n",
    "        self.__radius = radius\n",
    "\n",
    "    def get_Area(self):\n",
    "        return math.pi * self.__radius * self.__radius\n",
    "\n",
    "    def get_Circumference(self):\n",
    "        return 2 * math.pi * self.__radius\n",
    "    \n",
    "\n",
    "s = Shape()\n",
    "r = Rectangle(10, 20)\n",
    "c = Circle(2)\n",
    "\n",
    "for i in (s, r, c):\n",
    "    print(i.get_color())\n",
    "\n",
    "for i in (r, c):\n",
    "    print(i.get_Area())"
   ]
  },
  {
   "cell_type": "code",
   "execution_count": 5,
   "id": "294d0c55",
   "metadata": {},
   "outputs": [
    {
     "name": "stdout",
     "output_type": "stream",
     "text": [
      "{'a': 1, 'b': 2}\n",
      "[1, 2, 3, 4]\n",
      "{1, 2, 3, 4}\n"
     ]
    }
   ],
   "source": [
    "# Polymorphism + Inheritance [inbuilt- DS]\n",
    "\n",
    "d = {'a': 1, 'b': 2}\n",
    "l = [1, 2, 3, 4]\n",
    "s = {1, 2, 3, 4}\n",
    "\n",
    "for i in (d, l, s):\n",
    "    print(i) # polymorphism + inheritance [__str__ from object]"
   ]
  },
  {
   "cell_type": "markdown",
   "id": "1054ffc4",
   "metadata": {},
   "source": [
    "Iterable Objects"
   ]
  },
  {
   "cell_type": "code",
   "execution_count": null,
   "id": "193513f0",
   "metadata": {},
   "outputs": [],
   "source": [
    "### Iterable objects in Python\n",
    "for i in [1, 2, 3, 4]:\n",
    "    print(i)"
   ]
  },
  {
   "cell_type": "code",
   "execution_count": 2,
   "id": "04c8f865",
   "metadata": {},
   "outputs": [],
   "source": [
    "# How to make object of a class iterable?\n",
    "\n",
    "class Reverse:\n",
    "    # Iterator for looping over a sequence backwards.\n",
    "    # Constructor\n",
    "    def __init__(self, data): # data can be list or tuple or string\n",
    "        self.data = data\n",
    "        self.index = len(data)\n",
    "\n",
    "    def __iter__(self): # Mandatory \n",
    "        return self\n",
    "\n",
    "    def __next__(self): # this also\n",
    "        if self.index == 0:\n",
    "            raise StopIteration\n",
    "        self.index = self.index - 1\n",
    "        return self.data[self.index] "
   ]
  },
  {
   "cell_type": "code",
   "execution_count": 3,
   "id": "36cfa2f8",
   "metadata": {},
   "outputs": [
    {
     "name": "stdout",
     "output_type": "stream",
     "text": [
      "4\n",
      "3\n",
      "2\n",
      "1\n"
     ]
    }
   ],
   "source": [
    "r = Reverse([1, 2, 3, 4]) # it can work with tuple , list , string but not with the set() which is unordered\n",
    "for i in r:\n",
    "    print(i)"
   ]
  },
  {
   "cell_type": "markdown",
   "id": "c9661326",
   "metadata": {},
   "source": [
    "# Few questions from yesterday's live session in the chat window"
   ]
  },
  {
   "cell_type": "code",
   "execution_count": 3,
   "id": "ca94a621",
   "metadata": {},
   "outputs": [
    {
     "name": "stdout",
     "output_type": "stream",
     "text": [
      "name1 42\n",
      "name2 addr2\n"
     ]
    }
   ],
   "source": [
    "# Empty classes as a structure.\n",
    "\n",
    "class E:\n",
    "    pass\n",
    "\n",
    "e1 = E()\n",
    "e1.name = \"name1\" # name and number attributes for e1\n",
    "e1.value = 42\n",
    "\n",
    "e2 = E() # name and addr attrib for e2\n",
    "e2.name = \"name2\"\n",
    "e2.addr = \"addr2\"  # address\n",
    "\n",
    "\n",
    "\n",
    "print(e1.name, e1.value)\n",
    "print(e2.name, e2.addr)"
   ]
  },
  {
   "cell_type": "code",
   "execution_count": 4,
   "id": "84ae1002",
   "metadata": {},
   "outputs": [
    {
     "name": "stdout",
     "output_type": "stream",
     "text": [
      "11\n"
     ]
    }
   ],
   "source": [
    "# function within __init__\n",
    "class A:\n",
    "    def __init__(self):\n",
    "\n",
    "        def function_within(x):\n",
    "            return x + 1\n",
    "        i = 10\n",
    "        print(function_within(i))\n",
    "\n",
    "a = A()\n"
   ]
  },
  {
   "cell_type": "code",
   "execution_count": 12,
   "id": "a2056110",
   "metadata": {},
   "outputs": [
    {
     "name": "stdout",
     "output_type": "stream",
     "text": [
      "['__doc__', '__loader__', '__name__', '__package__', '__spec__', 'acos', 'acosh', 'asin', 'asinh', 'atan', 'atan2', 'atanh', 'cbrt', 'ceil', 'comb', 'copysign', 'cos', 'cosh', 'degrees', 'dist', 'e', 'erf', 'erfc', 'exp', 'exp2', 'expm1', 'fabs', 'factorial', 'floor', 'fmod', 'frexp', 'fsum', 'gamma', 'gcd', 'hypot', 'inf', 'isclose', 'isfinite', 'isinf', 'isnan', 'isqrt', 'lcm', 'ldexp', 'lgamma', 'log', 'log10', 'log1p', 'log2', 'modf', 'nan', 'nextafter', 'perm', 'pi', 'pow', 'prod', 'radians', 'remainder', 'sin', 'sinh', 'sqrt', 'tan', 'tanh', 'tau', 'trunc', 'ulp']\n"
     ]
    }
   ],
   "source": [
    "# dir() is a powerful inbuilt function in Python3,\n",
    "# which returns list of the attributes and methods of any object.\n",
    "# like classes, modules, strings, lists , dictionaries etc.\n",
    "\n",
    "import math \n",
    "print(dir(math)) # module "
   ]
  },
  {
   "cell_type": "code",
   "execution_count": 12,
   "id": "d5376a84",
   "metadata": {},
   "outputs": [
    {
     "name": "stdout",
     "output_type": "stream",
     "text": [
      "['_B__f', '__class__', '__delattr__', '__dict__', '__dir__', '__doc__', '__eq__', '__format__', '__ge__', '__getattribute__', '__getstate__', '__gt__', '__hash__', '__init__', '__init_subclass__', '__le__', '__lt__', '__module__', '__ne__', '__new__', '__reduce__', '__reduce_ex__', '__repr__', '__setattr__', '__sizeof__', '__str__', '__subclasshook__', '__weakref__']\n",
      "HI\n",
      "None\n"
     ]
    }
   ],
   "source": [
    "# applying dir() in class\n",
    "\n",
    "class B :\n",
    "    def __f():\n",
    "        print(\"HI\")\n",
    "\n",
    "print(dir(B)) # class\n",
    "\n",
    "print(B._B__f())"
   ]
  },
  {
   "cell_type": "code",
   "execution_count": null,
   "id": "0d90d7ce",
   "metadata": {},
   "outputs": [],
   "source": [
    "# __pr = private\n",
    "# _pr = protected\n",
    "\n",
    "# everything else is public\n",
    "# i just a Conversions "
   ]
  },
  {
   "cell_type": "code",
   "execution_count": null,
   "id": "eb04eee9",
   "metadata": {},
   "outputs": [
    {
     "ename": "TypeError",
     "evalue": "A.__init__() missing 1 required positional argument: 'j'",
     "output_type": "error",
     "traceback": [
      "\u001b[31m---------------------------------------------------------------------------\u001b[39m",
      "\u001b[31mTypeError\u001b[39m                                 Traceback (most recent call last)",
      "\u001b[36mCell\u001b[39m\u001b[36m \u001b[39m\u001b[32mIn[13]\u001b[39m\u001b[32m, line 15\u001b[39m\n\u001b[32m     12\u001b[39m     \u001b[38;5;28;01mdef\u001b[39;00m\u001b[38;5;250m \u001b[39m\u001b[34m__str__\u001b[39m(\u001b[38;5;28mself\u001b[39m):\n\u001b[32m     13\u001b[39m         \u001b[38;5;28;01mreturn\u001b[39;00m \u001b[33m\"\u001b[39m\u001b[38;5;130;01m\\n\u001b[39;00m\u001b[33mi=\u001b[39m\u001b[33m\"\u001b[39m + \u001b[38;5;28mstr\u001b[39m(\u001b[38;5;28mself\u001b[39m.var1) + \u001b[33m\"\u001b[39m\u001b[38;5;130;01m\\t\u001b[39;00m\u001b[33m\"\u001b[39m + \u001b[33m\"\u001b[39m\u001b[33mj=\u001b[39m\u001b[33m\"\u001b[39m + \u001b[38;5;28mstr\u001b[39m(\u001b[38;5;28mself\u001b[39m.var2)\n\u001b[32m---> \u001b[39m\u001b[32m15\u001b[39m a1 = \u001b[43mA\u001b[49m\u001b[43m(\u001b[49m\u001b[32;43m10\u001b[39;49m\u001b[43m)\u001b[49m\n\u001b[32m     16\u001b[39m \u001b[38;5;28mprint\u001b[39m(a1)\n\u001b[32m     18\u001b[39m \u001b[38;5;66;03m# We overload but can only use the most recent function definition\u001b[39;00m\n",
      "\u001b[31mTypeError\u001b[39m: A.__init__() missing 1 required positional argument: 'j'"
     ]
    }
   ],
   "source": [
    "# Constructor overloading \n",
    "\n",
    "class A:\n",
    "    def __init__(self, i):\n",
    "        self.var1 = i\n",
    "        self.var2 = 0\n",
    "    \n",
    "    def __init__(self, i, j):\n",
    "        self.var1 = i\n",
    "        self.var2 = j\n",
    "\n",
    "    def __str__(self):\n",
    "        return \"\\ni=\" + str(self.var1) + \"\\t\" + \"j=\" + str(self.var2)\n",
    "    \n",
    "a1 = A(10)\n",
    "print(a1) \n",
    "\n",
    "# We overload but can only use the most recent function definition\n",
    "# it's work only in c++ not in python , In python it's just like Conversions"
   ]
  },
  {
   "cell_type": "code",
   "execution_count": 14,
   "id": "db8488a0",
   "metadata": {},
   "outputs": [
    {
     "name": "stdout",
     "output_type": "stream",
     "text": [
      "\n",
      "i=10\tj=20\n"
     ]
    }
   ],
   "source": [
    "a2 = A(10, 20)\n",
    "print(a2)"
   ]
  },
  {
   "cell_type": "code",
   "execution_count": 18,
   "id": "3c9ad306",
   "metadata": {},
   "outputs": [
    {
     "name": "stdout",
     "output_type": "stream",
     "text": [
      "\n",
      "i=10\tj=20\n"
     ]
    }
   ],
   "source": [
    "# Can we call other functions inside the __init__ method or function?\n",
    "class A:\n",
    "    def __init__(self, i, j):\n",
    "        self.f(i, j)\n",
    "    \n",
    "    def f(self, i, j):\n",
    "        self.var1 = i\n",
    "        self.var2 = j\n",
    "    \n",
    "    def __str__(self):\n",
    "        return \"\\ni=\" + str(self.var1) + \"\\t\" + \"j=\" + str(self.var2)\n",
    "    \n",
    "a = A(10, 20)\n",
    "print(a)"
   ]
  }
 ],
 "metadata": {
  "kernelspec": {
   "display_name": "Python 3",
   "language": "python",
   "name": "python3"
  },
  "language_info": {
   "codemirror_mode": {
    "name": "ipython",
    "version": 3
   },
   "file_extension": ".py",
   "mimetype": "text/x-python",
   "name": "python",
   "nbconvert_exporter": "python",
   "pygments_lexer": "ipython3",
   "version": "3.11.8"
  }
 },
 "nbformat": 4,
 "nbformat_minor": 5
}
