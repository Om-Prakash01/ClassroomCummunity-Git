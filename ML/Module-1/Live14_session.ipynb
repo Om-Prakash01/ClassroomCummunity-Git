{
 "cells": [
  {
   "cell_type": "markdown",
   "id": "90fa9ce6",
   "metadata": {},
   "source": [
    "# Multi-Processing_And_Multi-threading in Python for ML\n",
    "\n",
    "#    - Code - walkthrough , Introduction - Session."
   ]
  },
  {
   "cell_type": "code",
   "execution_count": 1,
   "id": "5d37bef4",
   "metadata": {},
   "outputs": [
    {
     "name": "stdout",
     "output_type": "stream",
     "text": [
      "\n",
      "Host Name:                     DESKTOP-673QBFP\n",
      "OS Name:                       Microsoft Windows 11 Pro\n",
      "OS Version:                    10.0.26100 N/A Build 26100\n",
      "OS Manufacturer:               Microsoft Corporation\n",
      "OS Configuration:              Standalone Workstation\n",
      "OS Build Type:                 Multiprocessor Free\n",
      "Registered Owner:              omprakashbest3@gmail.com\n",
      "Registered Organization:       N/A\n",
      "Product ID:                    00330-53801-49489-AAOEM\n",
      "Original Install Date:         12-08-2025, 08:30:11\n",
      "System Boot Time:              11-09-2025, 09:52:46\n",
      "System Manufacturer:           LENOVO\n",
      "System Model:                  20VD\n",
      "System Type:                   x64-based PC\n",
      "Processor(s):                  1 Processor(s) Installed.\n",
      "                               [01]: Intel64 Family 6 Model 140 Stepping 1 GenuineIntel ~2419 Mhz\n",
      "BIOS Version:                  LENOVO F8CN54WW(V2.17), 17-03-2023\n",
      "Windows Directory:             C:\\WINDOWS\n",
      "System Directory:              C:\\WINDOWS\\system32\n",
      "Boot Device:                   \\Device\\HarddiskVolume1\n",
      "System Locale:                 en-us;English (United States)\n",
      "Input Locale:                  00004009\n",
      "Time Zone:                     (UTC+05:30) Chennai, Kolkata, Mumbai, New Delhi\n",
      "Total Physical Memory:         16,167 MB\n",
      "Available Physical Memory:     9,052 MB\n",
      "Virtual Memory: Max Size:      17,703 MB\n",
      "Virtual Memory: Available:     10,114 MB\n",
      "Virtual Memory: In Use:        7,589 MB\n",
      "Page File Location(s):         C:\\pagefile.sys\n",
      "Domain:                        WORKGROUP\n",
      "Logon Server:                  \\\\DESKTOP-673QBFP\n",
      "Hotfix(s):                     4 Hotfix(s) Installed.\n",
      "                               [01]: KB5064401\n",
      "                               [02]: KB5065426\n",
      "                               [03]: KB5065381\n",
      "                               [04]: KB5064531\n",
      "Network Card(s):               2 NIC(s) Installed.\n",
      "                               [01]: Intel(R) Wi-Fi 6 AX201 160MHz\n",
      "                                     Connection Name: Wi-Fi\n",
      "                                     DHCP Enabled:    Yes\n",
      "                                     DHCP Server:     10.75.251.117\n",
      "                                     IP address(es)\n",
      "                                     [01]: 10.75.251.97\n",
      "                                     [02]: fe80::3a2b:aaf2:4a2:e169\n",
      "                                     [03]: 2409:40e4:11f7:e0d6:8d38:4af:3df3:2624\n",
      "                                     [04]: 2409:40e4:11f7:e0d6:d508:e253:95aa:c2a6\n",
      "                               [02]: Realtek PCIe GbE Family Controller\n",
      "                                     Connection Name: Ethernet\n",
      "                                     Status:          Media disconnected\n",
      "Virtualization-based security: Status: Running\n",
      "                               Required Security Properties:\n",
      "                               Available Security Properties:\n",
      "                                     Base Virtualization Support\n",
      "                                     Secure Boot\n",
      "                                     DMA Protection\n",
      "                                     UEFI Code Readonly\n",
      "                                     SMM Security Mitigations 1.0\n",
      "                                     Mode Based Execution Control\n",
      "                                     APIC Virtualization\n",
      "                               Services Configured:\n",
      "                                     Hypervisor enforced Code Integrity\n",
      "                               Services Running:\n",
      "                                     Hypervisor enforced Code Integrity\n",
      "                               App Control for Business policy: Enforced\n",
      "                               App Control for Business user mode policy: Off\n",
      "                               Security Features Enabled:\n",
      "Hyper-V Requirements:          A hypervisor has been detected. Features required for Hyper-V will not be displayed.\n"
     ]
    }
   ],
   "source": [
    "!systeminfo"
   ]
  },
  {
   "cell_type": "markdown",
   "id": "7f22ff16",
   "metadata": {},
   "source": [
    "# Mean of 100 Million Observations"
   ]
  },
  {
   "cell_type": "code",
   "execution_count": 2,
   "id": "2f871259",
   "metadata": {},
   "outputs": [
    {
     "name": "stdout",
     "output_type": "stream",
     "text": [
      "(100000000,)\n",
      "<class 'tuple'>\n"
     ]
    }
   ],
   "source": [
    "# Generate random 100MM data points \n",
    "import numpy as np\n",
    "n = 100000000\n",
    "d = np.random.rand(n) # between range 0 to 1. float64\n",
    "print(d.shape)\n",
    "print(type(d.shape))"
   ]
  },
  {
   "cell_type": "code",
   "execution_count": 3,
   "id": "7ef6b647",
   "metadata": {},
   "outputs": [
    {
     "name": "stdout",
     "output_type": "stream",
     "text": [
      "12.24590253829956\n",
      "0.4999999117222156\n"
     ]
    }
   ],
   "source": [
    "import time \n",
    "def mean():\n",
    "\n",
    "    # Sum using for loops. We can use inbuilt Numpy sum operation for better speed.\n",
    "    sum = 0\n",
    "    n = d.size\n",
    "    for i in range(n):\n",
    "        sum += d[i]\n",
    "\n",
    "    # Mean \n",
    "    mean = sum/n\n",
    "    return mean\n",
    "\n",
    "# Time the execution\n",
    "start_time = time.time() # time.time function is return current time in seconds.\n",
    "m = mean() # compute mean of 100MM numbers.\n",
    "end_time = time.time()\n",
    "print(end_time - start_time)\n",
    "print(m)"
   ]
  },
  {
   "cell_type": "markdown",
   "id": "a9b5a7a1",
   "metadata": {},
   "source": [
    "# Multi - Processing Code:-"
   ]
  },
  {
   "cell_type": "code",
   "execution_count": 4,
   "id": "c10e4c45",
   "metadata": {},
   "outputs": [
    {
     "name": "stdout",
     "output_type": "stream",
     "text": [
      "0.12935781478881836\n",
      "0.0\n"
     ]
    }
   ],
   "source": [
    "from multiprocessing import Process, Queue\n",
    "import math\n",
    "\n",
    "def mean_MP(s, e, q):\n",
    "    # Sum using for loops, we can use inbuilt NumPy sum operations for better speed.\n",
    "    sum = 0\n",
    "    for i in range(s, e + 1):  \n",
    "        sum += d[i]\n",
    "\n",
    "    # Mean \n",
    "    mean = sum / (e - s + 1) \n",
    "    q.put(mean) # placing the mean in Queue\n",
    "    return\n",
    "\n",
    "n1 = math.floor(n/2)\n",
    "\n",
    "q = Queue() # Queues are thread and process safe, for communicating between processes and thread\n",
    "\n",
    "p1 = Process(target=mean_MP, args=(0, n1, q)) # core 1\n",
    "p2 = Process(target=mean_MP, args=(n1 + 1, n - 1, q)) # core 2\n",
    "\n",
    "\n",
    "# Time the executions\n",
    "\n",
    "start_time2 = time.time()\n",
    "\n",
    "p1.start()\n",
    "p2.start()\n",
    "\n",
    "p1.join() # wait till p1 finishes\n",
    "p2.join()\n",
    "\n",
    "m = 0\n",
    "while not q.empty():\n",
    "    m += q.get()\n",
    "\n",
    "m /= 2\n",
    "\n",
    "end_time2 = time.time()\n",
    "print(end_time2 - start_time2)\n",
    "print(m)"
   ]
  },
  {
   "cell_type": "markdown",
   "id": "7c407dd5",
   "metadata": {},
   "source": [
    "# Multi - Threaded Core:-\n"
   ]
  },
  {
   "cell_type": "code",
   "execution_count": 5,
   "id": "d8dbd971",
   "metadata": {},
   "outputs": [
    {
     "name": "stdout",
     "output_type": "stream",
     "text": [
      "13.484285831451416\n",
      "0.4999999117223269\n"
     ]
    }
   ],
   "source": [
    "from threading import Thread\n",
    "\n",
    "means = [0, 0]\n",
    "\n",
    "def mean_MT(s, e, threadNum):\n",
    "\n",
    "    # Sum using for loops, we can use inbuilt Numpy sum operations for better speed\n",
    "    sum = 0\n",
    "    for i in range(s, e+1):\n",
    "        sum  += d[i]\n",
    "\n",
    "    # Mean \n",
    "    mean = sum /(e - s + 1)\n",
    "    means[threadNum] = mean # means is a shared variables between the threads\n",
    "    return\n",
    "\n",
    "n1 = math.floor(n/2)\n",
    "\n",
    "th1 = Thread(target=mean_MT, args=(0, n1, 0)) # third APRAM is the thread number \n",
    "th2 = Thread(target=mean_MT, args=(n1 + 1, n-1, 1))\n",
    "\n",
    "# Time the execution\n",
    "start_time = time.time()\n",
    "\n",
    "th1.start() # start the thread \n",
    "th2.start()\n",
    "\n",
    "th1.join() # wait till t1 finishes.\n",
    "th2.join()\n",
    "\n",
    "m = (means[0] + means[1]) / 2\n",
    "\n",
    "end_time = time.time()\n",
    "print(end_time - start_time)\n",
    "print(m)"
   ]
  },
  {
   "cell_type": "markdown",
   "id": "90f69e47",
   "metadata": {},
   "source": [
    "# Joblib"
   ]
  },
  {
   "cell_type": "markdown",
   "id": "aeb73514",
   "metadata": {},
   "source": [
    "# Caching of function output values "
   ]
  },
  {
   "cell_type": "code",
   "execution_count": 6,
   "id": "7605213a",
   "metadata": {},
   "outputs": [],
   "source": [
    "from joblib import Memory\n",
    "cachedir = './' # the current directory\n",
    "mem = Memory(cachedir)\n",
    "\n",
    "import numpy as np\n",
    "a = np.vander(np.arange(3)).astype(np.float64)\n",
    "square = mem.cache(np.square) # square is a inbuilt functions in numpy\n",
    "b = square(a)"
   ]
  },
  {
   "cell_type": "code",
   "execution_count": 7,
   "id": "4dd5403a",
   "metadata": {},
   "outputs": [],
   "source": [
    "c = square(a)\n",
    "# the above call did not trigger an evaluation, it's already execution once, not going to execution again. for saving time."
   ]
  },
  {
   "cell_type": "markdown",
   "id": "2c55648a",
   "metadata": {},
   "source": [
    "# Simple Parallel Programming/computing for Loops"
   ]
  },
  {
   "cell_type": "code",
   "execution_count": 8,
   "id": "0898ab40",
   "metadata": {},
   "outputs": [
    {
     "name": "stdout",
     "output_type": "stream",
     "text": [
      "13.645599126815796\n"
     ]
    }
   ],
   "source": [
    "import time \n",
    "from math import sqrt # inbuilt functions\n",
    "\n",
    "def f(i):\n",
    "    # some computations that take time \n",
    "    x = 10000\n",
    "    p = 1\n",
    "    for j in range(x):\n",
    "        for k in range(j):\n",
    "            p *= k\n",
    "    return sqrt(i ** 2)\n",
    "\n",
    "# find sqrt of first n numbers\n",
    "n = 10 # calling function 10 time\n",
    "\n",
    "# Time executions:- \n",
    "start_time = time.time()\n",
    "\n",
    "for i in range(n):\n",
    "    f(i)\n",
    "\n",
    "end_time = time.time()\n",
    "print(end_time - start_time)"
   ]
  },
  {
   "cell_type": "code",
   "execution_count": 9,
   "id": "42fec95f",
   "metadata": {},
   "outputs": [
    {
     "name": "stdout",
     "output_type": "stream",
     "text": [
      "8.762311220169067\n"
     ]
    }
   ],
   "source": [
    "# same functions using joblib..\n",
    "from joblib import Parallel, delayed\n",
    "\n",
    "start_time = time.time()\n",
    "a = Parallel(n_jobs=2)(delayed(f)(i) for i in range(n))\n",
    "\n",
    "# why we need delayed() 'function':\n",
    "\n",
    "end_time = time.time()\n",
    "\n",
    "print(end_time - start_time)"
   ]
  },
  {
   "cell_type": "code",
   "execution_count": 10,
   "id": "19102a8e",
   "metadata": {},
   "outputs": [
    {
     "name": "stdout",
     "output_type": "stream",
     "text": [
      "14.146161079406738\n"
     ]
    }
   ],
   "source": [
    "# Multi threading also using joblib : GIL is an issue\n",
    "start_time = time.time()\n",
    "\n",
    "a =  Parallel(n_jobs=2, prefer=\"threads\")(delayed(f)(i ** 2) for i in range(n))\n",
    "\n",
    "end_time = time.time()\n",
    "print(end_time - start_time)"
   ]
  },
  {
   "cell_type": "code",
   "execution_count": 11,
   "id": "f12be9bb",
   "metadata": {},
   "outputs": [
    {
     "name": "stdout",
     "output_type": "stream",
     "text": [
      "4.2985992431640625\n"
     ]
    }
   ],
   "source": [
    "# 6 Jobs : means 6 cores or processor\n",
    "from joblib import Parallel, delayed\n",
    "start_time = time.time()\n",
    "\n",
    "a = Parallel(n_jobs=6)(delayed(f)(i ** 2) for i in range(n))\n",
    "\n",
    "end_time = time.time()\n",
    "print(end_time - start_time)"
   ]
  }
 ],
 "metadata": {
  "kernelspec": {
   "display_name": "Python 3",
   "language": "python",
   "name": "python3"
  },
  "language_info": {
   "codemirror_mode": {
    "name": "ipython",
    "version": 3
   },
   "file_extension": ".py",
   "mimetype": "text/x-python",
   "name": "python",
   "nbconvert_exporter": "python",
   "pygments_lexer": "ipython3",
   "version": "3.11.8"
  }
 },
 "nbformat": 4,
 "nbformat_minor": 5
}
