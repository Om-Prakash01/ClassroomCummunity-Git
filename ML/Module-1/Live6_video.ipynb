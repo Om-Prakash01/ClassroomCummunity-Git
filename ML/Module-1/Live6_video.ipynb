{
 "cells": [
  {
   "cell_type": "code",
   "execution_count": null,
   "id": "0b5fe19b",
   "metadata": {},
   "outputs": [],
   "source": [
    "#  LIVE 6: Dynamic Programming + inbuilt-DS\n",
    "#    Focus: Dynamic Programming example, where to use which DS in Python\n",
    "#    Prereq: Previous code-sessions + Basic knowledge of inbuilt DS in Python(list, tuple, dict, set)"
   ]
  },
  {
   "cell_type": "code",
   "execution_count": null,
   "id": "74ab6c04",
   "metadata": {},
   "outputs": [],
   "source": [
    "# Problem 4 : Regex matching problem  (Using Dynamic Programming this time .)\n",
    "#   - \"?\" matches a single character \n",
    "#   - \"*\" matches zero or more characters \n",
    "#   - Given a pattern(p) and a string(s), does 'p' match 's' ?\n",
    "\n",
    "# Examples : \n",
    "#       - TRUE :(\"*\", \"ab\"), (\"?a\", \"ba\"), (\"?a\", \"aa\"), (\"a*\", \"a\")\n",
    "#       - FALSE : (\"*a\", \"ab\"), (\"?a\", \"baa\"), (\"?a\", \"a\"), (\"a*\", \"ba\")\n",
    "\n",
    "# - very popular interview question at product-based companies for SDEs.\n",
    "# - Small variations of this are often used in interviews \n"
   ]
  },
  {
   "cell_type": "code",
   "execution_count": null,
   "id": "ae562c34",
   "metadata": {},
   "outputs": [],
   "source": [
    "# Using Dynamic Programming  (2 Dimensional Dynamic programming)\n",
    "# Top-down DP using recursion and memoization (dp)\n",
    "\n",
    "def isMatchDP(pattern, string , pattern_start, string_start, dp): # (dp = dictionary using ...)\n",
    "\n",
    "    # print(pattern_start , string_start)\n",
    "    \n",
    "    if (pattern_start, string_start) in dp:\n",
    "        return dp[(pattern_start, string_start)]\n",
    "    \n",
    "    p = pattern[pattern_start:]\n",
    "    s = string[string_start:]\n",
    "\n",
    "    print(p, s) # print statement for debugging\n",
    "\n",
    "    # boundary cases of recursion\n",
    "    if p == s:\n",
    "        dp[(pattern_start, string_start)] = True\n",
    "        return True\n",
    "    \n",
    "    if p == \"*\" :\n",
    "        dp[(pattern_start, string_start)] = True\n",
    "        return True\n",
    "    \n",
    "    if p == \"\" or s == \"\" :\n",
    "        dp[(pattern_start, string_start)] = False\n",
    "        return False\n",
    "    \n",
    "    # recursion case-1\n",
    "    if p[0] == s[0] or p[0] == '?':\n",
    "        tmp = isMatchDP(pattern, string, pattern_start + 1, string_start + 1, dp)\n",
    "        dp[(pattern_start, string_start)] = tmp\n",
    "        return tmp\n",
    "    \n",
    "    # recursion case-2\n",
    "    if p[0] == '*':\n",
    "        tmp = (isMatchDP(pattern, string, pattern_start + 1, string_start, dp) or isMatchDP(pattern, string, pattern_start, string_start + 1, dp))\n",
    "        dp[(pattern_start, string_start)] = tmp\n",
    "        return tmp\n",
    "    \n",
    "    # last case: if p[0] is a character\n",
    "    if p[0] != s[0]:\n",
    "        dp[(pattern_start, string_start)] = False\n",
    "        return False\n",
    "    "
   ]
  },
  {
   "cell_type": "code",
   "execution_count": 6,
   "id": "f7e50970",
   "metadata": {},
   "outputs": [
    {
     "name": "stdout",
     "output_type": "stream",
     "text": [
      "* ab\n",
      "True\n"
     ]
    }
   ],
   "source": [
    "print(isMatchDP(\"*\", \"ab\", 0, 0, {}))"
   ]
  },
  {
   "cell_type": "code",
   "execution_count": null,
   "id": "e0ab5f94",
   "metadata": {},
   "outputs": [],
   "source": [
    "# Python's inbuilt Data-structure: List , Dict, Set, Tuple \n",
    "# Big practical Question: where to use which DS?"
   ]
  },
  {
   "cell_type": "code",
   "execution_count": null,
   "id": "75c34d02",
   "metadata": {},
   "outputs": [],
   "source": [
    "# If you were to design Numpy from scratch, which inbuilt DS would you use to design ndarray?\n",
    "# Answer = List of List .ndarray"
   ]
  },
  {
   "cell_type": "code",
   "execution_count": null,
   "id": "630b0d91",
   "metadata": {},
   "outputs": [],
   "source": [
    "# How do you think data is internally stored in Numpy Arrays?\n",
    "# ndarray = Classes using "
   ]
  },
  {
   "cell_type": "code",
   "execution_count": null,
   "id": "e1d1435a",
   "metadata": {},
   "outputs": [],
   "source": [
    "# Why are Numpy arrays efficient ?\n",
    "\"\"\"\n",
    "A Numpy arrays is basically described by metadata (notably the number of dimensional, the Shape, and the data type)\n",
    "and the actual data. The data is stored in a homogeneous and contiguous block of memory, at a particular address in\n",
    "system memory(Random Access memory, or RAM).This block of memory is called the data buffer. this is the main difference \n",
    "between an array and a pure python structure, such as a list , where the items are scattered across the system memory.\n",
    "This aspect is the critical feature that make Numpy arrays so efficient.\n",
    "\"\"\""
   ]
  },
  {
   "cell_type": "code",
   "execution_count": 9,
   "id": "bccc8fbc",
   "metadata": {},
   "outputs": [
    {
     "name": "stdout",
     "output_type": "stream",
     "text": [
      "{(2, 4), (1, 2), (3, 4), (1, 5), (1, 4), (2, 3), (4, 5), (2, 5), (1, 3), (3, 5)}\n",
      "<class 'itertools.combinations'>\n"
     ]
    }
   ],
   "source": [
    "# Q: you want to write the program to obtain various combinations. How do you take the input?\n",
    "# -  Sets of sets\n",
    "\n",
    "import itertools as itls\n",
    "res = itls.combinations([1,2,3,4, 5], 2)\n",
    "print(set(res))\n",
    "print(type(res)) # <class 'itertools.combinations'>"
   ]
  },
  {
   "cell_type": "code",
   "execution_count": null,
   "id": "ab0fb960",
   "metadata": {},
   "outputs": [
    {
     "name": "stdout",
     "output_type": "stream",
     "text": [
      "7\n",
      "ptvklqi\n",
      "{'ptvklqi': 'https://www.geeksforgeeks.org/'}\n",
      "https://tinyurl.com/ptvklqi\n",
      "\n",
      "mxzmuis\n",
      "None\n"
     ]
    }
   ],
   "source": [
    "# How would you build a TinyURL service?\n",
    "# URL full form :-  Uniform Resource Locator\n",
    "# TinyURL :- https://tinyurl.com/2p8f4b3m  (example)\n",
    "\n",
    "\n",
    "# Dictionary/Hashtable has <K, V> pairs\n",
    "# K: short URL, V: long URL\n",
    "\n",
    "# key : random variable length alphabetic suffix\n",
    "\n",
    "import random\n",
    "import string\n",
    "\n",
    "d = {}\n",
    "\n",
    "# given a long URL, get a short URL\n",
    "def short_url(long_url):\n",
    "    # length = random value in 6 - 10\n",
    "    length = random.randint(6, 10)\n",
    "    print(length) # random length number generated\n",
    "\n",
    "    # Generate random character into a string of length 1\n",
    "    chars = string.ascii_lowercase\n",
    "    short_url = ''.join(random.choice(chars) for i in range(length))\n",
    "    print(short_url) # random string url generated\n",
    "\n",
    "    # check if this string is already present in dictionary 'd'\n",
    "    if short_url in d:\n",
    "        print(\"Collision detected! Generating a new short URL.\")\n",
    "        return short_url(long_url)\n",
    "    else:\n",
    "        d[short_url] = long_url\n",
    "\n",
    "    print(d)\n",
    "    r = \"https://tinyurl.com/\" + short_url\n",
    "    return r\n",
    "\n",
    "print(short_url(\"https://www.geeksforgeeks.org/\")) # https://tinyurl.com/xyz\n",
    "\n",
    "\n",
    "print()\n",
    "\n",
    "\n",
    "def get_Long_url(short_url):\n",
    "    # Extract the key from the short URL\n",
    "    key = short_url[25:]\n",
    "    print(key) \n",
    "\n",
    "    if key in d:\n",
    "        return d[key]\n",
    "    else:\n",
    "        return None\n",
    "\n",
    "print(get_Long_url(\"https://www.shortURL.com/mxzmuis\"))"
   ]
  },
  {
   "cell_type": "code",
   "execution_count": null,
   "id": "75d2c435",
   "metadata": {},
   "outputs": [
    {
     "name": "stdout",
     "output_type": "stream",
     "text": [
      "[4]\n"
     ]
    }
   ],
   "source": [
    "# Qno: Find Common element in 3 lists\n",
    "# l_1 = [1, 2, 3, 4] \n",
    "# l_2 = [3, 4, 5]\n",
    "# l_3 = [1, 4, 6, 7, 8]\n",
    "\n",
    "# result = [4]\n",
    "\n",
    "\n",
    "# Approach 1: Using Sets\n",
    "l_1 = [1, 2, 3, 4]\n",
    "l_2 = [3, 4, 5]\n",
    "l_3 = [1, 4, 6, 7, 8]\n",
    "\n",
    "set1 = set(l_1)\n",
    "set2 = set(l_2)\n",
    "set3 = set(l_3)\n",
    "\n",
    "result = list(set1.intersection(set2).intersection(set3))\n",
    "print(result) # [4]"
   ]
  },
  {
   "cell_type": "code",
   "execution_count": null,
   "id": "4d74788d",
   "metadata": {},
   "outputs": [],
   "source": [
    "# Exercise : Find all documents which contain search keywords and phrases.?\n",
    "# Approach : dictionary  K : word , V : set of documents"
   ]
  },
  {
   "cell_type": "code",
   "execution_count": null,
   "id": "627ddcd6",
   "metadata": {},
   "outputs": [],
   "source": [
    "# IDEA: We have dictionary 'd' and these two functions(get_Long_url, short_url) that operate on 'd'. Why not put all these three in a single logical block?\n",
    "\n",
    "#    - that's Where \"Classes\" comes in! Next session : Basic OOP in Python(for ML).\n",
    "#    - We  will build a short URL service using a class."
   ]
  }
 ],
 "metadata": {
  "kernelspec": {
   "display_name": "Python 3",
   "language": "python",
   "name": "python3"
  },
  "language_info": {
   "codemirror_mode": {
    "name": "ipython",
    "version": 3
   },
   "file_extension": ".py",
   "mimetype": "text/x-python",
   "name": "python",
   "nbconvert_exporter": "python",
   "pygments_lexer": "ipython3",
   "version": "3.11.8"
  }
 },
 "nbformat": 4,
 "nbformat_minor": 5
}
