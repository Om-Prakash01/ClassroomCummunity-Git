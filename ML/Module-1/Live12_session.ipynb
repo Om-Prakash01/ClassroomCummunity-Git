{
 "cells": [
  {
   "cell_type": "markdown",
   "id": "ab65fb4f",
   "metadata": {},
   "source": [
    "# Using Web-APIs in Python for Machine Learning ."
   ]
  },
  {
   "cell_type": "code",
   "execution_count": 38,
   "id": "9fc5374c",
   "metadata": {},
   "outputs": [],
   "source": [
    "#   Agenda : - \n",
    "#  - what is a web-API?\n",
    "#  - Code-walkthrough : Speech to text using Google cloud API.\n",
    "#  - Code: Data-Collection using Bing API(Azure)."
   ]
  },
  {
   "cell_type": "code",
   "execution_count": null,
   "id": "79a829bc",
   "metadata": {},
   "outputs": [],
   "source": [
    "# CREATE A API-KEY , for that  # GOOGLE cloud api"
   ]
  },
  {
   "cell_type": "code",
   "execution_count": 40,
   "id": "264bb1ba",
   "metadata": {},
   "outputs": [],
   "source": [
    "# from google.colab import drive # to use google drive as disk\n",
    "# drive.mount('/content/gdrive/') # mounting gdrive "
   ]
  },
  {
   "cell_type": "code",
   "execution_count": 41,
   "id": "d2bd4630",
   "metadata": {},
   "outputs": [],
   "source": [
    "# %cd /content/gdrive/My \\Drive/Live\\ Sessions/24_Feb_2020/SpeechToText\n",
    "# !ls "
   ]
  },
  {
   "cell_type": "markdown",
   "id": "1d991cba",
   "metadata": {},
   "source": [
    "# Preparing environment for this speech to text api.\n",
    "#   - Create an environment with python3"
   ]
  },
  {
   "cell_type": "code",
   "execution_count": 42,
   "id": "49e76d20",
   "metadata": {},
   "outputs": [],
   "source": [
    "# !cat requirements.txt # libraries required # linux command\n",
    "# !pip install -r requirements.txt # installing libraries as needed.\n",
    "\n",
    "# Divide the source into multiple parts (audio file) for the text\n",
    "# many more but i don't understand ...."
   ]
  },
  {
   "cell_type": "code",
   "execution_count": 43,
   "id": "0934d58f",
   "metadata": {},
   "outputs": [
    {
     "name": "stdout",
     "output_type": "stream",
     "text": [
      "<multiprocessing.pool.ThreadPool state=RUN pool_size=8>\n"
     ]
    }
   ],
   "source": [
    "import speech_recognition as sr\n",
    "import os\n",
    "\n",
    "from tqdm import tqdm\n",
    "\n",
    "from multiprocessing.dummy import Pool\n",
    "pool = Pool(8) # Number of concurrent threads\n",
    "print(pool)\n"
   ]
  },
  {
   "cell_type": "code",
   "execution_count": 44,
   "id": "dcde6120",
   "metadata": {},
   "outputs": [],
   "source": [
    "# Read the file contents of api-key.json file\n",
    "# with open(\"api-key.json\") as f:\n",
    "    # GOOGLE_CLOUD_SPEECH_CREDENTIALS = f.read()"
   ]
  },
  {
   "cell_type": "code",
   "execution_count": 45,
   "id": "70353a02",
   "metadata": {},
   "outputs": [],
   "source": [
    "# GOOGLE_CLOUD_SPEECH_CREDENTIALS[:100] + '....' # use your our api-key (i don't have .)"
   ]
  },
  {
   "cell_type": "code",
   "execution_count": 46,
   "id": "9ea2cc45",
   "metadata": {},
   "outputs": [],
   "source": [
    "# get the recognizer from the speech_recognition api\n",
    "# r = sr.Recognizer()\n",
    "# print(r)"
   ]
  },
  {
   "cell_type": "code",
   "execution_count": 47,
   "id": "b7df821a",
   "metadata": {},
   "outputs": [],
   "source": [
    "# get the list of all the files that we want to convert\n",
    "# files = sorted(os.listdir('parts/'))\n",
    "# print(files)"
   ]
  },
  {
   "cell_type": "markdown",
   "id": "e5c54d31",
   "metadata": {},
   "source": [
    "# Function to convert the audio to txt"
   ]
  },
  {
   "cell_type": "code",
   "execution_count": 48,
   "id": "08dffc41",
   "metadata": {},
   "outputs": [],
   "source": [
    "# name = 'parts/' + files[0]\n",
    "# from IPython.display import Audio\n",
    "# Audio(name)"
   ]
  },
  {
   "cell_type": "code",
   "execution_count": 49,
   "id": "c172bbf0",
   "metadata": {},
   "outputs": [],
   "source": [
    "# Load audio file\n",
    "# with sr.AudioFile(name) as source:\n",
    "    # audio = r.record(source)\n",
    "# print(audio)"
   ]
  },
  {
   "cell_type": "code",
   "execution_count": 50,
   "id": "29ea3875",
   "metadata": {},
   "outputs": [],
   "source": [
    "# Transcribe audio file\n",
    "# text = r.recognize_google_cloud(\n",
    "#     audio, \n",
    "#     credentials_json = GOOGLE_CLOUD_SPEECH_CREDENTIALS\n",
    "# )\n",
    "\n",
    "# print(text)"
   ]
  },
  {
   "cell_type": "code",
   "execution_count": 51,
   "id": "2c1a3815",
   "metadata": {},
   "outputs": [],
   "source": [
    "# def transcribe(data):\n",
    "#     idx, file = data\n",
    "#     name = \"parts/\" + file\n",
    "#     print(name + \" started\")\n",
    "#     # Load audio file\n",
    "\n",
    "#     with sr.AudioFile(name) as source:\n",
    "#         audio = r.record(source)\n",
    "\n",
    "#     # Transcribe audio file \n",
    "#     text = r.recognize_google_cloud(audio, credentials_json=GOOGLE_SPEECH_CREDENTIALS)\n",
    "#     print(name + \"done\")\n",
    "#     return {\n",
    "#         \"idx\" : idx,\n",
    "#         \"text\": text\n",
    "#     }"
   ]
  },
  {
   "cell_type": "code",
   "execution_count": 52,
   "id": "6f80ee9c",
   "metadata": {},
   "outputs": [],
   "source": [
    "# running them in parallel to make ot faster\n",
    "# all_text = pool.map(transcribe, enumerate(files))\n",
    "\n",
    "# pool.close()\n",
    "# pool.join()\n",
    "\n",
    "# print(all_text)"
   ]
  },
  {
   "cell_type": "markdown",
   "id": "361df35c",
   "metadata": {},
   "source": [
    "# Bing - Search APIs: (Microsoft Azure)"
   ]
  },
  {
   "cell_type": "code",
   "execution_count": null,
   "id": "6821609d",
   "metadata": {},
   "outputs": [],
   "source": [
    "# Let's build the API-Calling from scratch.  request and response : (result in json...)"
   ]
  },
  {
   "cell_type": "markdown",
   "id": "57876ede",
   "metadata": {},
   "source": [
    "# Steps to signup for the API\n",
    "#   - Go to the url and follow the steps Under bingSearch APIs v7 section. Most of it's self explanatory\n",
    "#   - go to website of Microsoft Azure ...\n",
    "#   - After signing up, you will get couple of keys which are valid for 7 days, copy and use them here. "
   ]
  },
  {
   "cell_type": "markdown",
   "id": "053f8180",
   "metadata": {},
   "source": [
    "# - API keys adding them to envs"
   ]
  },
  {
   "cell_type": "code",
   "execution_count": 54,
   "id": "a66d1e9e",
   "metadata": {},
   "outputs": [],
   "source": [
    "# keys 1 :  \n",
    "# keys 2 : \n",
    "\n",
    "# get your own api - keys"
   ]
  },
  {
   "cell_type": "code",
   "execution_count": 55,
   "metadata": {},
   "outputs": [],
   "source": [
    "# BING_SEARCH_V7_SUBSCRIPTION_KEY = input(\"subscription key : \")"
   ]
  },
  {
   "cell_type": "code",
   "execution_count": 56,
   "id": "fc5ece7f",
   "metadata": {},
   "outputs": [],
   "source": [
    "import os \n",
    "\n",
    "#  add your bing search v7 subscription key and endpoint to your environment variables.\n",
    "# os.environ['BING_SEARCH_V7_SUBSCRIPTION_KEY'] = BING_SEARCH_V7_SUBSCRIPTION_KEY"
   ]
  },
  {
   "cell_type": "markdown",
   "id": "3933132a",
   "metadata": {},
   "source": [
    "# Using the Bing search API with key"
   ]
  },
  {
   "cell_type": "markdown",
   "id": "a1b73c01",
   "metadata": {},
   "source": [
    "Query - 1"
   ]
  },
  {
   "cell_type": "code",
   "execution_count": 57,
   "id": "f4bb08be",
   "metadata": {},
   "outputs": [],
   "source": [
    "import json \n",
    "import os \n",
    "from pprint import pprint\n",
    "import requests"
   ]
  },
  {
   "cell_type": "code",
   "execution_count": 58,
   "id": "62c852ec",
   "metadata": {},
   "outputs": [],
   "source": [
    "# query = \"Microsoft Cognitive Services\"\n",
    "# print(query)"
   ]
  },
  {
   "cell_type": "code",
   "execution_count": 59,
   "id": "62be3a5a",
   "metadata": {},
   "outputs": [],
   "source": [
    "# headers = {\n",
    "#     # Request headers\n",
    "#     'Ocp-subscription-key' : os.environ['BING_SEARCH_V7_SUBSCRIPTION_KEY'],\n",
    "# }"
   ]
  },
  {
   "cell_type": "code",
   "execution_count": 60,
   "id": "c0dd932e",
   "metadata": {},
   "outputs": [],
   "source": [
    "import http.client, urllib.request, urllib.parse, urllib.error, base64\n",
    "import json\n",
    "\n",
    "# def search(query, offset=0, count = 10):\n",
    "#     params = urllib.parse.urlencode({\n",
    "#         # Request parameters\n",
    "#         'q' : query,\n",
    "#         'count' : count,\n",
    "#         'offset' : offset,\n",
    "#         'mkt' : 'en-us',\n",
    "#         'safesearch' : 'Moderate',\n",
    "#     })\n",
    "\n",
    "\n",
    "#     try:\n",
    "#         conn = http.client.HTTPSConnection('api.cognitive.microsoft.com') \n",
    "#         conn.request(\"GET\", \"/bing/v7.0/search?%s\" % params, \"{body}\", headers)\n",
    "#         response = conn.getresponse()\n",
    "#         data = response.read()\n",
    "#         conn.close()\n",
    "#     except Exception as e:\n",
    "#         print(\"[Errno {0}] {1}\". format(e.errno, e.strerror))\n",
    "\n",
    "#     return json.loads(data)"
   ]
  },
  {
   "cell_type": "code",
   "execution_count": 61,
   "id": "962f2748",
   "metadata": {},
   "outputs": [],
   "source": [
    "# res = search(query, offset=0, count=5)\n",
    "# res.keys()\n",
    "# for k,v in res.items():\n",
    "#     print(\"{:15s} : {}\".format(k,v))"
   ]
  },
  {
   "cell_type": "markdown",
   "id": "ab7b34ba",
   "metadata": {},
   "source": [
    "# Web Pages : -"
   ]
  },
  {
   "cell_type": "code",
   "execution_count": 62,
   "id": "6e889eda",
   "metadata": {},
   "outputs": [],
   "source": [
    "# for k,v in res['webPages'].items():\n",
    "#     print(\"{:23s} : {}\".format(k,v))"
   ]
  },
  {
   "cell_type": "code",
   "execution_count": 63,
   "id": "7025f2c6",
   "metadata": {},
   "outputs": [],
   "source": [
    "# for page in res['webPages']['value']:\n",
    "#     print(page.keys())"
   ]
  },
  {
   "cell_type": "code",
   "execution_count": 64,
   "id": "606e6f4e",
   "metadata": {},
   "outputs": [],
   "source": [
    "# for page in res['webPages']['value']:\n",
    "#     for k,v in page.items():\n",
    "#         print(\"{:17s} : {}\" .format(k, v))\n",
    "#     print('='*30) "
   ]
  },
  {
   "cell_type": "markdown",
   "id": "26582b63",
   "metadata": {},
   "source": [
    "# Related Searches\n",
    "#   - These will appear on the bottom of each webpage"
   ]
  },
  {
   "cell_type": "code",
   "execution_count": 65,
   "id": "24375f21",
   "metadata": {},
   "outputs": [],
   "source": [
    "# res['relatedSearches']['value'][0]"
   ]
  },
  {
   "cell_type": "code",
   "execution_count": 66,
   "metadata": {},
   "outputs": [],
   "source": [
    "# get the webpage results from the search results\n",
    "# for rs in res['relatedSearches']['value']:\n",
    "#     print(f\"\\n{rs['text']} :-- {rs['displayText']}\\n\\t{rs['webSearchUrl']}\")"
   ]
  },
  {
   "cell_type": "markdown",
   "id": "38b1dd67",
   "metadata": {},
   "source": [
    "# video's"
   ]
  },
  {
   "cell_type": "code",
   "execution_count": 67,
   "id": "295c1c17",
   "metadata": {},
   "outputs": [],
   "source": [
    "# res['videos'].keys()"
   ]
  },
  {
   "cell_type": "code",
   "execution_count": 68,
   "id": "8af86b11",
   "metadata": {},
   "outputs": [],
   "source": [
    "# for k,v in res['videos'].items():\n",
    "#     print(\"{:17s} : {}\".format(k,v))"
   ]
  },
  {
   "cell_type": "code",
   "execution_count": 69,
   "id": "d2bbff4e",
   "metadata": {},
   "outputs": [],
   "source": [
    "# for video in res['videos']['value']:\n",
    "#     for k,v in video.items():\n",
    "#         print('{:20s} : {}' .format(k, v))\n",
    "#     print('-' * 100, '\\n')"
   ]
  },
  {
   "cell_type": "code",
   "execution_count": 70,
   "id": "45eee436",
   "metadata": {},
   "outputs": [],
   "source": [
    "# for item in res['rankingResponse']['mainline']['items']:\n",
    "#     for k,v in item.items():\n",
    "#         print('{:15s} : {}'.format(k,v))\n",
    "#     print('-' * 50, '\\n')"
   ]
  },
  {
   "cell_type": "markdown",
   "id": "c7fa0691",
   "metadata": {},
   "source": [
    "# Query - 2\n",
    "#   - if you search for some persons , you will get some images and entities"
   ]
  },
  {
   "cell_type": "code",
   "execution_count": 71,
   "id": "267cad60",
   "metadata": {},
   "outputs": [],
   "source": [
    "# res = search(\"Srikant varma chekuri\")\n",
    "# res.keys()\n",
    "# for k,v in res.items():\n",
    "#     print(\"{:15s} : {}\".format(k,v))"
   ]
  },
  {
   "cell_type": "code",
   "execution_count": 73,
   "id": "d868ec8d",
   "metadata": {},
   "outputs": [],
   "source": [
    "# for k, v in res['queryContext'].items():\n",
    "#     print('{:25s} : {}'.format(k,v))"
   ]
  },
  {
   "cell_type": "markdown",
   "id": "8026399c",
   "metadata": {},
   "source": [
    "# Images : -\n"
   ]
  },
  {
   "cell_type": "code",
   "execution_count": null,
   "id": "5a10620b",
   "metadata": {},
   "outputs": [],
   "source": [
    "# for k,v in res['images'].items():\n",
    "#     if k != 'value':\n",
    "#         print('{:20s}: {}'.format(k,v))"
   ]
  },
  {
   "cell_type": "code",
   "execution_count": null,
   "metadata": {},
   "outputs": [],
   "source": [
    "# for val in res['images']['value']:\n",
    "#     for k,v in val.items():\n",
    "#         print('{:20s} : {}'.format(k,v))\n",
    "#     print('-'*20, '\\n')"
   ]
  },
  {
   "cell_type": "markdown",
   "id": "88ef149f",
   "metadata": {},
   "source": [
    "# Bing Image Search API"
   ]
  },
  {
   "cell_type": "code",
   "execution_count": null,
   "metadata": {},
   "outputs": [],
   "source": [
    "# Helper functions to display the images\n",
    "\n",
    "from PIL import Image\n",
    "import requests\n",
    "import matplotlib.pyplot as plt\n",
    "\n",
    "def show_img(url, title=''):\n",
    "    response = requests.get(url, stream=True)\n",
    "    img = Image.open(response.raw)\n",
    "\n",
    "    plt.imshow(img)\n",
    "    plt.axis('off')\n",
    "    plt.title(title)\n",
    "    plt.show()\n",
    "\n",
    "\n",
    "def search_images(query, offset=0, count=5):\n",
    "\n",
    "    params = urllib.parse.urlencode({\n",
    "        # request parameters\n",
    "        'q' : query,\n",
    "        'count' : count,\n",
    "        'offset' : offset,\n",
    "        'mkt' :'en-us',\n",
    "        'safesearch' : 'Moderate',\n",
    "    })\n",
    "\n",
    "\n",
    "    try:\n",
    "        conn = http.client.HTTPSConnection('api.cognitive.microsoft.com')\n",
    "        conn.request(\"GET\", \"/bing/v7.0/images/search?%s\" % params, \"{body}\", headers)\n",
    "        response = conn.getresponse()\n",
    "        data = response.read()\n",
    "        conn.close()\n",
    "    except Exception as e:\n",
    "        print(\"[Errno {0}] {1}\". format(e.errno, e.strerror))\n",
    "\n",
    "    return json.loads(data)\n",
    "    \n"
   ]
  },
  {
   "cell_type": "code",
   "execution_count": null,
   "id": "7a455d78",
   "metadata": {},
   "outputs": [],
   "source": [
    "# EXample searching \n",
    "# res = search_images(\"Bill gates\", offset=0, count=4)\n",
    "# for k,v in res.items():\n",
    "#     print(\"{:21s} : {}\".format(k, v))"
   ]
  },
  {
   "cell_type": "code",
   "execution_count": null,
   "metadata": {},
   "outputs": [],
   "source": [
    "# QueryExpansions\n",
    "# for qe in res['queryExpansions'][:10]:\n",
    "#     for k,v in qe.items():\n",
    "#         print('{:10s}: {}'.format(k,v))\n",
    "#     print('-'*50, '\\n')"
   ]
  },
  {
   "cell_type": "markdown",
   "id": "a9716642",
   "metadata": {},
   "source": [
    "# Pivot Suggestions"
   ]
  },
  {
   "cell_type": "code",
   "execution_count": 3,
   "id": "b5fe456a",
   "metadata": {},
   "outputs": [],
   "source": [
    "# res['pivotSuggestions'][0]['pivot']"
   ]
  },
  {
   "cell_type": "code",
   "execution_count": null,
   "id": "0d6d0f26",
   "metadata": {},
   "outputs": [],
   "source": [
    "# for s in res['pivotSuggestions'][0]['suggestions']:\n",
    "#     for k, v in s.items():\n",
    "#         print('{:10s}: {}'.format(k,v))\n",
    "#     print('-'*50, '\\n')"
   ]
  },
  {
   "cell_type": "markdown",
   "id": "bce5640d",
   "metadata": {},
   "source": [
    "# Image Search results :-"
   ]
  },
  {
   "cell_type": "code",
   "execution_count": null,
   "id": "37e67017",
   "metadata": {},
   "outputs": [],
   "source": [
    "for val in res['value']:\n",
    "    show_img(val['thumbnailUrl'])\n",
    "    for k,v in val.items():\n",
    "        print('{:10s}: {}'.format(k,v))\n",
    "    print('-'*50, '\\n')"
   ]
  },
  {
   "cell_type": "markdown",
   "id": "0b958329",
   "metadata": {},
   "source": [
    "# Final Notes :-\n",
    "#   - We can use this image search api to collect images of a specific person OR specific etc. The applications are limitless.\n",
    "\n",
    "# Example:\n",
    "#   - Collect all cellphone images to train a model to train a model to detect cell phone in an image\n",
    "#   - Collect all the weapon images like guns, knives to prevent people entering with weapons into some specific places like temples or schools."
   ]
  }
 ],
 "metadata": {
  "kernelspec": {
   "display_name": "Python 3",
   "language": "python",
   "name": "python3"
  },
  "language_info": {
   "codemirror_mode": {
    "name": "ipython",
    "version": 3
   },
   "file_extension": ".py",
   "mimetype": "text/x-python",
   "name": "python",
   "nbconvert_exporter": "python",
   "pygments_lexer": "ipython3",
   "version": "3.11.8"
  }
 },
 "nbformat": 4,
 "nbformat_minor": 5
}
