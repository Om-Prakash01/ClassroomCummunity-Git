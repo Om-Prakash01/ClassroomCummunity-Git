{
 "cells": [
  {
   "cell_type": "code",
   "execution_count": null,
   "id": "a8ec4c49-1569-44e4-be5a-42a8892679f6",
   "metadata": {},
   "outputs": [],
   "source": [
    "# Live 3: let's solve slighty 'harder' problems tha in the previous session "
   ]
  },
  {
   "cell_type": "code",
   "execution_count": null,
   "id": "4117e88b-d767-4066-906b-156cc7b6c46d",
   "metadata": {},
   "outputs": [],
   "source": [
    "# Problem 5: Find maxima of a function sin(x)/x in [-2, 2]\n",
    "#    - Maxima & derivative\n",
    "#    - what is a directive intuitively? [SLOPE]\n",
    "#    - How to compute derivative/slope?\n"
   ]
  },
  {
   "cell_type": "code",
   "execution_count": null,
   "id": "3d669d02-318a-44ab-8175-066f86a8eb84",
   "metadata": {},
   "outputs": [],
   "source": [
    "#   IDEAS:\n",
    "# Approach 1: Compute derivative of f(x) = sin(x)/x and equate that to zero. Not programmatically elegant!"
   ]
  },
  {
   "cell_type": "code",
   "execution_count": null,
   "id": "6c6daa5b-d53c-4f88-9e95-24ba6b759ef3",
   "metadata": {},
   "outputs": [],
   "source": [
    "# key observation : Always look at the plots \n",
    "# The slope change from +ve to -ve around the maxima. x"
   ]
  },
  {
   "cell_type": "code",
   "execution_count": null,
   "id": "98a743ef-7dd6-491e-a388-8026cb071f92",
   "metadata": {},
   "outputs": [],
   "source": [
    "# Binary search based method for finding x such that slope of f(x) at x is zero."
   ]
  },
  {
   "cell_type": "code",
   "execution_count": null,
   "id": "235673db-eee0-43a0-bd89-c946b938ea3e",
   "metadata": {},
   "outputs": [
    {
     "name": "stdout",
     "output_type": "stream",
     "text": [
      "-1.66666658252268e-05\n",
      "x: 0.0\t slopeF(x): -1.66666658252268e-05\n"
     ]
    }
   ],
   "source": [
    "# f(x) = sin(x)/x\n",
    "import math \n",
    "import random\n",
    "\n",
    "def fun(x):  # f(x)\n",
    "    if x != 0:\n",
    "        return math.sin(x)/x\n",
    "    else:\n",
    "        return 1.0\n",
    "\n",
    "# return f'(x) = derivative of f(x) at x without computing the derivative explicitly\n",
    "def slopeF(x):\n",
    "    delta = 0.0001\n",
    "    return (fun(x + delta) - fun(x)) / delta\n",
    "\n",
    "print(slopeF(0))  # test case\n",
    "\n",
    "\n",
    "# Same bisection-method code as earlier. just change the fun(x) to slopeF(x)\n",
    "# init\n",
    "x_l = -2\n",
    "x_u = +2\n",
    "x = (x_u + x_l) / 2  # middle point\n",
    "\n",
    "# iterate\n",
    "while True:  # always true \n",
    "    if math.isnan(slopeF(x)):  # FIX NAN case with random perturbation of x.\n",
    "        x = x + random.random()/100\n",
    "\n",
    "    if abs(slopeF(x)) < 0.0001:  # BREAK condition\n",
    "        break\n",
    "\n",
    "    x = (x_u + x_l) / 2  # middle point\n",
    "    if slopeF(x) > 0:\n",
    "        x_l = x  # adjust lower bound\n",
    "    else:\n",
    "        x_u = x  # adjust upper bound\n",
    "\n",
    "    print(slopeF(x), x_l, x_u)\n",
    "\n",
    "print(\"x: \" + str(x) + \"\\t slopeF(x): \" + str(slopeF(x)))"
   ]
  },
  {
   "cell_type": "code",
   "execution_count": 6,
   "id": "c2c5f246-c695-4888-9b19-25b136e55f4a",
   "metadata": {},
   "outputs": [
    {
     "name": "stdout",
     "output_type": "stream",
     "text": [
      "x: 0.0\t slopeF(x): -1.66666658252268e-05\n"
     ]
    }
   ],
   "source": [
    "# # Same bisection-method code as ealier. just change the fun(x) to slopeF(x)\n",
    "\n",
    "# # init\n",
    "# x_l = -2\n",
    "# x_u = +2\n",
    "# x = (x_u + x_l) / 2 \n",
    "\n",
    "# # iterate\n",
    "# while True:  # always true \n",
    "#     if math.isnan(slopeF(x)):  # FIX NAN case with random perturbation of x.\n",
    "#         x = x + random.random()/100\n",
    "\n",
    "#     if abs(slopeF(x)) < 0.0001:  # BREAK condition\n",
    "#         break\n",
    "\n",
    "#     x = (x_u + x_l) / 2  # middle point\n",
    "#     if slopeF(x) > 0:\n",
    "#         x_l = x  # adjust lower bound\n",
    "#     else:\n",
    "#         x_u = x  # adjust upper bound\n",
    "\n",
    "#     print(slopeF(x), x_l, x_u)\n",
    "\n",
    "# print(\"x: \" + str(x) + \"\\t slopeF(x): \" + str(slopeF(x)))"
   ]
  },
  {
   "cell_type": "code",
   "execution_count": null,
   "id": "4f77f93f-28ba-4284-9bbd-feb09fd27350",
   "metadata": {},
   "outputs": [],
   "source": [
    "# Exercise: Compute maxima and minima of x^2 + sin(x)+2*x on this function\n"
   ]
  },
  {
   "cell_type": "code",
   "execution_count": 7,
   "id": "dda2be79-3df3-4818-b788-b11efa6dd2fb",
   "metadata": {},
   "outputs": [],
   "source": [
    "# Problem 6:  Find if two circle intersect at exactly on point or not ?\n",
    "# How to represent circles?"
   ]
  },
  {
   "cell_type": "code",
   "execution_count": 13,
   "id": "abff1f9d-e627-459f-b7c1-e428cf1b3daa",
   "metadata": {},
   "outputs": [
    {
     "name": "stdout",
     "output_type": "stream",
     "text": [
      "Circle 1:  3.0 0.0 3.0\n"
     ]
    },
    {
     "name": "stdout",
     "output_type": "stream",
     "text": [
      "3.0 0.0 1.0\n"
     ]
    }
   ],
   "source": [
    "# 1. Take input from user for circle 1\n",
    "c1_x, c1_y, c1_r = map(float, input(\"Circle 1: \").split()) # map is a very useful in-built function in python.\n",
    "print(c1_x, c1_y, c1_r)"
   ]
  },
  {
   "cell_type": "code",
   "execution_count": 15,
   "id": "d677cfa8-9928-4f90-9a2f-fe735bd70549",
   "metadata": {},
   "outputs": [
    {
     "name": "stdout",
     "output_type": "stream",
     "text": [
      "Circle 2:  -1.0 0.0 1.0\n"
     ]
    },
    {
     "name": "stdout",
     "output_type": "stream",
     "text": [
      "-1.0 0.0 1.0\n"
     ]
    }
   ],
   "source": [
    "# 2. Take input from user for circle 2\n",
    "c2_x, c2_y, c2_r = map(float, input(\"Circle 2: \").split())\n",
    "print(c2_x, c2_y, c2_r)"
   ]
  },
  {
   "cell_type": "code",
   "execution_count": 18,
   "id": "5cf3b8d9-980b-4a7c-9a38-904146bc9aa1",
   "metadata": {},
   "outputs": [
    {
     "name": "stdout",
     "output_type": "stream",
     "text": [
      "One intersection\n"
     ]
    }
   ],
   "source": [
    "# 3. Calculate distance between two circles\n",
    "distance_1_2 = math.sqrt((c2_x - c1_x)**2 + (c2_y - c1_y)**2)\n",
    "if distance_1_2 == c1_r + c2_r:\n",
    "    print(\"One intersection\")\n",
    "else:\n",
    "    print(\"NOT one intersection\")"
   ]
  },
  {
   "cell_type": "code",
   "execution_count": null,
   "id": "3c8746fc-9ecd-4249-8716-9c97bd755589",
   "metadata": {},
   "outputs": [],
   "source": [
    "import math\n",
    "\n",
    "# Get input for first circle\n",
    "print(\"Enter circle 1 (x y radius):\")\n",
    "c1_x, c1_y, c1_r = map(float, input().split())\n",
    "\n",
    "# Get input for second circle\n",
    "print(\"Enter circle 2 (x y radius):\")\n",
    "c2_x, c2_y, c2_r = map(float, input().split())\n",
    "\n",
    "# Calculate distance between circle centers\n",
    "distance = math.sqrt((c2_x - c1_x)**2 + (c2_y - c1_y)**2)\n",
    "\n",
    "# Check for single intersection point\n",
    "if abs(distance - (c1_r + c2_r)) < 0.0001:  # External tangency\n",
    "    print(\"One intersection point\")\n",
    "elif abs(distance - abs(c1_r - c2_r)) < 0.0001 and distance > 0:  # Internal tangency\n",
    "    print(\"One intersection point\")\n",
    "else:\n",
    "    print(\"Not exactly one intersection point\")"
   ]
  },
  {
   "cell_type": "code",
   "execution_count": null,
   "id": "404c78a0-4d9d-4305-bd18-339877d47359",
   "metadata": {},
   "outputs": [],
   "source": [
    "# Exercise : Find the two points where the circle intersect, if they intersect at two points."
   ]
  },
  {
   "cell_type": "code",
   "execution_count": 18,
   "id": "50871e8b-a65a-4b27-b96e-0c36c234650b",
   "metadata": {},
   "outputs": [],
   "source": [
    "# problem 7: Print the first 10 digits of a factorial of a large number assuming a limit on the number of digit an int can store.\n",
    "# Python has bignumber which can handle arbitrarily large integers.\n",
    "\n",
    "\n",
    "\n",
    "\n",
    "\n",
    "# Exercise : Implement the logic, we just discussed using simple loops"
   ]
  },
  {
   "cell_type": "code",
   "execution_count": 2,
   "id": "827ba0af-baf9-490d-910e-d77bd1e3f866",
   "metadata": {},
   "outputs": [
    {
     "name": "stdout",
     "output_type": "stream",
     "text": [
      "3628800\n",
      "<class 'int'>\n",
      "93326215443944152681699238856266700490715968264381621468592963895217599993229915608941463976156518286253697920827223758251185210916864000000000000000000000000\n"
     ]
    }
   ],
   "source": [
    "def fact(num):\n",
    "    factorial = 1\n",
    "    for i in range(1, num + 1):\n",
    "        factorial *= i\n",
    "    return factorial\n",
    "\n",
    "print(fact(10))\n",
    "print(type(fact(100)))\n",
    "\n",
    "print(fact(100))"
   ]
  },
  {
   "cell_type": "code",
   "execution_count": 20,
   "id": "2a528a36-8ade-4744-87db-4e5f30ee7892",
   "metadata": {},
   "outputs": [],
   "source": [
    "# do it by yourself : Prolems 7"
   ]
  },
  {
   "cell_type": "code",
   "execution_count": 21,
   "id": "d856bc8d-3e8a-4a27-a881-73a169ee8ce7",
   "metadata": {},
   "outputs": [],
   "source": [
    "# Problems 8: Estimate the value of PI?\n",
    "#  - You can only use the formula for area and circumference of a circle in terms of PI.\n",
    "#  - IBM Research interview question"
   ]
  },
  {
   "cell_type": "code",
   "execution_count": 40,
   "id": "1f56b893-cea3-45a4-bed7-3612f1522869",
   "metadata": {},
   "outputs": [
    {
     "name": "stdout",
     "output_type": "stream",
     "text": [
      "3.143096\n"
     ]
    }
   ],
   "source": [
    "# Area of square = 1\n",
    "# Area of circle = PI * 0.5^2 = PI/4\n",
    "\n",
    "# Let now use radomizations [a.k.a monte carlo simulation]\n",
    "# Permutation-test in hypothesis testing in our AI course in another example of monte carlo simulations\n",
    "\n",
    "import random\n",
    "import math\n",
    "\n",
    "def inCircle(x, y):\n",
    "    return math.sqrt((x - 0.5)**2 + (y - 0.5)**2) <= 0.5\n",
    "\n",
    "\n",
    "cntInCircle = 0 # count in circle \n",
    "n = 1000000 #  number of iteration\n",
    "\n",
    "for i in range(n):\n",
    "    x = random.random()\n",
    "    y = random.random()\n",
    "\n",
    "    if inCircle(x, y):\n",
    "        cntInCircle += 1\n",
    "\n",
    "print(cntInCircle/n  * 4)"
   ]
  },
  {
   "cell_type": "code",
   "execution_count": null,
   "id": "ce44961d-602b-422e-9be2-2da87243bc7b",
   "metadata": {},
   "outputs": [],
   "source": []
  }
 ],
 "metadata": {
  "kernelspec": {
   "display_name": "Python 3 (ipykernel)",
   "language": "python",
   "name": "python3"
  },
  "language_info": {
   "codemirror_mode": {
    "name": "ipython",
    "version": 3
   },
   "file_extension": ".py",
   "mimetype": "text/x-python",
   "name": "python",
   "nbconvert_exporter": "python",
   "pygments_lexer": "ipython3",
   "version": "3.11.8"
  }
 },
 "nbformat": 4,
 "nbformat_minor": 5
}
