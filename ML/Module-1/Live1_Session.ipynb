{
 "cells": [
  {
   "cell_type": "code",
   "execution_count": null,
   "id": "e13b6de5-5a55-4d02-ab2a-1deb26224a86",
   "metadata": {},
   "outputs": [],
   "source": [
    " # Objective : Learning to solve basic Python problems\n",
    "    # Module 1 listed .... - SQL\n",
    "\n",
    "# Tackle few simple problems relevant to AI/ML\n",
    "\n",
    "#   - Break a problem into smaller sub-problems.\n",
    "#   - Connecting the dots from sub-problems to coding-concepts.\n",
    "#   - Code-walkthrough + putting it all together.\n",
    "#   - More focus on common errors and mistakes + reading .\n",
    "#   - Exercise-problems for practice.\n",
    "#   - Introduce new concepts as we need."
   ]
  },
  {
   "cell_type": "code",
   "execution_count": null,
   "id": "f02cb66b-7813-4671-86e5-58a88bd4b25b",
   "metadata": {},
   "outputs": [],
   "source": [
    "#  Problem 1: Add two randomly generated Numpy matrices using loops\n",
    "#   - Sub-problems\n",
    "#   - Subproblem ----> Coding concepts\n",
    "#   - Code-walkthrough + Mistakes\n",
    "#   - Exercise: Add two randomly generated Numpy 3D-matrices(tensor) using loops"
   ]
  },
  {
   "cell_type": "code",
   "execution_count": null,
   "id": "8e72f25d-956e-41e9-a062-4f33c6b30acc",
   "metadata": {},
   "outputs": [
    {
     "name": "stdout",
     "output_type": "stream",
     "text": [
      "[[1.39752911 0.28106656 1.2517654  1.60176925]\n",
      " [1.09163095 1.35873052 0.71496602 0.46531215]\n",
      " [0.89036396 1.50607168 0.77768848 0.4563135 ]\n",
      " [1.16545617 1.70898738 0.74742402 1.04259908]\n",
      " [1.80529635 0.70960551 1.30048598 1.8015216 ]]\n"
     ]
    }
   ],
   "source": [
    "#   create random matrix A1 of size 5X4\n",
    "##  Google \" numpy create random matrices\" & Read through the top 4-5 links\n",
    "import numpy as np\n",
    "a1 = np.random.rand(5, 4) # first matrix\n",
    "# COMMON-ERROR: np.random.rand(4,5) wrong way to use this one \n",
    "# print(a1)\n",
    "# print(a1.shape)\n",
    "# print(a1.dtype) # datatype of numpy array is using to store...\n",
    "# print(type(a1)) # type functions \n",
    "\n",
    "a2 = np.random.rand(5, 4) # seconds matrix \n",
    "# print(a2)\n",
    "# print(type(a2))\n",
    "# print(a2.shape)\n",
    "# print(a2.dtype)\n",
    "\n",
    "# using loops for additions two matrices \n",
    "# b[i, j] = a1[i, j] + a2[i, j]\n",
    "(r, c) = a1.shape #getting the shape of the matrix a1\n",
    "b = np.zeros((r, c)) # assigning zeros to the matrix b for storing the result. (pre- allocate matrix B : OPTIMIZATION)\n",
    "for i in range(r):\n",
    "    for j in range(c):\n",
    "        b[i, j] = a1[i, j] + a2[i, j]\n",
    "\n",
    "print(b)"
   ]
  },
  {
   "cell_type": "code",
   "execution_count": 46,
   "id": "3c993edd-83c1-420a-9191-d2eb1dd96234",
   "metadata": {
    "scrolled": true
   },
   "outputs": [
    {
     "name": "stdout",
     "output_type": "stream",
     "text": [
      "[[1.39752911 0.28106656 1.2517654  1.60176925]\n",
      " [1.09163095 1.35873052 0.71496602 0.46531215]\n",
      " [0.89036396 1.50607168 0.77768848 0.4563135 ]\n",
      " [1.16545617 1.70898738 0.74742402 1.04259908]\n",
      " [1.80529635 0.70960551 1.30048598 1.8015216 ]]\n"
     ]
    }
   ],
   "source": [
    "merge_matrix = a1 + a2 # one way of add two matrices : using operator on ndarrays.\n",
    "print(merge_matrix)"
   ]
  },
  {
   "cell_type": "code",
   "execution_count": 47,
   "id": "57ddc5cf-e050-4760-bc0e-1721e210fa50",
   "metadata": {},
   "outputs": [],
   "source": [
    "# Time Complexity :  O(n^2) or you can say O(r*c)\n",
    "# Space COmplexity : O(1)"
   ]
  },
  {
   "cell_type": "code",
   "execution_count": null,
   "id": "b0e0b7aa-5bf2-4651-a87c-d79e89739229",
   "metadata": {},
   "outputs": [
    {
     "name": "stdout",
     "output_type": "stream",
     "text": [
      "[[[0.92744666 0.19901442]\n",
      "  [0.78162715 0.56068359]\n",
      "  [0.26534661 0.25788818]\n",
      "  [0.12890333 0.74923706]]\n",
      "\n",
      " [[0.98321856 0.17351298]\n",
      "  [0.09673598 0.97650555]\n",
      "  [0.86001412 0.06384902]\n",
      "  [0.28174621 0.26887065]]\n",
      "\n",
      " [[0.23883629 0.07217722]\n",
      "  [0.90192466 0.62710227]\n",
      "  [0.56357508 0.13077032]\n",
      "  [0.17962296 0.25987224]]]\n"
     ]
    }
   ],
   "source": [
    "# Exercise : Add two randomly generated Numpy 3D-matrices(tensor) using loops?\n",
    "\n",
    "# HINTS : b[i, j, k] = a1[i, j, k] + a2[i, j, k]\n",
    "# 3D-matrix : (k, r, c)--> (depth, rows, columns)\n",
    "\n",
    "import numpy as np\n",
    "a1 = np.random.rand(3, 4, 2) # first 3D-matrix\n",
    "a2 = np.random.rand(3, 4, 2) # second 3D-matrix\n",
    "print(a1)\n",
    "(k, r, c) = a1.shape #getting the shape of the matrix a1\n",
    "b = np.zeros((k, r, c)) # assigning zeros to the matrix b for storing the result. (pre- allocate matrix B : OPTIMIZATION)\n",
    "for k in range(k):\n",
    "    for i in range(r):\n",
    "        for j in range(c):\n",
    "            b[k, i, j] = a1[k, i, j] + a2[k, i, j]"
   ]
  },
  {
   "cell_type": "code",
   "execution_count": null,
   "id": "406c4b24-1c8e-4c85-bf3f-0eb07bd0d74b",
   "metadata": {},
   "outputs": [],
   "source": [
    "#  Problem 2: Find if a given 2D-point is inside (or) outside a circle ?\n",
    "#   - Subproblem.\n",
    "#   - Subproblem ---> coding concepts\n",
    "#   - putting it all together.\n",
    "#   - Exercise : Find if a given 2D point is inside (or) outside a rectangle?"
   ]
  },
  {
   "cell_type": "code",
   "execution_count": null,
   "id": "4a6689d4-c511-4cb8-aab4-c27d9fffc0ed",
   "metadata": {},
   "outputs": [
    {
     "name": "stdout",
     "output_type": "stream",
     "text": [
      "Enter circle center x (Cx):  0.0\n",
      "Enter circle center y (Cy):  0.0\n",
      "Enter radius of the circle:  5\n",
      "Enter point x (Px):  3\n",
      "Enter point y (Py):  4\n"
     ]
    },
    {
     "name": "stdout",
     "output_type": "stream",
     "text": [
      "5.0\n",
      "Point is on the circle.\n"
     ]
    }
   ],
   "source": [
    "# check if P lies in circle\n",
    "import math \n",
    "## String to Float: very important to note that split() return strings\n",
    "# Inputs: Circle center (Cx, Cy), radius (r), and point (Px, Py)\n",
    "Cx = float(input(\"Enter circle center x (Cx): \")) # 0\n",
    "Cy = float(input(\"Enter circle center y (Cy): \")) # 0\n",
    "r  = float(input(\"Enter radius of the circle: \")) # 5\n",
    "Px = float(input(\"Enter point x (Px): \")) # 3\n",
    "Py = float(input(\"Enter point y (Py): \")) # 4\n",
    "\n",
    "# Calculate distance between point and center using math module\n",
    "distance = math.sqrt((Px - Cx) ** 2 + (Py - Cy) ** 2)\n",
    "print(distance)\n",
    "\n",
    "# Check position\n",
    "if distance < r:\n",
    "    print(\"Point is inside the circle.\")\n",
    "elif distance == r:\n",
    "    print(\"Point is on the circle.\")\n",
    "else:\n",
    "    print(\"Point is outside the circle.\")"
   ]
  },
  {
   "cell_type": "code",
   "execution_count": 3,
   "id": "7bbc06ef-779f-4bbe-9551-a5809156ee8f",
   "metadata": {},
   "outputs": [
    {
     "name": "stdout",
     "output_type": "stream",
     "text": [
      "Enter bottom-left x (x1):  1\n",
      "Enter bottom-left y (y1):  1\n",
      "Enter top-right x (x2):  5\n",
      "Enter top-right y (y2):  4\n",
      "Enter point x (px):  32\n",
      "Enter point y (py):  2\n"
     ]
    },
    {
     "name": "stdout",
     "output_type": "stream",
     "text": [
      "The point is outside the rectangle.\n"
     ]
    }
   ],
   "source": [
    "# Exercise : Find if a point is inside or outside a rectangle\n",
    "# HINT : How do you represent a rectangle ?\n",
    "\n",
    "# Rectangle defined by bottom-left and top-right corners\n",
    "# Take input for rectangle corners\n",
    "x1 = float(input(\"Enter bottom-left x (x1): \"))\n",
    "y1 = float(input(\"Enter bottom-left y (y1): \"))\n",
    "x2 = float(input(\"Enter top-right x (x2): \"))\n",
    "y2 = float(input(\"Enter top-right y (y2): \"))\n",
    "\n",
    "# Take input for the point\n",
    "px = float(input(\"Enter point x (px): \"))\n",
    "py = float(input(\"Enter point y (py): \"))\n",
    "\n",
    "# Check if the point is inside the rectangle\n",
    "if x1 <= px <= x2 and y1 <= py <= y2:\n",
    "    print(\"The point is inside the rectangle.\")\n",
    "else:\n",
    "    print(\"The point is outside the rectangle.\")\n"
   ]
  },
  {
   "cell_type": "code",
   "execution_count": null,
   "id": "b651884a-0755-4851-bb5a-114f02f871be",
   "metadata": {},
   "outputs": [
    {
     "name": "stdout",
     "output_type": "stream",
     "text": [
      "[[0.89519681 0.17409862 0.39699208 0.20819386]\n",
      " [0.85266079 0.53989055 0.68890273 0.21922724]\n",
      " [0.10629776 0.72125327 0.68910459 0.75554063]\n",
      " [0.14183435 0.497447   0.93818517 0.24271292]\n",
      " [0.30257226 0.7233226  0.65266372 0.95093934]]\n"
     ]
    }
   ],
   "source": [
    "# Problem 3 : NumPy ndarray manipulations operations.\n",
    "# 1. Reshape matrices : very COMMON-ERRORS in assignments\n",
    "import numpy as np\n",
    "a = np.random.rand(5, 4)\n",
    "print(a)"
   ]
  },
  {
   "cell_type": "code",
   "execution_count": 26,
   "id": "3a5ba87d-5f9c-412d-95f4-ddc3845493b0",
   "metadata": {},
   "outputs": [
    {
     "name": "stdout",
     "output_type": "stream",
     "text": [
      "[0.89519681 0.85266079 0.10629776 0.14183435 0.30257226 0.17409862\n",
      " 0.53989055 0.72125327 0.497447   0.7233226  0.39699208 0.68890273\n",
      " 0.68910459 0.93818517 0.65266372 0.20819386 0.21922724 0.75554063\n",
      " 0.24271292 0.95093934]\n"
     ]
    }
   ],
   "source": [
    "# Reshape into a vector (\"C\":- row-major-order \n",
    "# Try patiently read the documentation and try alternative params\n",
    "print(np.reshape(a, 20, 'C'))"
   ]
  },
  {
   "cell_type": "code",
   "execution_count": 27,
   "id": "daedb308-1339-4bef-901d-ddf9fb7a83bd",
   "metadata": {},
   "outputs": [
    {
     "name": "stdout",
     "output_type": "stream",
     "text": [
      "[0.89519681 0.85266079 0.10629776 0.14183435 0.30257226 0.17409862\n",
      " 0.53989055 0.72125327 0.497447   0.7233226  0.39699208 0.68890273\n",
      " 0.68910459 0.93818517 0.65266372 0.20819386 0.21922724 0.75554063\n",
      " 0.24271292 0.95093934]\n"
     ]
    }
   ],
   "source": [
    "print(np.reshape(a, 20, 'F')) # ('F'):- columns- major-order"
   ]
  },
  {
   "cell_type": "code",
   "execution_count": 28,
   "id": "06b10776-03f6-430e-b5ed-9799f35303fa",
   "metadata": {},
   "outputs": [
    {
     "name": "stdout",
     "output_type": "stream",
     "text": [
      "[[0.89519681 0.17409862 0.39699208 0.20819386 0.85266079]\n",
      " [0.53989055 0.68890273 0.21922724 0.10629776 0.72125327]\n",
      " [0.68910459 0.75554063 0.14183435 0.497447   0.93818517]\n",
      " [0.24271292 0.30257226 0.7233226  0.65266372 0.95093934]]\n"
     ]
    }
   ],
   "source": [
    "print(np.reshape(a, (4, 5), 'A')) # ('A'):-  5X4 ---> 4X5"
   ]
  },
  {
   "cell_type": "code",
   "execution_count": null,
   "id": "0d80037c-09f6-4cf4-bbe5-9542a0f44696",
   "metadata": {},
   "outputs": [
    {
     "name": "stdout",
     "output_type": "stream",
     "text": [
      "[[[0.03603807 0.75223872 0.8867435  0.68535616 0.93581989 0.98586406]\n",
      "  [0.61345768 0.44844852 0.08108319 0.02627628 0.42908797 0.14582731]\n",
      "  [0.8879344  0.93968839 0.05951432 0.75892407 0.98701654 0.70726766]\n",
      "  [0.5548774  0.06415884 0.1088362  0.75039324 0.16465218 0.89351594]\n",
      "  [0.04700626 0.87727999 0.56794738 0.63226828 0.70235085 0.45966483]]\n",
      "\n",
      " [[0.94607226 0.3102068  0.58989478 0.58451455 0.52835354 0.49952936]\n",
      "  [0.53216271 0.10529164 0.05484458 0.33862773 0.19874005 0.05292193]\n",
      "  [0.43453085 0.85953146 0.56493794 0.33495    0.71558143 0.89505481]\n",
      "  [0.92054952 0.24724574 0.04554851 0.51107732 0.23062683 0.74559784]\n",
      "  [0.60464371 0.90098912 0.16440925 0.96381368 0.74717119 0.67226623]]\n",
      "\n",
      " [[0.94087828 0.34713633 0.40247913 0.6394155  0.68807583 0.27297994]\n",
      "  [0.99069509 0.16203927 0.84222341 0.64582881 0.82788962 0.1135143 ]\n",
      "  [0.44760143 0.81349381 0.33284331 0.3574121  0.23223849 0.08279749]\n",
      "  [0.76711131 0.15067482 0.54393092 0.30965865 0.34319286 0.62880132]\n",
      "  [0.84625894 0.88913874 0.86312208 0.83807833 0.45213087 0.8690512 ]]\n",
      "\n",
      " [[0.55295615 0.3726884  0.46234762 0.2064792  0.15524967 0.62350694]\n",
      "  [0.46733604 0.7048999  0.02114063 0.0281222  0.19696298 0.94113983]\n",
      "  [0.23095762 0.40637289 0.26660151 0.8990656  0.31769886 0.89976503]\n",
      "  [0.30929383 0.82763722 0.12152255 0.98296339 0.38056165 0.74423287]\n",
      "  [0.02156172 0.6554099  0.32044121 0.14096318 0.47186193 0.98546169]]]\n",
      "120\n",
      "<class 'numpy.ndarray'>\n",
      "3\n",
      "\n",
      "***********************************************************\n",
      "\n",
      "\n",
      "[0.03603807 0.75223872 0.8867435  0.68535616 0.93581989 0.98586406\n",
      " 0.61345768 0.44844852 0.08108319 0.02627628 0.42908797 0.14582731\n",
      " 0.8879344  0.93968839 0.05951432 0.75892407 0.98701654 0.70726766\n",
      " 0.5548774  0.06415884 0.1088362  0.75039324 0.16465218 0.89351594\n",
      " 0.04700626 0.87727999 0.56794738 0.63226828 0.70235085 0.45966483\n",
      " 0.94607226 0.3102068  0.58989478 0.58451455 0.52835354 0.49952936\n",
      " 0.53216271 0.10529164 0.05484458 0.33862773 0.19874005 0.05292193\n",
      " 0.43453085 0.85953146 0.56493794 0.33495    0.71558143 0.89505481\n",
      " 0.92054952 0.24724574 0.04554851 0.51107732 0.23062683 0.74559784\n",
      " 0.60464371 0.90098912 0.16440925 0.96381368 0.74717119 0.67226623\n",
      " 0.94087828 0.34713633 0.40247913 0.6394155  0.68807583 0.27297994\n",
      " 0.99069509 0.16203927 0.84222341 0.64582881 0.82788962 0.1135143\n",
      " 0.44760143 0.81349381 0.33284331 0.3574121  0.23223849 0.08279749\n",
      " 0.76711131 0.15067482 0.54393092 0.30965865 0.34319286 0.62880132\n",
      " 0.84625894 0.88913874 0.86312208 0.83807833 0.45213087 0.8690512\n",
      " 0.55295615 0.3726884  0.46234762 0.2064792  0.15524967 0.62350694\n",
      " 0.46733604 0.7048999  0.02114063 0.0281222  0.19696298 0.94113983\n",
      " 0.23095762 0.40637289 0.26660151 0.8990656  0.31769886 0.89976503\n",
      " 0.30929383 0.82763722 0.12152255 0.98296339 0.38056165 0.74423287\n",
      " 0.02156172 0.6554099  0.32044121 0.14096318 0.47186193 0.98546169]\n",
      "\n",
      "***********************************************************\n",
      "\n",
      "[[0.03603807 0.75223872 0.8867435  0.68535616 0.93581989 0.98586406]\n",
      " [0.61345768 0.44844852 0.08108319 0.02627628 0.42908797 0.14582731]\n",
      " [0.8879344  0.93968839 0.05951432 0.75892407 0.98701654 0.70726766]\n",
      " [0.5548774  0.06415884 0.1088362  0.75039324 0.16465218 0.89351594]\n",
      " [0.04700626 0.87727999 0.56794738 0.63226828 0.70235085 0.45966483]\n",
      " [0.94607226 0.3102068  0.58989478 0.58451455 0.52835354 0.49952936]\n",
      " [0.53216271 0.10529164 0.05484458 0.33862773 0.19874005 0.05292193]\n",
      " [0.43453085 0.85953146 0.56493794 0.33495    0.71558143 0.89505481]\n",
      " [0.92054952 0.24724574 0.04554851 0.51107732 0.23062683 0.74559784]\n",
      " [0.60464371 0.90098912 0.16440925 0.96381368 0.74717119 0.67226623]\n",
      " [0.94087828 0.34713633 0.40247913 0.6394155  0.68807583 0.27297994]\n",
      " [0.99069509 0.16203927 0.84222341 0.64582881 0.82788962 0.1135143 ]\n",
      " [0.44760143 0.81349381 0.33284331 0.3574121  0.23223849 0.08279749]\n",
      " [0.76711131 0.15067482 0.54393092 0.30965865 0.34319286 0.62880132]\n",
      " [0.84625894 0.88913874 0.86312208 0.83807833 0.45213087 0.8690512 ]\n",
      " [0.55295615 0.3726884  0.46234762 0.2064792  0.15524967 0.62350694]\n",
      " [0.46733604 0.7048999  0.02114063 0.0281222  0.19696298 0.94113983]\n",
      " [0.23095762 0.40637289 0.26660151 0.8990656  0.31769886 0.89976503]\n",
      " [0.30929383 0.82763722 0.12152255 0.98296339 0.38056165 0.74423287]\n",
      " [0.02156172 0.6554099  0.32044121 0.14096318 0.47186193 0.98546169]]\n"
     ]
    }
   ],
   "source": [
    "# Exercise Problem: take a tensor size 4X5X6(tensor matrix) and convert it into a vector and matrix (10X12). \n",
    "import numpy as np \n",
    "a1 = np.random.rand(4, 5, 6)\n",
    "print(a1)\n",
    "print(a1.size)\n",
    "print(type(a1))\n",
    "print(np.ndim(a1)) # return the dimension of matrix\n",
    "\n",
    "print()\n",
    "print(\"***********************************************************\")\n",
    "print()\n",
    "\n",
    "print()\n",
    "print(np.reshape(a1, 120, 'C')) # 1-D matrix or vector \n",
    "print()\n",
    "print(\"***********************************************************\")\n",
    "print()\n",
    "\n",
    "print(np.reshape(a1, (20, 6), 'C')) # 2-D matrix"
   ]
  },
  {
   "cell_type": "code",
   "execution_count": 67,
   "id": "f755b164-c269-4beb-bf47-a04b90b5d55f",
   "metadata": {},
   "outputs": [
    {
     "name": "stdout",
     "output_type": "stream",
     "text": [
      "[[0.36256411 0.32249338 0.57006786 0.52566945]\n",
      " [0.37988787 0.04687629 0.94308316 0.28763604]\n",
      " [0.3322056  0.19611408 0.74727756 0.9886194 ]\n",
      " [0.24596577 0.30610537 0.17114934 0.6991066 ]\n",
      " [0.35899502 0.44092003 0.093233   0.76072051]]\n",
      "[[0.15577125 0.42015874 0.20157571 0.67015232]\n",
      " [0.31907363 0.40537365 0.19620542 0.72915685]\n",
      " [0.08832673 0.08068863 0.9829082  0.03991595]\n",
      " [0.79326701 0.89152028 0.51508309 0.55314347]]\n"
     ]
    }
   ],
   "source": [
    "#2 Stacking \n",
    "import numpy as np \n",
    "A = np.random.rand(5, 4)\n",
    "B = np.random.rand(4, 4)\n",
    "\n",
    "print(A)\n",
    "print(B)"
   ]
  },
  {
   "cell_type": "code",
   "execution_count": 62,
   "id": "8c80f1df-f30c-4d5a-9611-50c3ec34d532",
   "metadata": {},
   "outputs": [
    {
     "name": "stdout",
     "output_type": "stream",
     "text": [
      "[[0.2107687  0.81959771 0.75468407 0.4094596  0.38024356 0.1676788 ]\n",
      " [0.46636605 0.05454859 0.73339336 0.06626969 0.68206886 0.54097243]\n",
      " [0.14500208 0.69661736 0.63306017 0.06638575 0.75657772 0.16429526]\n",
      " [0.35776568 0.7456776  0.92483313 0.85075813 0.97989186 0.16893271]\n",
      " [0.21918161 0.89904751 0.59646838 0.65953746 0.40263011 0.37753663]]\n"
     ]
    }
   ],
   "source": [
    "# C = [A B]\n",
    "C = np.hstack((A, B)) # hstack:- horizontal stack / read documentation carefully \n",
    "print(C)"
   ]
  },
  {
   "cell_type": "code",
   "execution_count": 68,
   "id": "7bb0ff7a-2163-4db3-b56d-53193fa9fcea",
   "metadata": {},
   "outputs": [
    {
     "name": "stdout",
     "output_type": "stream",
     "text": [
      "[[0.36256411 0.32249338 0.57006786 0.52566945]\n",
      " [0.37988787 0.04687629 0.94308316 0.28763604]\n",
      " [0.3322056  0.19611408 0.74727756 0.9886194 ]\n",
      " [0.24596577 0.30610537 0.17114934 0.6991066 ]\n",
      " [0.35899502 0.44092003 0.093233   0.76072051]\n",
      " [0.15577125 0.42015874 0.20157571 0.67015232]\n",
      " [0.31907363 0.40537365 0.19620542 0.72915685]\n",
      " [0.08832673 0.08068863 0.9829082  0.03991595]\n",
      " [0.79326701 0.89152028 0.51508309 0.55314347]]\n"
     ]
    }
   ],
   "source": [
    "# C = [A B]\n",
    "C = np.vstack((A, B)) # vstack:- Vertical stack / read documentation carefully\n",
    "print(C)"
   ]
  },
  {
   "cell_type": "code",
   "execution_count": 2,
   "id": "46704552-d2c9-46b3-8733-15f175268ffd",
   "metadata": {},
   "outputs": [
    {
     "name": "stdout",
     "output_type": "stream",
     "text": [
      "(5, 4, 3)\n",
      "(5, 3, 3)\n",
      "(5, 7, 3)\n"
     ]
    }
   ],
   "source": [
    "# 3D tensors\n",
    "import numpy as np\n",
    "a = np.random.rand(5, 4, 3) # (height, width, colors) in images is a good way to think of this\n",
    "print(a.shape)\n",
    "b = np.random.rand(5, 3, 3)\n",
    "print(b.shape)\n",
    "\n",
    "c = np.hstack((a, b))\n",
    "print(c.shape)"
   ]
  }
 ],
 "metadata": {
  "kernelspec": {
   "display_name": "Python 3",
   "language": "python",
   "name": "python3"
  },
  "language_info": {
   "codemirror_mode": {
    "name": "ipython",
    "version": 3
   },
   "file_extension": ".py",
   "mimetype": "text/x-python",
   "name": "python",
   "nbconvert_exporter": "python",
   "pygments_lexer": "ipython3",
   "version": "3.11.8"
  }
 },
 "nbformat": 4,
 "nbformat_minor": 5
}
